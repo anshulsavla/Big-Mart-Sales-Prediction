{
 "cells": [
  {
   "cell_type": "markdown",
   "metadata": {},
   "source": [
    "# Sales Prediction for Big Mart Outlets\n",
    "\n",
    "The data scientists at BigMart have collected 2013 sales data for 1559 products across 10 stores in different cities. Also, certain attributes of each product and store have been defined. The aim is to build a predictive model and predict the sales of each product at a particular outlet.\n",
    "\n",
    "Using this model, BigMart will try to understand the properties of products and outlets which play a key role in increasing sales.\n",
    "\n",
    "Please note that the data may have missing values as some stores might not report all the data due to technical glitches. Hence, it will be required to treat them accordingly. "
   ]
  },
  {
   "cell_type": "markdown",
   "metadata": {},
   "source": [
    " # Let's Start !"
   ]
  },
  {
   "cell_type": "code",
   "execution_count": 1,
   "metadata": {},
   "outputs": [],
   "source": [
    "#Importing the basic libraries\n",
    "\n",
    "import numpy as np\n",
    "import pandas as pd\n",
    "import matplotlib.pyplot as plt\n",
    "import seaborn as sns\n",
    "import warnings; warnings.filterwarnings(action='once')\n",
    "plt.style.use('seaborn-whitegrid')\n",
    "sns.set_style(\"white\")"
   ]
  },
  {
   "cell_type": "markdown",
   "metadata": {},
   "source": [
    "For integrity purpose , we wont take a look at the testing dataset . We will be dealing with the testing dataset , once we are absolutely done, with our training dataset"
   ]
  },
  {
   "cell_type": "code",
   "execution_count": 2,
   "metadata": {},
   "outputs": [
    {
     "data": {
      "text/html": [
       "<div>\n",
       "<style scoped>\n",
       "    .dataframe tbody tr th:only-of-type {\n",
       "        vertical-align: middle;\n",
       "    }\n",
       "\n",
       "    .dataframe tbody tr th {\n",
       "        vertical-align: top;\n",
       "    }\n",
       "\n",
       "    .dataframe thead th {\n",
       "        text-align: right;\n",
       "    }\n",
       "</style>\n",
       "<table border=\"1\" class=\"dataframe\">\n",
       "  <thead>\n",
       "    <tr style=\"text-align: right;\">\n",
       "      <th></th>\n",
       "      <th>Item_Identifier</th>\n",
       "      <th>Item_Weight</th>\n",
       "      <th>Item_Fat_Content</th>\n",
       "      <th>Item_Visibility</th>\n",
       "      <th>Item_Type</th>\n",
       "      <th>Item_MRP</th>\n",
       "      <th>Outlet_Identifier</th>\n",
       "      <th>Outlet_Establishment_Year</th>\n",
       "      <th>Outlet_Size</th>\n",
       "      <th>Outlet_Location_Type</th>\n",
       "      <th>Outlet_Type</th>\n",
       "      <th>Item_Outlet_Sales</th>\n",
       "    </tr>\n",
       "  </thead>\n",
       "  <tbody>\n",
       "    <tr>\n",
       "      <td>0</td>\n",
       "      <td>FDA15</td>\n",
       "      <td>9.30</td>\n",
       "      <td>Low Fat</td>\n",
       "      <td>0.016047</td>\n",
       "      <td>Dairy</td>\n",
       "      <td>249.8092</td>\n",
       "      <td>OUT049</td>\n",
       "      <td>1999</td>\n",
       "      <td>Medium</td>\n",
       "      <td>Tier 1</td>\n",
       "      <td>Supermarket Type1</td>\n",
       "      <td>3735.1380</td>\n",
       "    </tr>\n",
       "    <tr>\n",
       "      <td>1</td>\n",
       "      <td>DRC01</td>\n",
       "      <td>5.92</td>\n",
       "      <td>Regular</td>\n",
       "      <td>0.019278</td>\n",
       "      <td>Soft Drinks</td>\n",
       "      <td>48.2692</td>\n",
       "      <td>OUT018</td>\n",
       "      <td>2009</td>\n",
       "      <td>Medium</td>\n",
       "      <td>Tier 3</td>\n",
       "      <td>Supermarket Type2</td>\n",
       "      <td>443.4228</td>\n",
       "    </tr>\n",
       "    <tr>\n",
       "      <td>2</td>\n",
       "      <td>FDN15</td>\n",
       "      <td>17.50</td>\n",
       "      <td>Low Fat</td>\n",
       "      <td>0.016760</td>\n",
       "      <td>Meat</td>\n",
       "      <td>141.6180</td>\n",
       "      <td>OUT049</td>\n",
       "      <td>1999</td>\n",
       "      <td>Medium</td>\n",
       "      <td>Tier 1</td>\n",
       "      <td>Supermarket Type1</td>\n",
       "      <td>2097.2700</td>\n",
       "    </tr>\n",
       "    <tr>\n",
       "      <td>3</td>\n",
       "      <td>FDX07</td>\n",
       "      <td>19.20</td>\n",
       "      <td>Regular</td>\n",
       "      <td>0.000000</td>\n",
       "      <td>Fruits and Vegetables</td>\n",
       "      <td>182.0950</td>\n",
       "      <td>OUT010</td>\n",
       "      <td>1998</td>\n",
       "      <td>NaN</td>\n",
       "      <td>Tier 3</td>\n",
       "      <td>Grocery Store</td>\n",
       "      <td>732.3800</td>\n",
       "    </tr>\n",
       "    <tr>\n",
       "      <td>4</td>\n",
       "      <td>NCD19</td>\n",
       "      <td>8.93</td>\n",
       "      <td>Low Fat</td>\n",
       "      <td>0.000000</td>\n",
       "      <td>Household</td>\n",
       "      <td>53.8614</td>\n",
       "      <td>OUT013</td>\n",
       "      <td>1987</td>\n",
       "      <td>High</td>\n",
       "      <td>Tier 3</td>\n",
       "      <td>Supermarket Type1</td>\n",
       "      <td>994.7052</td>\n",
       "    </tr>\n",
       "  </tbody>\n",
       "</table>\n",
       "</div>"
      ],
      "text/plain": [
       "  Item_Identifier  Item_Weight Item_Fat_Content  Item_Visibility  \\\n",
       "0           FDA15         9.30          Low Fat         0.016047   \n",
       "1           DRC01         5.92          Regular         0.019278   \n",
       "2           FDN15        17.50          Low Fat         0.016760   \n",
       "3           FDX07        19.20          Regular         0.000000   \n",
       "4           NCD19         8.93          Low Fat         0.000000   \n",
       "\n",
       "               Item_Type  Item_MRP Outlet_Identifier  \\\n",
       "0                  Dairy  249.8092            OUT049   \n",
       "1            Soft Drinks   48.2692            OUT018   \n",
       "2                   Meat  141.6180            OUT049   \n",
       "3  Fruits and Vegetables  182.0950            OUT010   \n",
       "4              Household   53.8614            OUT013   \n",
       "\n",
       "   Outlet_Establishment_Year Outlet_Size Outlet_Location_Type  \\\n",
       "0                       1999      Medium               Tier 1   \n",
       "1                       2009      Medium               Tier 3   \n",
       "2                       1999      Medium               Tier 1   \n",
       "3                       1998         NaN               Tier 3   \n",
       "4                       1987        High               Tier 3   \n",
       "\n",
       "         Outlet_Type  Item_Outlet_Sales  \n",
       "0  Supermarket Type1          3735.1380  \n",
       "1  Supermarket Type2           443.4228  \n",
       "2  Supermarket Type1          2097.2700  \n",
       "3      Grocery Store           732.3800  \n",
       "4  Supermarket Type1           994.7052  "
      ]
     },
     "execution_count": 2,
     "metadata": {},
     "output_type": "execute_result"
    }
   ],
   "source": [
    "#Reading the training and testing dataset\n",
    "\n",
    "df = pd.read_csv('train_bigmart.csv')\n",
    "df_test = pd.read_csv('test_bigmart.csv')\n",
    "df.head()"
   ]
  },
  {
   "cell_type": "code",
   "execution_count": 3,
   "metadata": {},
   "outputs": [
    {
     "data": {
      "text/html": [
       "<div>\n",
       "<style scoped>\n",
       "    .dataframe tbody tr th:only-of-type {\n",
       "        vertical-align: middle;\n",
       "    }\n",
       "\n",
       "    .dataframe tbody tr th {\n",
       "        vertical-align: top;\n",
       "    }\n",
       "\n",
       "    .dataframe thead th {\n",
       "        text-align: right;\n",
       "    }\n",
       "</style>\n",
       "<table border=\"1\" class=\"dataframe\">\n",
       "  <thead>\n",
       "    <tr style=\"text-align: right;\">\n",
       "      <th></th>\n",
       "      <th>Item_Weight</th>\n",
       "      <th>Item_Visibility</th>\n",
       "      <th>Item_MRP</th>\n",
       "      <th>Outlet_Establishment_Year</th>\n",
       "      <th>Item_Outlet_Sales</th>\n",
       "    </tr>\n",
       "  </thead>\n",
       "  <tbody>\n",
       "    <tr>\n",
       "      <td>count</td>\n",
       "      <td>7060.000000</td>\n",
       "      <td>8523.000000</td>\n",
       "      <td>8523.000000</td>\n",
       "      <td>8523.000000</td>\n",
       "      <td>8523.000000</td>\n",
       "    </tr>\n",
       "    <tr>\n",
       "      <td>mean</td>\n",
       "      <td>12.857645</td>\n",
       "      <td>0.066132</td>\n",
       "      <td>140.992782</td>\n",
       "      <td>1997.831867</td>\n",
       "      <td>2181.288914</td>\n",
       "    </tr>\n",
       "    <tr>\n",
       "      <td>std</td>\n",
       "      <td>4.643456</td>\n",
       "      <td>0.051598</td>\n",
       "      <td>62.275067</td>\n",
       "      <td>8.371760</td>\n",
       "      <td>1706.499616</td>\n",
       "    </tr>\n",
       "    <tr>\n",
       "      <td>min</td>\n",
       "      <td>4.555000</td>\n",
       "      <td>0.000000</td>\n",
       "      <td>31.290000</td>\n",
       "      <td>1985.000000</td>\n",
       "      <td>33.290000</td>\n",
       "    </tr>\n",
       "    <tr>\n",
       "      <td>25%</td>\n",
       "      <td>8.773750</td>\n",
       "      <td>0.026989</td>\n",
       "      <td>93.826500</td>\n",
       "      <td>1987.000000</td>\n",
       "      <td>834.247400</td>\n",
       "    </tr>\n",
       "    <tr>\n",
       "      <td>50%</td>\n",
       "      <td>12.600000</td>\n",
       "      <td>0.053931</td>\n",
       "      <td>143.012800</td>\n",
       "      <td>1999.000000</td>\n",
       "      <td>1794.331000</td>\n",
       "    </tr>\n",
       "    <tr>\n",
       "      <td>75%</td>\n",
       "      <td>16.850000</td>\n",
       "      <td>0.094585</td>\n",
       "      <td>185.643700</td>\n",
       "      <td>2004.000000</td>\n",
       "      <td>3101.296400</td>\n",
       "    </tr>\n",
       "    <tr>\n",
       "      <td>max</td>\n",
       "      <td>21.350000</td>\n",
       "      <td>0.328391</td>\n",
       "      <td>266.888400</td>\n",
       "      <td>2009.000000</td>\n",
       "      <td>13086.964800</td>\n",
       "    </tr>\n",
       "  </tbody>\n",
       "</table>\n",
       "</div>"
      ],
      "text/plain": [
       "       Item_Weight  Item_Visibility     Item_MRP  Outlet_Establishment_Year  \\\n",
       "count  7060.000000      8523.000000  8523.000000                8523.000000   \n",
       "mean     12.857645         0.066132   140.992782                1997.831867   \n",
       "std       4.643456         0.051598    62.275067                   8.371760   \n",
       "min       4.555000         0.000000    31.290000                1985.000000   \n",
       "25%       8.773750         0.026989    93.826500                1987.000000   \n",
       "50%      12.600000         0.053931   143.012800                1999.000000   \n",
       "75%      16.850000         0.094585   185.643700                2004.000000   \n",
       "max      21.350000         0.328391   266.888400                2009.000000   \n",
       "\n",
       "       Item_Outlet_Sales  \n",
       "count        8523.000000  \n",
       "mean         2181.288914  \n",
       "std          1706.499616  \n",
       "min            33.290000  \n",
       "25%           834.247400  \n",
       "50%          1794.331000  \n",
       "75%          3101.296400  \n",
       "max         13086.964800  "
      ]
     },
     "execution_count": 3,
     "metadata": {},
     "output_type": "execute_result"
    }
   ],
   "source": [
    "#To check the descriptive statistics of our dataset\n",
    "df.describe()"
   ]
  },
  {
   "cell_type": "code",
   "execution_count": 4,
   "metadata": {},
   "outputs": [
    {
     "data": {
      "text/plain": [
       "['Item_Fat_Content',\n",
       " 'Item_Type',\n",
       " 'Outlet_Identifier',\n",
       " 'Outlet_Establishment_Year',\n",
       " 'Outlet_Size',\n",
       " 'Outlet_Location_Type',\n",
       " 'Outlet_Type']"
      ]
     },
     "execution_count": 4,
     "metadata": {},
     "output_type": "execute_result"
    }
   ],
   "source": [
    "#Now we will extract the categorical features from our dataset\n",
    "cat_features = [index for index in df.columns if len(df[index].unique())<25]\n",
    "cat_features"
   ]
  },
  {
   "cell_type": "markdown",
   "metadata": {},
   "source": [
    "To know how many unique values are there in each categorical feature i will define a function named counts that will return the value counts of differnt unique values of each categorical feature "
   ]
  },
  {
   "cell_type": "code",
   "execution_count": 5,
   "metadata": {},
   "outputs": [
    {
     "data": {
      "text/plain": [
       "Supermarket Type1    5577\n",
       "Grocery Store        1083\n",
       "Supermarket Type3     935\n",
       "Supermarket Type2     928\n",
       "Name: Outlet_Type, dtype: int64"
      ]
     },
     "execution_count": 5,
     "metadata": {},
     "output_type": "execute_result"
    }
   ],
   "source": [
    "def counts (feature):\n",
    "    return df[feature].value_counts()\n",
    "counts('Outlet_Type')"
   ]
  },
  {
   "cell_type": "markdown",
   "metadata": {},
   "source": [
    "we can see that  that there is mistake in collection the data for  Item_Fat_Content .\n",
    "\n",
    "For Low Fat they have used three symbols which are Low Fat, LF an low fat so we will replace that values by original values that areLow fat and regular"
   ]
  },
  {
   "cell_type": "code",
   "execution_count": 6,
   "metadata": {},
   "outputs": [],
   "source": [
    "df['Item_Fat_Content'].replace('LF','Low Fat',inplace=True)\n",
    "df['Item_Fat_Content'].replace('low fat','Low Fat',inplace=True)\n",
    "df['Item_Fat_Content'].replace('reg','Regular',inplace=True)"
   ]
  },
  {
   "cell_type": "code",
   "execution_count": 7,
   "metadata": {},
   "outputs": [
    {
     "data": {
      "image/png": "[encoded data removed]",
      "text/plain": [
       "<Figure size 720x432 with 1 Axes>"
      ]
     },
     "metadata": {
      "needs_background": "light"
     },
     "output_type": "display_data"
    },
    {
     "data": {
      "image/png": "[encoded data removed]",
      "text/plain": [
       "<Figure size 720x432 with 1 Axes>"
      ]
     },
     "metadata": {
      "needs_background": "light"
     },
     "output_type": "display_data"
    },
    {
     "data": {
      "image/png": "[encoded data removed]",
      "text/plain": [
       "<Figure size 720x432 with 1 Axes>"
      ]
     },
     "metadata": {
      "needs_background": "light"
     },
     "output_type": "display_data"
    },
    {
     "data": {
      "image/png": "[encoded data removed]",
      "text/plain": [
       "<Figure size 720x432 with 1 Axes>"
      ]
     },
     "metadata": {
      "needs_background": "light"
     },
     "output_type": "display_data"
    },
    {
     "data": {
      "image/png": "[encoded data removed]",
      "text/plain": [
       "<Figure size 720x432 with 1 Axes>"
      ]
     },
     "metadata": {
      "needs_background": "light"
     },
     "output_type": "display_data"
    },
    {
     "data": {
      "image/png": "[encoded data removed]",
      "text/plain": [
       "<Figure size 720x432 with 1 Axes>"
      ]
     },
     "metadata": {
      "needs_background": "light"
     },
     "output_type": "display_data"
    },
    {
     "data": {
      "image/png": "[encoded data removed]",
      "text/plain": [
       "<Figure size 720x432 with 1 Axes>"
      ]
     },
     "metadata": {
      "needs_background": "light"
     },
     "output_type": "display_data"
    }
   ],
   "source": [
    "#For better understanding and visualisation purpose i will now create the countplot for all the categorical features\n",
    "for i in cat_features:\n",
    "    plt.figure(figsize=(10,6))\n",
    "    df[i].value_counts().plot(kind='bar')\n",
    "    plt.xlabel(i)\n",
    "    plt.ylabel('Value_Counts')\n",
    "    plt.show()"
   ]
  },
  {
   "cell_type": "markdown",
   "metadata": {},
   "source": [
    "# Filling the missing values"
   ]
  },
  {
   "cell_type": "code",
   "execution_count": 8,
   "metadata": {},
   "outputs": [],
   "source": [
    "#As there is no zero visibility of any item in any kind of shopping centre\n",
    "\n",
    "df['Item_Visibility'].replace(0,np.nan,inplace=True)"
   ]
  },
  {
   "cell_type": "code",
   "execution_count": 9,
   "metadata": {},
   "outputs": [
    {
     "data": {
      "text/plain": [
       "Item_Identifier                 0\n",
       "Item_Weight                  1463\n",
       "Item_Fat_Content                0\n",
       "Item_Visibility               526\n",
       "Item_Type                       0\n",
       "Item_MRP                        0\n",
       "Outlet_Identifier               0\n",
       "Outlet_Establishment_Year       0\n",
       "Outlet_Size                  2410\n",
       "Outlet_Location_Type            0\n",
       "Outlet_Type                     0\n",
       "Item_Outlet_Sales               0\n",
       "dtype: int64"
      ]
     },
     "execution_count": 9,
     "metadata": {},
     "output_type": "execute_result"
    }
   ],
   "source": [
    "df.isnull().sum()"
   ]
  },
  {
   "cell_type": "code",
   "execution_count": 10,
   "metadata": {},
   "outputs": [],
   "source": [
    "df['Outlet_Size'].fillna('Unknown',inplace=True)"
   ]
  },
  {
   "cell_type": "code",
   "execution_count": 11,
   "metadata": {},
   "outputs": [
    {
     "data": {
      "image/png": "[encoded data removed]",
      "text/plain": [
       "<Figure size 576x432 with 1 Axes>"
      ]
     },
     "metadata": {
      "needs_background": "light"
     },
     "output_type": "display_data"
    }
   ],
   "source": [
    "plt.figure(figsize=(8,6))\n",
    "sns.barplot(df['Outlet_Size'],df['Item_Outlet_Sales'])\n",
    "plt.show()"
   ]
  },
  {
   "cell_type": "code",
   "execution_count": 12,
   "metadata": {},
   "outputs": [
    {
     "data": {
      "image/png": "[encoded data removed]",
      "text/plain": [
       "<Figure size 576x432 with 1 Axes>"
      ]
     },
     "metadata": {
      "needs_background": "light"
     },
     "output_type": "display_data"
    }
   ],
   "source": [
    "plt.figure(figsize=(8,6))\n",
    "sns.barplot(df['Outlet_Size'],df['Item_Visibility'])\n",
    "plt.show()"
   ]
  },
  {
   "cell_type": "markdown",
   "metadata": {},
   "source": [
    "From above two graph we can conclude as follows:\n",
    "\n",
    "Graph 1 : Generally there is low outlet sales in stores having outlet size small and unknown . Also store having small outlet size resembles the store having unknown outlet size\n",
    "\n",
    "Graph 1 : Generally there is high visibility in stores having outlet size small and unknown . Also store having small outlet size resembles the store having unknown outlet size"
   ]
  },
  {
   "cell_type": "code",
   "execution_count": 13,
   "metadata": {},
   "outputs": [
    {
     "data": {
      "image/png": "[encoded data removed]",
      "text/plain": [
       "<Figure size 432x288 with 1 Axes>"
      ]
     },
     "metadata": {
      "needs_background": "light"
     },
     "output_type": "display_data"
    }
   ],
   "source": [
    "a=pd.crosstab(df['Outlet_Size'],df['Outlet_Type'])\n",
    "a.plot(kind='bar')\n",
    "plt.show()"
   ]
  },
  {
   "cell_type": "markdown",
   "metadata": {},
   "source": [
    "Above graph also tells us that outlet having small size resembles the outlet having unknown size.Also outlet having smaller size are supermaket type 1 or grocery store"
   ]
  },
  {
   "cell_type": "code",
   "execution_count": 14,
   "metadata": {},
   "outputs": [
    {
     "data": {
      "text/html": [
       "<div>\n",
       "<style scoped>\n",
       "    .dataframe tbody tr th:only-of-type {\n",
       "        vertical-align: middle;\n",
       "    }\n",
       "\n",
       "    .dataframe tbody tr th {\n",
       "        vertical-align: top;\n",
       "    }\n",
       "\n",
       "    .dataframe thead th {\n",
       "        text-align: right;\n",
       "    }\n",
       "</style>\n",
       "<table border=\"1\" class=\"dataframe\">\n",
       "  <thead>\n",
       "    <tr style=\"text-align: right;\">\n",
       "      <th></th>\n",
       "      <th>Item_Identifier</th>\n",
       "      <th>Item_Weight</th>\n",
       "      <th>Item_Fat_Content</th>\n",
       "      <th>Item_Visibility</th>\n",
       "      <th>Item_Type</th>\n",
       "      <th>Item_MRP</th>\n",
       "      <th>Outlet_Identifier</th>\n",
       "      <th>Outlet_Establishment_Year</th>\n",
       "      <th>Outlet_Size</th>\n",
       "      <th>Outlet_Location_Type</th>\n",
       "      <th>Outlet_Type</th>\n",
       "      <th>Item_Outlet_Sales</th>\n",
       "    </tr>\n",
       "  </thead>\n",
       "  <tbody>\n",
       "    <tr>\n",
       "      <td>3</td>\n",
       "      <td>FDX07</td>\n",
       "      <td>19.200</td>\n",
       "      <td>Regular</td>\n",
       "      <td>NaN</td>\n",
       "      <td>Fruits and Vegetables</td>\n",
       "      <td>182.0950</td>\n",
       "      <td>OUT010</td>\n",
       "      <td>1998</td>\n",
       "      <td>Unknown</td>\n",
       "      <td>Tier 3</td>\n",
       "      <td>Grocery Store</td>\n",
       "      <td>732.3800</td>\n",
       "    </tr>\n",
       "    <tr>\n",
       "      <td>8</td>\n",
       "      <td>FDH17</td>\n",
       "      <td>16.200</td>\n",
       "      <td>Regular</td>\n",
       "      <td>0.016687</td>\n",
       "      <td>Frozen Foods</td>\n",
       "      <td>96.9726</td>\n",
       "      <td>OUT045</td>\n",
       "      <td>2002</td>\n",
       "      <td>Unknown</td>\n",
       "      <td>Tier 2</td>\n",
       "      <td>Supermarket Type1</td>\n",
       "      <td>1076.5986</td>\n",
       "    </tr>\n",
       "    <tr>\n",
       "      <td>9</td>\n",
       "      <td>FDU28</td>\n",
       "      <td>19.200</td>\n",
       "      <td>Regular</td>\n",
       "      <td>0.094450</td>\n",
       "      <td>Frozen Foods</td>\n",
       "      <td>187.8214</td>\n",
       "      <td>OUT017</td>\n",
       "      <td>2007</td>\n",
       "      <td>Unknown</td>\n",
       "      <td>Tier 2</td>\n",
       "      <td>Supermarket Type1</td>\n",
       "      <td>4710.5350</td>\n",
       "    </tr>\n",
       "    <tr>\n",
       "      <td>25</td>\n",
       "      <td>NCD06</td>\n",
       "      <td>13.000</td>\n",
       "      <td>Low Fat</td>\n",
       "      <td>0.099887</td>\n",
       "      <td>Household</td>\n",
       "      <td>45.9060</td>\n",
       "      <td>OUT017</td>\n",
       "      <td>2007</td>\n",
       "      <td>Unknown</td>\n",
       "      <td>Tier 2</td>\n",
       "      <td>Supermarket Type1</td>\n",
       "      <td>838.9080</td>\n",
       "    </tr>\n",
       "    <tr>\n",
       "      <td>28</td>\n",
       "      <td>FDE51</td>\n",
       "      <td>5.925</td>\n",
       "      <td>Regular</td>\n",
       "      <td>0.161467</td>\n",
       "      <td>Dairy</td>\n",
       "      <td>45.5086</td>\n",
       "      <td>OUT010</td>\n",
       "      <td>1998</td>\n",
       "      <td>Unknown</td>\n",
       "      <td>Tier 3</td>\n",
       "      <td>Grocery Store</td>\n",
       "      <td>178.4344</td>\n",
       "    </tr>\n",
       "  </tbody>\n",
       "</table>\n",
       "</div>"
      ],
      "text/plain": [
       "   Item_Identifier  Item_Weight Item_Fat_Content  Item_Visibility  \\\n",
       "3            FDX07       19.200          Regular              NaN   \n",
       "8            FDH17       16.200          Regular         0.016687   \n",
       "9            FDU28       19.200          Regular         0.094450   \n",
       "25           NCD06       13.000          Low Fat         0.099887   \n",
       "28           FDE51        5.925          Regular         0.161467   \n",
       "\n",
       "                Item_Type  Item_MRP Outlet_Identifier  \\\n",
       "3   Fruits and Vegetables  182.0950            OUT010   \n",
       "8            Frozen Foods   96.9726            OUT045   \n",
       "9            Frozen Foods  187.8214            OUT017   \n",
       "25              Household   45.9060            OUT017   \n",
       "28                  Dairy   45.5086            OUT010   \n",
       "\n",
       "    Outlet_Establishment_Year Outlet_Size Outlet_Location_Type  \\\n",
       "3                        1998     Unknown               Tier 3   \n",
       "8                        2002     Unknown               Tier 2   \n",
       "9                        2007     Unknown               Tier 2   \n",
       "25                       2007     Unknown               Tier 2   \n",
       "28                       1998     Unknown               Tier 3   \n",
       "\n",
       "          Outlet_Type  Item_Outlet_Sales  \n",
       "3       Grocery Store           732.3800  \n",
       "8   Supermarket Type1          1076.5986  \n",
       "9   Supermarket Type1          4710.5350  \n",
       "25  Supermarket Type1           838.9080  \n",
       "28      Grocery Store           178.4344  "
      ]
     },
     "execution_count": 14,
     "metadata": {},
     "output_type": "execute_result"
    }
   ],
   "source": [
    "df1=df[df['Outlet_Size'] == 'Unknown']\n",
    "df1.head()"
   ]
  },
  {
   "cell_type": "markdown",
   "metadata": {},
   "source": [
    "This dataframe also supports the previous reason that outlet having unknown size are of type grocery store or supermarket type 1"
   ]
  },
  {
   "cell_type": "markdown",
   "metadata": {},
   "source": [
    "So i'll fill the missing values of outlet size by small as there are enough evidence"
   ]
  },
  {
   "cell_type": "code",
   "execution_count": 15,
   "metadata": {},
   "outputs": [],
   "source": [
    "df['Outlet_Size'].replace('Unknown','Small',inplace=True)"
   ]
  },
  {
   "cell_type": "code",
   "execution_count": 16,
   "metadata": {},
   "outputs": [
    {
     "data": {
      "text/html": [
       "<div>\n",
       "<style scoped>\n",
       "    .dataframe tbody tr th:only-of-type {\n",
       "        vertical-align: middle;\n",
       "    }\n",
       "\n",
       "    .dataframe tbody tr th {\n",
       "        vertical-align: top;\n",
       "    }\n",
       "\n",
       "    .dataframe thead th {\n",
       "        text-align: right;\n",
       "    }\n",
       "</style>\n",
       "<table border=\"1\" class=\"dataframe\">\n",
       "  <thead>\n",
       "    <tr style=\"text-align: right;\">\n",
       "      <th></th>\n",
       "      <th>Item_Identifier</th>\n",
       "      <th>Item_Weight</th>\n",
       "      <th>Item_Fat_Content</th>\n",
       "      <th>Item_Visibility</th>\n",
       "      <th>Item_Type</th>\n",
       "      <th>Item_MRP</th>\n",
       "      <th>Outlet_Identifier</th>\n",
       "      <th>Outlet_Establishment_Year</th>\n",
       "      <th>Outlet_Size</th>\n",
       "      <th>Outlet_Location_Type</th>\n",
       "      <th>Outlet_Type</th>\n",
       "      <th>Item_Outlet_Sales</th>\n",
       "    </tr>\n",
       "  </thead>\n",
       "  <tbody>\n",
       "    <tr>\n",
       "      <td>9</td>\n",
       "      <td>FDU28</td>\n",
       "      <td>19.2</td>\n",
       "      <td>Regular</td>\n",
       "      <td>0.094450</td>\n",
       "      <td>Frozen Foods</td>\n",
       "      <td>187.8214</td>\n",
       "      <td>OUT017</td>\n",
       "      <td>2007</td>\n",
       "      <td>Small</td>\n",
       "      <td>Tier 2</td>\n",
       "      <td>Supermarket Type1</td>\n",
       "      <td>4710.5350</td>\n",
       "    </tr>\n",
       "    <tr>\n",
       "      <td>6362</td>\n",
       "      <td>FDU28</td>\n",
       "      <td>NaN</td>\n",
       "      <td>Regular</td>\n",
       "      <td>0.164439</td>\n",
       "      <td>Frozen Foods</td>\n",
       "      <td>188.4214</td>\n",
       "      <td>OUT019</td>\n",
       "      <td>1985</td>\n",
       "      <td>Small</td>\n",
       "      <td>Tier 1</td>\n",
       "      <td>Grocery Store</td>\n",
       "      <td>376.8428</td>\n",
       "    </tr>\n",
       "    <tr>\n",
       "      <td>6419</td>\n",
       "      <td>FDU28</td>\n",
       "      <td>19.2</td>\n",
       "      <td>Regular</td>\n",
       "      <td>0.094301</td>\n",
       "      <td>Frozen Foods</td>\n",
       "      <td>187.5214</td>\n",
       "      <td>OUT018</td>\n",
       "      <td>2009</td>\n",
       "      <td>Medium</td>\n",
       "      <td>Tier 3</td>\n",
       "      <td>Supermarket Type2</td>\n",
       "      <td>1695.7926</td>\n",
       "    </tr>\n",
       "    <tr>\n",
       "      <td>7597</td>\n",
       "      <td>FDU28</td>\n",
       "      <td>NaN</td>\n",
       "      <td>Regular</td>\n",
       "      <td>0.093464</td>\n",
       "      <td>Frozen Foods</td>\n",
       "      <td>189.1214</td>\n",
       "      <td>OUT027</td>\n",
       "      <td>1985</td>\n",
       "      <td>Medium</td>\n",
       "      <td>Tier 3</td>\n",
       "      <td>Supermarket Type3</td>\n",
       "      <td>2261.0568</td>\n",
       "    </tr>\n",
       "    <tr>\n",
       "      <td>8419</td>\n",
       "      <td>FDU28</td>\n",
       "      <td>19.2</td>\n",
       "      <td>Regular</td>\n",
       "      <td>0.093918</td>\n",
       "      <td>Frozen Foods</td>\n",
       "      <td>189.8214</td>\n",
       "      <td>OUT046</td>\n",
       "      <td>1997</td>\n",
       "      <td>Small</td>\n",
       "      <td>Tier 1</td>\n",
       "      <td>Supermarket Type1</td>\n",
       "      <td>942.1070</td>\n",
       "    </tr>\n",
       "  </tbody>\n",
       "</table>\n",
       "</div>"
      ],
      "text/plain": [
       "     Item_Identifier  Item_Weight Item_Fat_Content  Item_Visibility  \\\n",
       "9              FDU28         19.2          Regular         0.094450   \n",
       "6362           FDU28          NaN          Regular         0.164439   \n",
       "6419           FDU28         19.2          Regular         0.094301   \n",
       "7597           FDU28          NaN          Regular         0.093464   \n",
       "8419           FDU28         19.2          Regular         0.093918   \n",
       "\n",
       "         Item_Type  Item_MRP Outlet_Identifier  Outlet_Establishment_Year  \\\n",
       "9     Frozen Foods  187.8214            OUT017                       2007   \n",
       "6362  Frozen Foods  188.4214            OUT019                       1985   \n",
       "6419  Frozen Foods  187.5214            OUT018                       2009   \n",
       "7597  Frozen Foods  189.1214            OUT027                       1985   \n",
       "8419  Frozen Foods  189.8214            OUT046                       1997   \n",
       "\n",
       "     Outlet_Size Outlet_Location_Type        Outlet_Type  Item_Outlet_Sales  \n",
       "9          Small               Tier 2  Supermarket Type1          4710.5350  \n",
       "6362       Small               Tier 1      Grocery Store           376.8428  \n",
       "6419      Medium               Tier 3  Supermarket Type2          1695.7926  \n",
       "7597      Medium               Tier 3  Supermarket Type3          2261.0568  \n",
       "8419       Small               Tier 1  Supermarket Type1           942.1070  "
      ]
     },
     "execution_count": 16,
     "metadata": {},
     "output_type": "execute_result"
    }
   ],
   "source": [
    "df0=df[df['Item_Identifier'] == 'FDU28']\n",
    "df0"
   ]
  },
  {
   "cell_type": "markdown",
   "metadata": {},
   "source": [
    "If you look the above dataframe for particular identifier,values for item visibility are same for outlet of type supermarket and for grocery store the value is old value + 0.1"
   ]
  },
  {
   "cell_type": "code",
   "execution_count": 17,
   "metadata": {},
   "outputs": [],
   "source": [
    "df['Outlet_Type1'] = df['Outlet_Type']"
   ]
  },
  {
   "cell_type": "code",
   "execution_count": 18,
   "metadata": {},
   "outputs": [
    {
     "data": {
      "text/plain": [
       "Item_Identifier                 0\n",
       "Item_Weight                  1463\n",
       "Item_Fat_Content                0\n",
       "Item_Visibility               526\n",
       "Item_Type                       0\n",
       "Item_MRP                        0\n",
       "Outlet_Identifier               0\n",
       "Outlet_Establishment_Year       0\n",
       "Outlet_Size                     0\n",
       "Outlet_Location_Type            0\n",
       "Outlet_Type                     0\n",
       "Item_Outlet_Sales               0\n",
       "Outlet_Type1                    0\n",
       "dtype: int64"
      ]
     },
     "execution_count": 18,
     "metadata": {},
     "output_type": "execute_result"
    }
   ],
   "source": [
    "#converting supermarket type 1 ,2,3 to supermarket\n",
    "dict={'Supermarket Type1':'Supermarket','Supermarket Type2':'Supermarket','Supermarket Type3':'Supermarket','Grocery Store':'Grocery Store'}\n",
    "df['Outlet_Type1'] = df['Outlet_Type1'].map(dict)\n",
    "df.isnull().sum()"
   ]
  },
  {
   "cell_type": "code",
   "execution_count": 19,
   "metadata": {},
   "outputs": [],
   "source": [
    "#Filling the missing value wrt item identifier and outlet type\n",
    "df['Item_Visibility'].fillna(df.groupby(['Item_Identifier','Outlet_Type1'])['Item_Visibility'].transform('mean'),inplace=True)"
   ]
  },
  {
   "cell_type": "code",
   "execution_count": 20,
   "metadata": {},
   "outputs": [
    {
     "data": {
      "text/plain": [
       "Item_Identifier                 0\n",
       "Item_Weight                  1463\n",
       "Item_Fat_Content                0\n",
       "Item_Visibility                38\n",
       "Item_Type                       0\n",
       "Item_MRP                        0\n",
       "Outlet_Identifier               0\n",
       "Outlet_Establishment_Year       0\n",
       "Outlet_Size                     0\n",
       "Outlet_Location_Type            0\n",
       "Outlet_Type                     0\n",
       "Item_Outlet_Sales               0\n",
       "Outlet_Type1                    0\n",
       "dtype: int64"
      ]
     },
     "execution_count": 20,
     "metadata": {},
     "output_type": "execute_result"
    }
   ],
   "source": [
    "df.isnull().sum()"
   ]
  },
  {
   "cell_type": "markdown",
   "metadata": {},
   "source": [
    "After filling the missing value wrt item identifier and outlet type there are several values which are still nan because if for particular identifier if there is only one type of outlet type which is nan we cannot take mean of it and fill that value"
   ]
  },
  {
   "cell_type": "code",
   "execution_count": 21,
   "metadata": {},
   "outputs": [
    {
     "data": {
      "text/html": [
       "<div>\n",
       "<style scoped>\n",
       "    .dataframe tbody tr th:only-of-type {\n",
       "        vertical-align: middle;\n",
       "    }\n",
       "\n",
       "    .dataframe tbody tr th {\n",
       "        vertical-align: top;\n",
       "    }\n",
       "\n",
       "    .dataframe thead th {\n",
       "        text-align: right;\n",
       "    }\n",
       "</style>\n",
       "<table border=\"1\" class=\"dataframe\">\n",
       "  <thead>\n",
       "    <tr style=\"text-align: right;\">\n",
       "      <th></th>\n",
       "      <th>Item_Identifier</th>\n",
       "      <th>Item_Weight</th>\n",
       "      <th>Item_Fat_Content</th>\n",
       "      <th>Item_Visibility</th>\n",
       "      <th>Item_Type</th>\n",
       "      <th>Item_MRP</th>\n",
       "      <th>Outlet_Identifier</th>\n",
       "      <th>Outlet_Establishment_Year</th>\n",
       "      <th>Outlet_Size</th>\n",
       "      <th>Outlet_Location_Type</th>\n",
       "      <th>Outlet_Type</th>\n",
       "      <th>Item_Outlet_Sales</th>\n",
       "      <th>Outlet_Type1</th>\n",
       "    </tr>\n",
       "  </thead>\n",
       "  <tbody>\n",
       "    <tr>\n",
       "      <td>3</td>\n",
       "      <td>FDX07</td>\n",
       "      <td>19.20</td>\n",
       "      <td>Regular</td>\n",
       "      <td>NaN</td>\n",
       "      <td>Fruits and Vegetables</td>\n",
       "      <td>182.0950</td>\n",
       "      <td>OUT010</td>\n",
       "      <td>1998</td>\n",
       "      <td>Small</td>\n",
       "      <td>Tier 3</td>\n",
       "      <td>Grocery Store</td>\n",
       "      <td>732.3800</td>\n",
       "      <td>Grocery Store</td>\n",
       "    </tr>\n",
       "    <tr>\n",
       "      <td>175</td>\n",
       "      <td>FDR47</td>\n",
       "      <td>17.85</td>\n",
       "      <td>Low Fat</td>\n",
       "      <td>NaN</td>\n",
       "      <td>Breads</td>\n",
       "      <td>196.5794</td>\n",
       "      <td>OUT010</td>\n",
       "      <td>1998</td>\n",
       "      <td>Small</td>\n",
       "      <td>Tier 3</td>\n",
       "      <td>Grocery Store</td>\n",
       "      <td>585.2382</td>\n",
       "      <td>Grocery Store</td>\n",
       "    </tr>\n",
       "    <tr>\n",
       "      <td>216</td>\n",
       "      <td>FDR44</td>\n",
       "      <td>6.11</td>\n",
       "      <td>Regular</td>\n",
       "      <td>NaN</td>\n",
       "      <td>Fruits and Vegetables</td>\n",
       "      <td>131.2968</td>\n",
       "      <td>OUT010</td>\n",
       "      <td>1998</td>\n",
       "      <td>Small</td>\n",
       "      <td>Tier 3</td>\n",
       "      <td>Grocery Store</td>\n",
       "      <td>260.9936</td>\n",
       "      <td>Grocery Store</td>\n",
       "    </tr>\n",
       "    <tr>\n",
       "      <td>411</td>\n",
       "      <td>NCZ42</td>\n",
       "      <td>10.50</td>\n",
       "      <td>Low Fat</td>\n",
       "      <td>NaN</td>\n",
       "      <td>Household</td>\n",
       "      <td>238.3248</td>\n",
       "      <td>OUT010</td>\n",
       "      <td>1998</td>\n",
       "      <td>Small</td>\n",
       "      <td>Tier 3</td>\n",
       "      <td>Grocery Store</td>\n",
       "      <td>711.0744</td>\n",
       "      <td>Grocery Store</td>\n",
       "    </tr>\n",
       "    <tr>\n",
       "      <td>545</td>\n",
       "      <td>FDB38</td>\n",
       "      <td>NaN</td>\n",
       "      <td>Regular</td>\n",
       "      <td>NaN</td>\n",
       "      <td>Canned</td>\n",
       "      <td>160.6920</td>\n",
       "      <td>OUT019</td>\n",
       "      <td>1985</td>\n",
       "      <td>Small</td>\n",
       "      <td>Tier 1</td>\n",
       "      <td>Grocery Store</td>\n",
       "      <td>319.5840</td>\n",
       "      <td>Grocery Store</td>\n",
       "    </tr>\n",
       "  </tbody>\n",
       "</table>\n",
       "</div>"
      ],
      "text/plain": [
       "    Item_Identifier  Item_Weight Item_Fat_Content  Item_Visibility  \\\n",
       "3             FDX07        19.20          Regular              NaN   \n",
       "175           FDR47        17.85          Low Fat              NaN   \n",
       "216           FDR44         6.11          Regular              NaN   \n",
       "411           NCZ42        10.50          Low Fat              NaN   \n",
       "545           FDB38          NaN          Regular              NaN   \n",
       "\n",
       "                 Item_Type  Item_MRP Outlet_Identifier  \\\n",
       "3    Fruits and Vegetables  182.0950            OUT010   \n",
       "175                 Breads  196.5794            OUT010   \n",
       "216  Fruits and Vegetables  131.2968            OUT010   \n",
       "411              Household  238.3248            OUT010   \n",
       "545                 Canned  160.6920            OUT019   \n",
       "\n",
       "     Outlet_Establishment_Year Outlet_Size Outlet_Location_Type  \\\n",
       "3                         1998       Small               Tier 3   \n",
       "175                       1998       Small               Tier 3   \n",
       "216                       1998       Small               Tier 3   \n",
       "411                       1998       Small               Tier 3   \n",
       "545                       1985       Small               Tier 1   \n",
       "\n",
       "       Outlet_Type  Item_Outlet_Sales   Outlet_Type1  \n",
       "3    Grocery Store           732.3800  Grocery Store  \n",
       "175  Grocery Store           585.2382  Grocery Store  \n",
       "216  Grocery Store           260.9936  Grocery Store  \n",
       "411  Grocery Store           711.0744  Grocery Store  \n",
       "545  Grocery Store           319.5840  Grocery Store  "
      ]
     },
     "execution_count": 21,
     "metadata": {},
     "output_type": "execute_result"
    }
   ],
   "source": [
    "df7=df[df['Item_Visibility'].isnull()]\n",
    "df7.head()"
   ]
  },
  {
   "cell_type": "markdown",
   "metadata": {},
   "source": [
    "All missing value corresponds to outlet of type grocery store.\n",
    "\n",
    "As we have observed that item visibility for grocery store is plus 0.1 the value for supermarket for particular item identifier"
   ]
  },
  {
   "cell_type": "code",
   "execution_count": 22,
   "metadata": {},
   "outputs": [],
   "source": [
    "df['Item_Visibility'] = (df.groupby('Item_Identifier')['Item_Visibility'].transform(lambda x:x.fillna(x.mean()+0.1)))"
   ]
  },
  {
   "cell_type": "markdown",
   "metadata": {},
   "source": [
    "After filling the missing values for item identifier.\n",
    "\n",
    "Now I'll try to fill the missing values present in Item_Weight column\n",
    "\n",
    "To fill the missing values i'll the dependance of item weight with various categorical features"
   ]
  },
  {
   "cell_type": "code",
   "execution_count": 23,
   "metadata": {},
   "outputs": [
    {
     "data": {
      "image/png": "[encoded data removed]",
      "text/plain": [
       "<Figure size 576x432 with 1 Axes>"
      ]
     },
     "metadata": {
      "needs_background": "light"
     },
     "output_type": "display_data"
    }
   ],
   "source": [
    "plt.figure(figsize=(8,6))\n",
    "sns.barplot(df[\"Item_Fat_Content\"],df['Item_Weight'])\n",
    "plt.show()"
   ]
  },
  {
   "cell_type": "markdown",
   "metadata": {},
   "source": [
    "Generaaly Low Fat product have higher item weight compared to regular product.\n",
    "\n",
    "But if you look the at above graph the difference is very small to generalize our point"
   ]
  },
  {
   "cell_type": "code",
   "execution_count": 24,
   "metadata": {},
   "outputs": [
    {
     "data": {
      "text/html": [
       "<div>\n",
       "<style scoped>\n",
       "    .dataframe tbody tr th:only-of-type {\n",
       "        vertical-align: middle;\n",
       "    }\n",
       "\n",
       "    .dataframe tbody tr th {\n",
       "        vertical-align: top;\n",
       "    }\n",
       "\n",
       "    .dataframe thead th {\n",
       "        text-align: right;\n",
       "    }\n",
       "</style>\n",
       "<table border=\"1\" class=\"dataframe\">\n",
       "  <thead>\n",
       "    <tr style=\"text-align: right;\">\n",
       "      <th></th>\n",
       "      <th>Item_Identifier</th>\n",
       "      <th>Item_Weight</th>\n",
       "      <th>Item_Fat_Content</th>\n",
       "      <th>Item_Visibility</th>\n",
       "      <th>Item_Type</th>\n",
       "      <th>Item_MRP</th>\n",
       "      <th>Outlet_Identifier</th>\n",
       "      <th>Outlet_Establishment_Year</th>\n",
       "      <th>Outlet_Size</th>\n",
       "      <th>Outlet_Location_Type</th>\n",
       "      <th>Outlet_Type</th>\n",
       "      <th>Item_Outlet_Sales</th>\n",
       "      <th>Outlet_Type1</th>\n",
       "    </tr>\n",
       "  </thead>\n",
       "  <tbody>\n",
       "    <tr>\n",
       "      <td>0</td>\n",
       "      <td>FDA15</td>\n",
       "      <td>9.3</td>\n",
       "      <td>Low Fat</td>\n",
       "      <td>0.016047</td>\n",
       "      <td>Dairy</td>\n",
       "      <td>249.8092</td>\n",
       "      <td>OUT049</td>\n",
       "      <td>1999</td>\n",
       "      <td>Medium</td>\n",
       "      <td>Tier 1</td>\n",
       "      <td>Supermarket Type1</td>\n",
       "      <td>3735.1380</td>\n",
       "      <td>Supermarket</td>\n",
       "    </tr>\n",
       "    <tr>\n",
       "      <td>831</td>\n",
       "      <td>FDA15</td>\n",
       "      <td>9.3</td>\n",
       "      <td>Low Fat</td>\n",
       "      <td>0.016055</td>\n",
       "      <td>Dairy</td>\n",
       "      <td>250.2092</td>\n",
       "      <td>OUT045</td>\n",
       "      <td>2002</td>\n",
       "      <td>Small</td>\n",
       "      <td>Tier 2</td>\n",
       "      <td>Supermarket Type1</td>\n",
       "      <td>5976.2208</td>\n",
       "      <td>Supermarket</td>\n",
       "    </tr>\n",
       "    <tr>\n",
       "      <td>2599</td>\n",
       "      <td>FDA15</td>\n",
       "      <td>9.3</td>\n",
       "      <td>Low Fat</td>\n",
       "      <td>0.016019</td>\n",
       "      <td>Dairy</td>\n",
       "      <td>248.5092</td>\n",
       "      <td>OUT035</td>\n",
       "      <td>2004</td>\n",
       "      <td>Small</td>\n",
       "      <td>Tier 2</td>\n",
       "      <td>Supermarket Type1</td>\n",
       "      <td>6474.2392</td>\n",
       "      <td>Supermarket</td>\n",
       "    </tr>\n",
       "    <tr>\n",
       "      <td>2643</td>\n",
       "      <td>FDA15</td>\n",
       "      <td>9.3</td>\n",
       "      <td>Low Fat</td>\n",
       "      <td>0.016088</td>\n",
       "      <td>Dairy</td>\n",
       "      <td>249.6092</td>\n",
       "      <td>OUT018</td>\n",
       "      <td>2009</td>\n",
       "      <td>Medium</td>\n",
       "      <td>Tier 3</td>\n",
       "      <td>Supermarket Type2</td>\n",
       "      <td>5976.2208</td>\n",
       "      <td>Supermarket</td>\n",
       "    </tr>\n",
       "    <tr>\n",
       "      <td>4874</td>\n",
       "      <td>FDA15</td>\n",
       "      <td>9.3</td>\n",
       "      <td>Low Fat</td>\n",
       "      <td>0.026818</td>\n",
       "      <td>Dairy</td>\n",
       "      <td>248.9092</td>\n",
       "      <td>OUT010</td>\n",
       "      <td>1998</td>\n",
       "      <td>Small</td>\n",
       "      <td>Tier 3</td>\n",
       "      <td>Grocery Store</td>\n",
       "      <td>498.0184</td>\n",
       "      <td>Grocery Store</td>\n",
       "    </tr>\n",
       "  </tbody>\n",
       "</table>\n",
       "</div>"
      ],
      "text/plain": [
       "     Item_Identifier  Item_Weight Item_Fat_Content  Item_Visibility Item_Type  \\\n",
       "0              FDA15          9.3          Low Fat         0.016047     Dairy   \n",
       "831            FDA15          9.3          Low Fat         0.016055     Dairy   \n",
       "2599           FDA15          9.3          Low Fat         0.016019     Dairy   \n",
       "2643           FDA15          9.3          Low Fat         0.016088     Dairy   \n",
       "4874           FDA15          9.3          Low Fat         0.026818     Dairy   \n",
       "\n",
       "      Item_MRP Outlet_Identifier  Outlet_Establishment_Year Outlet_Size  \\\n",
       "0     249.8092            OUT049                       1999      Medium   \n",
       "831   250.2092            OUT045                       2002       Small   \n",
       "2599  248.5092            OUT035                       2004       Small   \n",
       "2643  249.6092            OUT018                       2009      Medium   \n",
       "4874  248.9092            OUT010                       1998       Small   \n",
       "\n",
       "     Outlet_Location_Type        Outlet_Type  Item_Outlet_Sales   Outlet_Type1  \n",
       "0                  Tier 1  Supermarket Type1          3735.1380    Supermarket  \n",
       "831                Tier 2  Supermarket Type1          5976.2208    Supermarket  \n",
       "2599               Tier 2  Supermarket Type1          6474.2392    Supermarket  \n",
       "2643               Tier 3  Supermarket Type2          5976.2208    Supermarket  \n",
       "4874               Tier 3      Grocery Store           498.0184  Grocery Store  "
      ]
     },
     "execution_count": 24,
     "metadata": {},
     "output_type": "execute_result"
    }
   ],
   "source": [
    "df2=df[df['Item_Identifier'] == 'FDA15']\n",
    "df2.head()"
   ]
  },
  {
   "cell_type": "code",
   "execution_count": 25,
   "metadata": {},
   "outputs": [
    {
     "data": {
      "text/html": [
       "<div>\n",
       "<style scoped>\n",
       "    .dataframe tbody tr th:only-of-type {\n",
       "        vertical-align: middle;\n",
       "    }\n",
       "\n",
       "    .dataframe tbody tr th {\n",
       "        vertical-align: top;\n",
       "    }\n",
       "\n",
       "    .dataframe thead th {\n",
       "        text-align: right;\n",
       "    }\n",
       "</style>\n",
       "<table border=\"1\" class=\"dataframe\">\n",
       "  <thead>\n",
       "    <tr style=\"text-align: right;\">\n",
       "      <th></th>\n",
       "      <th>Item_Identifier</th>\n",
       "      <th>Item_Weight</th>\n",
       "      <th>Item_Fat_Content</th>\n",
       "      <th>Item_Visibility</th>\n",
       "      <th>Item_Type</th>\n",
       "      <th>Item_MRP</th>\n",
       "      <th>Outlet_Identifier</th>\n",
       "      <th>Outlet_Establishment_Year</th>\n",
       "      <th>Outlet_Size</th>\n",
       "      <th>Outlet_Location_Type</th>\n",
       "      <th>Outlet_Type</th>\n",
       "      <th>Item_Outlet_Sales</th>\n",
       "      <th>Outlet_Type1</th>\n",
       "    </tr>\n",
       "  </thead>\n",
       "  <tbody>\n",
       "    <tr>\n",
       "      <td>192</td>\n",
       "      <td>FDA08</td>\n",
       "      <td>11.85</td>\n",
       "      <td>Regular</td>\n",
       "      <td>0.050187</td>\n",
       "      <td>Fruits and Vegetables</td>\n",
       "      <td>164.1526</td>\n",
       "      <td>OUT045</td>\n",
       "      <td>2002</td>\n",
       "      <td>Small</td>\n",
       "      <td>Tier 2</td>\n",
       "      <td>Supermarket Type1</td>\n",
       "      <td>3124.5994</td>\n",
       "      <td>Supermarket</td>\n",
       "    </tr>\n",
       "    <tr>\n",
       "      <td>3355</td>\n",
       "      <td>FDA08</td>\n",
       "      <td>11.85</td>\n",
       "      <td>Regular</td>\n",
       "      <td>0.050085</td>\n",
       "      <td>Fruits and Vegetables</td>\n",
       "      <td>164.7526</td>\n",
       "      <td>OUT046</td>\n",
       "      <td>1997</td>\n",
       "      <td>Small</td>\n",
       "      <td>Tier 1</td>\n",
       "      <td>Supermarket Type1</td>\n",
       "      <td>1315.6208</td>\n",
       "      <td>Supermarket</td>\n",
       "    </tr>\n",
       "    <tr>\n",
       "      <td>3619</td>\n",
       "      <td>FDA08</td>\n",
       "      <td>11.85</td>\n",
       "      <td>Regular</td>\n",
       "      <td>0.050368</td>\n",
       "      <td>Fruits and Vegetables</td>\n",
       "      <td>163.8526</td>\n",
       "      <td>OUT017</td>\n",
       "      <td>2007</td>\n",
       "      <td>Small</td>\n",
       "      <td>Tier 2</td>\n",
       "      <td>Supermarket Type1</td>\n",
       "      <td>1808.9786</td>\n",
       "      <td>Supermarket</td>\n",
       "    </tr>\n",
       "    <tr>\n",
       "      <td>7220</td>\n",
       "      <td>FDA08</td>\n",
       "      <td>NaN</td>\n",
       "      <td>Regular</td>\n",
       "      <td>0.049843</td>\n",
       "      <td>Fruits and Vegetables</td>\n",
       "      <td>164.2526</td>\n",
       "      <td>OUT027</td>\n",
       "      <td>1985</td>\n",
       "      <td>Medium</td>\n",
       "      <td>Tier 3</td>\n",
       "      <td>Supermarket Type3</td>\n",
       "      <td>3946.8624</td>\n",
       "      <td>Supermarket</td>\n",
       "    </tr>\n",
       "    <tr>\n",
       "      <td>7707</td>\n",
       "      <td>FDA08</td>\n",
       "      <td>NaN</td>\n",
       "      <td>Regular</td>\n",
       "      <td>0.087693</td>\n",
       "      <td>Fruits and Vegetables</td>\n",
       "      <td>162.5526</td>\n",
       "      <td>OUT019</td>\n",
       "      <td>1985</td>\n",
       "      <td>Small</td>\n",
       "      <td>Tier 1</td>\n",
       "      <td>Grocery Store</td>\n",
       "      <td>328.9052</td>\n",
       "      <td>Grocery Store</td>\n",
       "    </tr>\n",
       "  </tbody>\n",
       "</table>\n",
       "</div>"
      ],
      "text/plain": [
       "     Item_Identifier  Item_Weight Item_Fat_Content  Item_Visibility  \\\n",
       "192            FDA08        11.85          Regular         0.050187   \n",
       "3355           FDA08        11.85          Regular         0.050085   \n",
       "3619           FDA08        11.85          Regular         0.050368   \n",
       "7220           FDA08          NaN          Regular         0.049843   \n",
       "7707           FDA08          NaN          Regular         0.087693   \n",
       "\n",
       "                  Item_Type  Item_MRP Outlet_Identifier  \\\n",
       "192   Fruits and Vegetables  164.1526            OUT045   \n",
       "3355  Fruits and Vegetables  164.7526            OUT046   \n",
       "3619  Fruits and Vegetables  163.8526            OUT017   \n",
       "7220  Fruits and Vegetables  164.2526            OUT027   \n",
       "7707  Fruits and Vegetables  162.5526            OUT019   \n",
       "\n",
       "      Outlet_Establishment_Year Outlet_Size Outlet_Location_Type  \\\n",
       "192                        2002       Small               Tier 2   \n",
       "3355                       1997       Small               Tier 1   \n",
       "3619                       2007       Small               Tier 2   \n",
       "7220                       1985      Medium               Tier 3   \n",
       "7707                       1985       Small               Tier 1   \n",
       "\n",
       "            Outlet_Type  Item_Outlet_Sales   Outlet_Type1  \n",
       "192   Supermarket Type1          3124.5994    Supermarket  \n",
       "3355  Supermarket Type1          1315.6208    Supermarket  \n",
       "3619  Supermarket Type1          1808.9786    Supermarket  \n",
       "7220  Supermarket Type3          3946.8624    Supermarket  \n",
       "7707      Grocery Store           328.9052  Grocery Store  "
      ]
     },
     "execution_count": 25,
     "metadata": {},
     "output_type": "execute_result"
    }
   ],
   "source": [
    "df3=df[df['Item_Identifier'] == 'FDA08']\n",
    "df3.head()"
   ]
  },
  {
   "cell_type": "markdown",
   "metadata": {},
   "source": [
    "If you look at the above two dataframe you can clearly say that item identifier is strongly correlated with item weight so i will fill the missing value of item weight wrt item identifier"
   ]
  },
  {
   "cell_type": "code",
   "execution_count": 26,
   "metadata": {},
   "outputs": [],
   "source": [
    "df['Item_Weight'].fillna(df.groupby('Item_Identifier')['Item_Weight'].transform('median'),inplace=True)"
   ]
  },
  {
   "cell_type": "code",
   "execution_count": 27,
   "metadata": {},
   "outputs": [
    {
     "data": {
      "text/plain": [
       "Item_Identifier              0\n",
       "Item_Weight                  4\n",
       "Item_Fat_Content             0\n",
       "Item_Visibility              0\n",
       "Item_Type                    0\n",
       "Item_MRP                     0\n",
       "Outlet_Identifier            0\n",
       "Outlet_Establishment_Year    0\n",
       "Outlet_Size                  0\n",
       "Outlet_Location_Type         0\n",
       "Outlet_Type                  0\n",
       "Item_Outlet_Sales            0\n",
       "Outlet_Type1                 0\n",
       "dtype: int64"
      ]
     },
     "execution_count": 27,
     "metadata": {},
     "output_type": "execute_result"
    }
   ],
   "source": [
    "df.isnull().sum()"
   ]
  },
  {
   "cell_type": "code",
   "execution_count": 28,
   "metadata": {},
   "outputs": [
    {
     "data": {
      "text/html": [
       "<div>\n",
       "<style scoped>\n",
       "    .dataframe tbody tr th:only-of-type {\n",
       "        vertical-align: middle;\n",
       "    }\n",
       "\n",
       "    .dataframe tbody tr th {\n",
       "        vertical-align: top;\n",
       "    }\n",
       "\n",
       "    .dataframe thead th {\n",
       "        text-align: right;\n",
       "    }\n",
       "</style>\n",
       "<table border=\"1\" class=\"dataframe\">\n",
       "  <thead>\n",
       "    <tr style=\"text-align: right;\">\n",
       "      <th></th>\n",
       "      <th>Item_Identifier</th>\n",
       "      <th>Item_Weight</th>\n",
       "      <th>Item_Fat_Content</th>\n",
       "      <th>Item_Visibility</th>\n",
       "      <th>Item_Type</th>\n",
       "      <th>Item_MRP</th>\n",
       "      <th>Outlet_Identifier</th>\n",
       "      <th>Outlet_Establishment_Year</th>\n",
       "      <th>Outlet_Size</th>\n",
       "      <th>Outlet_Location_Type</th>\n",
       "      <th>Outlet_Type</th>\n",
       "      <th>Item_Outlet_Sales</th>\n",
       "      <th>Outlet_Type1</th>\n",
       "    </tr>\n",
       "  </thead>\n",
       "  <tbody>\n",
       "    <tr>\n",
       "      <td>927</td>\n",
       "      <td>FDN52</td>\n",
       "      <td>NaN</td>\n",
       "      <td>Regular</td>\n",
       "      <td>0.130933</td>\n",
       "      <td>Frozen Foods</td>\n",
       "      <td>86.9198</td>\n",
       "      <td>OUT027</td>\n",
       "      <td>1985</td>\n",
       "      <td>Medium</td>\n",
       "      <td>Tier 3</td>\n",
       "      <td>Supermarket Type3</td>\n",
       "      <td>1569.9564</td>\n",
       "      <td>Supermarket</td>\n",
       "    </tr>\n",
       "    <tr>\n",
       "      <td>1922</td>\n",
       "      <td>FDK57</td>\n",
       "      <td>NaN</td>\n",
       "      <td>Low Fat</td>\n",
       "      <td>0.079904</td>\n",
       "      <td>Snack Foods</td>\n",
       "      <td>120.0440</td>\n",
       "      <td>OUT027</td>\n",
       "      <td>1985</td>\n",
       "      <td>Medium</td>\n",
       "      <td>Tier 3</td>\n",
       "      <td>Supermarket Type3</td>\n",
       "      <td>4434.2280</td>\n",
       "      <td>Supermarket</td>\n",
       "    </tr>\n",
       "    <tr>\n",
       "      <td>4187</td>\n",
       "      <td>FDE52</td>\n",
       "      <td>NaN</td>\n",
       "      <td>Regular</td>\n",
       "      <td>0.029742</td>\n",
       "      <td>Dairy</td>\n",
       "      <td>88.9514</td>\n",
       "      <td>OUT027</td>\n",
       "      <td>1985</td>\n",
       "      <td>Medium</td>\n",
       "      <td>Tier 3</td>\n",
       "      <td>Supermarket Type3</td>\n",
       "      <td>3453.5046</td>\n",
       "      <td>Supermarket</td>\n",
       "    </tr>\n",
       "    <tr>\n",
       "      <td>5022</td>\n",
       "      <td>FDQ60</td>\n",
       "      <td>NaN</td>\n",
       "      <td>Regular</td>\n",
       "      <td>0.191501</td>\n",
       "      <td>Baking Goods</td>\n",
       "      <td>121.2098</td>\n",
       "      <td>OUT019</td>\n",
       "      <td>1985</td>\n",
       "      <td>Small</td>\n",
       "      <td>Tier 1</td>\n",
       "      <td>Grocery Store</td>\n",
       "      <td>120.5098</td>\n",
       "      <td>Grocery Store</td>\n",
       "    </tr>\n",
       "  </tbody>\n",
       "</table>\n",
       "</div>"
      ],
      "text/plain": [
       "     Item_Identifier  Item_Weight Item_Fat_Content  Item_Visibility  \\\n",
       "927            FDN52          NaN          Regular         0.130933   \n",
       "1922           FDK57          NaN          Low Fat         0.079904   \n",
       "4187           FDE52          NaN          Regular         0.029742   \n",
       "5022           FDQ60          NaN          Regular         0.191501   \n",
       "\n",
       "         Item_Type  Item_MRP Outlet_Identifier  Outlet_Establishment_Year  \\\n",
       "927   Frozen Foods   86.9198            OUT027                       1985   \n",
       "1922   Snack Foods  120.0440            OUT027                       1985   \n",
       "4187         Dairy   88.9514            OUT027                       1985   \n",
       "5022  Baking Goods  121.2098            OUT019                       1985   \n",
       "\n",
       "     Outlet_Size Outlet_Location_Type        Outlet_Type  Item_Outlet_Sales  \\\n",
       "927       Medium               Tier 3  Supermarket Type3          1569.9564   \n",
       "1922      Medium               Tier 3  Supermarket Type3          4434.2280   \n",
       "4187      Medium               Tier 3  Supermarket Type3          3453.5046   \n",
       "5022       Small               Tier 1      Grocery Store           120.5098   \n",
       "\n",
       "       Outlet_Type1  \n",
       "927     Supermarket  \n",
       "1922    Supermarket  \n",
       "4187    Supermarket  \n",
       "5022  Grocery Store  "
      ]
     },
     "execution_count": 28,
     "metadata": {},
     "output_type": "execute_result"
    }
   ],
   "source": [
    "df4=df[df['Item_Weight'].isnull()]\n",
    "df4"
   ]
  },
  {
   "cell_type": "markdown",
   "metadata": {},
   "source": [
    "After filling missing values wrt item identifier there are 4 unique identifiers present so we need to still fill this remaining 4 values.\n",
    "\n",
    "So i will fill this missing values wrt item type"
   ]
  },
  {
   "cell_type": "code",
   "execution_count": 29,
   "metadata": {},
   "outputs": [],
   "source": [
    "df['Item_Weight'].fillna(df.groupby('Item_Type')['Item_Weight'].transform('mean'),inplace=True)"
   ]
  },
  {
   "cell_type": "markdown",
   "metadata": {},
   "source": [
    "# Removing the skewness"
   ]
  },
  {
   "cell_type": "code",
   "execution_count": 30,
   "metadata": {},
   "outputs": [
    {
     "data": {
      "image/png": "[encoded data removed]",
      "text/plain": [
       "<Figure size 432x288 with 1 Axes>"
      ]
     },
     "metadata": {
      "needs_background": "light"
     },
     "output_type": "display_data"
    },
    {
     "data": {
      "image/png": "[encoded data removed]",
      "text/plain": [
       "<Figure size 432x288 with 1 Axes>"
      ]
     },
     "metadata": {
      "needs_background": "light"
     },
     "output_type": "display_data"
    },
    {
     "data": {
      "image/png": "[encoded data removed]",
      "text/plain": [
       "<Figure size 432x288 with 1 Axes>"
      ]
     },
     "metadata": {
      "needs_background": "light"
     },
     "output_type": "display_data"
    }
   ],
   "source": [
    "num_features = ['Item_Weight','Item_Visibility','Item_MRP']\n",
    "for i in num_features:\n",
    "    sns.distplot(df[i],bins=8)\n",
    "    plt.xlabel(i)\n",
    "    plt.show()"
   ]
  },
  {
   "cell_type": "markdown",
   "metadata": {},
   "source": [
    "From above graphs, graph 2 is positively skewed so i will remove the skewness by performing log transformation"
   ]
  },
  {
   "cell_type": "code",
   "execution_count": 31,
   "metadata": {},
   "outputs": [],
   "source": [
    "\n",
    "df['log_visibility'] = np.log(df['Item_Visibility'])"
   ]
  },
  {
   "cell_type": "markdown",
   "metadata": {},
   "source": [
    "# Boxplots"
   ]
  },
  {
   "cell_type": "code",
   "execution_count": 32,
   "metadata": {},
   "outputs": [
    {
     "data": {
      "image/png": "[encoded data removed]",
      "text/plain": [
       "<Figure size 432x288 with 1 Axes>"
      ]
     },
     "metadata": {
      "needs_background": "light"
     },
     "output_type": "display_data"
    },
    {
     "data": {
      "image/png": "[encoded data removed]",
      "text/plain": [
       "<Figure size 432x288 with 1 Axes>"
      ]
     },
     "metadata": {
      "needs_background": "light"
     },
     "output_type": "display_data"
    },
    {
     "data": {
      "image/png": "[encoded data removed]",
      "text/plain": [
       "<Figure size 432x288 with 1 Axes>"
      ]
     },
     "metadata": {
      "needs_background": "light"
     },
     "output_type": "display_data"
    }
   ],
   "source": [
    "for i in num_features:\n",
    "    sns.boxplot(df[i])\n",
    "    plt.xlabel(i)\n",
    "    plt.show()"
   ]
  },
  {
   "cell_type": "code",
   "execution_count": 33,
   "metadata": {},
   "outputs": [
    {
     "data": {
      "image/png": "[encoded data removed]",
      "text/plain": [
       "<Figure size 432x288 with 1 Axes>"
      ]
     },
     "metadata": {
      "needs_background": "light"
     },
     "output_type": "display_data"
    },
    {
     "data": {
      "image/png": "[encoded data removed]",
      "text/plain": [
       "<Figure size 432x288 with 1 Axes>"
      ]
     },
     "metadata": {
      "needs_background": "light"
     },
     "output_type": "display_data"
    },
    {
     "data": {
      "image/png": "[encoded data removed]",
      "text/plain": [
       "<Figure size 432x288 with 1 Axes>"
      ]
     },
     "metadata": {
      "needs_background": "light"
     },
     "output_type": "display_data"
    }
   ],
   "source": [
    "def plot_graph(x_axis_feature,type_of_graph,hue=None):\n",
    "    for i in num_features:\n",
    "        if (type_of_graph=='boxplot'):\n",
    "            sns.boxplot(x_axis_feature,i,hue=hue,data=df)\n",
    "            plt.show()\n",
    "        elif (type_of_graph=='barplot'):\n",
    "             sns.barplot(x_axis_feature,i,data=df)\n",
    "             plt.show()\n",
    "        elif (type_of_graph=='catplot'):\n",
    "             sns.barplot(x_axis_feature,i,hue=hue,data=df)\n",
    "             plt.show()\n",
    "plot_graph('Outlet_Size','boxplot')"
   ]
  },
  {
   "cell_type": "markdown",
   "metadata": {},
   "source": [
    "As there are outliers present in item visibility and item outlet sales i will try to remove the outliers with the help of z score."
   ]
  },
  {
   "cell_type": "markdown",
   "metadata": {},
   "source": [
    "# Removing the Outliers"
   ]
  },
  {
   "cell_type": "code",
   "execution_count": 34,
   "metadata": {},
   "outputs": [],
   "source": [
    "# Method 1 - Removing outliers with the help of z score\n",
    "\n",
    "def remove_outlier(column):\n",
    "    std = np.std(df[column])\n",
    "    mean = np.mean(df[column])\n",
    "    outlier = []\n",
    "    for i in df[column]:\n",
    "        zscore = (i - mean) / std\n",
    "        \n",
    "        #Considering z>3 because z>3 sinifies 99.7%values fall in that region\n",
    "        \n",
    "        if(zscore > 3):\n",
    "            outlier.append(i)\n",
    "            minimum = np.min(outlier)\n",
    "    return minimum"
   ]
  },
  {
   "cell_type": "code",
   "execution_count": 35,
   "metadata": {},
   "outputs": [
    {
     "name": "stdout",
     "output_type": "stream",
     "text": [
      "0.223440258\n"
     ]
    }
   ],
   "source": [
    "print(remove_outlier('Item_Visibility'))\n"
   ]
  },
  {
   "cell_type": "markdown",
   "metadata": {},
   "source": [
    "So all the values above 0.22 will be consiered as an outlier using z score"
   ]
  },
  {
   "cell_type": "code",
   "execution_count": 36,
   "metadata": {},
   "outputs": [
    {
     "name": "stdout",
     "output_type": "stream",
     "text": [
      "0.2799065748499999\n"
     ]
    }
   ],
   "source": [
    "# Method - 2 Removing the outlier with the help of IQR score\n",
    "\n",
    "q3 = df['Item_Visibility'].quantile(0.85)\n",
    "q1 = df['Item_Visibility'].quantile(0.15)\n",
    "\n",
    "#IQR Score\n",
    "\n",
    "\n",
    "IQR = q3 - q1\n",
    "\n",
    "print(q3 + 1.5 * IQR)"
   ]
  },
  {
   "cell_type": "markdown",
   "metadata": {},
   "source": [
    "Interquartile Range (IQR) is important because it is used to define the outliers. It is the difference between the third quartile and the first quartile (IQR = Q3 -Q1). Outliers in this case are defined as the observations that are below (Q1 − 1.5x IQR) or boxplot lower whisker or above (Q3 + 1.5x IQR) or boxplot upper whisker."
   ]
  },
  {
   "cell_type": "markdown",
   "metadata": {},
   "source": [
    "So all the values above 0.20 will be considered as an outlier using IQR score"
   ]
  },
  {
   "cell_type": "code",
   "execution_count": 37,
   "metadata": {},
   "outputs": [
    {
     "name": "stdout",
     "output_type": "stream",
     "text": [
      "0.22212571858415525\n"
     ]
    }
   ],
   "source": [
    "# Method 3 - Using Standard Deviation\n",
    "m = (df['Item_Visibility'].mean())\n",
    "s = (df['Item_Visibility'].std())\n",
    "print(m+(3*s))"
   ]
  },
  {
   "cell_type": "markdown",
   "metadata": {},
   "source": [
    "If data distribution is approx normal then about 68% values lie within one standard deviation of mean and about 95% lie within two standard deviation and about 99.7% values lie within three standard deviation.\n",
    "\n",
    "Therefore, if you have any data point that is more than 3 times standard deviation then those points are likely to be considered as outlier.\n",
    "\n",
    "So all the values above 0.22217 will be considered as an outlier using SD method"
   ]
  },
  {
   "cell_type": "code",
   "execution_count": 38,
   "metadata": {},
   "outputs": [
    {
     "data": {
      "text/plain": [
       "0.101231721"
      ]
     },
     "execution_count": 38,
     "metadata": {},
     "output_type": "execute_result"
    }
   ],
   "source": [
    "a = df[(df['Outlet_Type'] == 'Grocery Store')]\n",
    "c = a['Item_Visibility'].median()\n",
    "c"
   ]
  },
  {
   "cell_type": "markdown",
   "metadata": {},
   "source": [
    "Actually all the outliers present in item visibility column corresponds to outltet of type grocery store so we will replace the outliers values by the median of item visibility which corresponds to outlet type grocery store"
   ]
  },
  {
   "cell_type": "markdown",
   "metadata": {},
   "source": [
    "### Now we will replace those values which are considered as an outliers using zscore"
   ]
  },
  {
   "cell_type": "code",
   "execution_count": 39,
   "metadata": {},
   "outputs": [],
   "source": [
    "df['Item_Visibility']=df['Item_Visibility'].where(df['Item_Visibility']<=0.2799065748499999,0.101231721)"
   ]
  },
  {
   "cell_type": "markdown",
   "metadata": {},
   "source": [
    "# Feature Engineering"
   ]
  },
  {
   "cell_type": "code",
   "execution_count": 40,
   "metadata": {},
   "outputs": [
    {
     "data": {
      "text/html": [
       "<div>\n",
       "<style scoped>\n",
       "    .dataframe tbody tr th:only-of-type {\n",
       "        vertical-align: middle;\n",
       "    }\n",
       "\n",
       "    .dataframe tbody tr th {\n",
       "        vertical-align: top;\n",
       "    }\n",
       "\n",
       "    .dataframe thead th {\n",
       "        text-align: right;\n",
       "    }\n",
       "</style>\n",
       "<table border=\"1\" class=\"dataframe\">\n",
       "  <thead>\n",
       "    <tr style=\"text-align: right;\">\n",
       "      <th></th>\n",
       "      <th>Item_Weight</th>\n",
       "      <th>Item_Visibility</th>\n",
       "      <th>Item_MRP</th>\n",
       "      <th>Outlet_Establishment_Year</th>\n",
       "      <th>Item_Outlet_Sales</th>\n",
       "      <th>log_visibility</th>\n",
       "    </tr>\n",
       "  </thead>\n",
       "  <tbody>\n",
       "    <tr>\n",
       "      <td>count</td>\n",
       "      <td>8523.000000</td>\n",
       "      <td>8523.000000</td>\n",
       "      <td>8523.000000</td>\n",
       "      <td>8523.000000</td>\n",
       "      <td>8523.000000</td>\n",
       "      <td>8523.000000</td>\n",
       "    </tr>\n",
       "    <tr>\n",
       "      <td>mean</td>\n",
       "      <td>12.875418</td>\n",
       "      <td>0.070105</td>\n",
       "      <td>140.992782</td>\n",
       "      <td>1997.831867</td>\n",
       "      <td>2181.288914</td>\n",
       "      <td>-2.920409</td>\n",
       "    </tr>\n",
       "    <tr>\n",
       "      <td>std</td>\n",
       "      <td>4.645016</td>\n",
       "      <td>0.048407</td>\n",
       "      <td>62.275067</td>\n",
       "      <td>8.371760</td>\n",
       "      <td>1706.499616</td>\n",
       "      <td>0.788455</td>\n",
       "    </tr>\n",
       "    <tr>\n",
       "      <td>min</td>\n",
       "      <td>4.555000</td>\n",
       "      <td>0.003575</td>\n",
       "      <td>31.290000</td>\n",
       "      <td>1985.000000</td>\n",
       "      <td>33.290000</td>\n",
       "      <td>-5.633875</td>\n",
       "    </tr>\n",
       "    <tr>\n",
       "      <td>25%</td>\n",
       "      <td>8.785000</td>\n",
       "      <td>0.031509</td>\n",
       "      <td>93.826500</td>\n",
       "      <td>1987.000000</td>\n",
       "      <td>834.247400</td>\n",
       "      <td>-3.457491</td>\n",
       "    </tr>\n",
       "    <tr>\n",
       "      <td>50%</td>\n",
       "      <td>12.650000</td>\n",
       "      <td>0.058182</td>\n",
       "      <td>143.012800</td>\n",
       "      <td>1999.000000</td>\n",
       "      <td>1794.331000</td>\n",
       "      <td>-2.844186</td>\n",
       "    </tr>\n",
       "    <tr>\n",
       "      <td>75%</td>\n",
       "      <td>16.850000</td>\n",
       "      <td>0.099119</td>\n",
       "      <td>185.643700</td>\n",
       "      <td>2004.000000</td>\n",
       "      <td>3101.296400</td>\n",
       "      <td>-2.311435</td>\n",
       "    </tr>\n",
       "    <tr>\n",
       "      <td>max</td>\n",
       "      <td>21.350000</td>\n",
       "      <td>0.279887</td>\n",
       "      <td>266.888400</td>\n",
       "      <td>2009.000000</td>\n",
       "      <td>13086.964800</td>\n",
       "      <td>-1.113550</td>\n",
       "    </tr>\n",
       "  </tbody>\n",
       "</table>\n",
       "</div>"
      ],
      "text/plain": [
       "       Item_Weight  Item_Visibility     Item_MRP  Outlet_Establishment_Year  \\\n",
       "count  8523.000000      8523.000000  8523.000000                8523.000000   \n",
       "mean     12.875418         0.070105   140.992782                1997.831867   \n",
       "std       4.645016         0.048407    62.275067                   8.371760   \n",
       "min       4.555000         0.003575    31.290000                1985.000000   \n",
       "25%       8.785000         0.031509    93.826500                1987.000000   \n",
       "50%      12.650000         0.058182   143.012800                1999.000000   \n",
       "75%      16.850000         0.099119   185.643700                2004.000000   \n",
       "max      21.350000         0.279887   266.888400                2009.000000   \n",
       "\n",
       "       Item_Outlet_Sales  log_visibility  \n",
       "count        8523.000000     8523.000000  \n",
       "mean         2181.288914       -2.920409  \n",
       "std          1706.499616        0.788455  \n",
       "min            33.290000       -5.633875  \n",
       "25%           834.247400       -3.457491  \n",
       "50%          1794.331000       -2.844186  \n",
       "75%          3101.296400       -2.311435  \n",
       "max         13086.964800       -1.113550  "
      ]
     },
     "execution_count": 40,
     "metadata": {},
     "output_type": "execute_result"
    }
   ],
   "source": [
    "df.describe()"
   ]
  },
  {
   "cell_type": "code",
   "execution_count": 41,
   "metadata": {},
   "outputs": [
    {
     "data": {
      "image/png": "[encoded data removed]",
      "text/plain": [
       "<Figure size 360x360 with 1 Axes>"
      ]
     },
     "metadata": {
      "needs_background": "light"
     },
     "output_type": "display_data"
    }
   ],
   "source": [
    "sns.lmplot('Item_MRP','Item_Outlet_Sales',data=df)\n",
    "plt.show()"
   ]
  },
  {
   "cell_type": "code",
   "execution_count": 42,
   "metadata": {},
   "outputs": [],
   "source": [
    "# I will bin Item_MRP and Item_Weight into 3 categories using descriptive statistics\n",
    "df['MRP_bin']=pd.cut(df['Item_MRP'],bins=[31,93.8265,143.0128,185.6437,267],labels=['cheap','affordable','slightly expensive','expensive'])\n",
    "df['Weight_bin']=pd.cut(df['Item_Weight'],bins=[4,8.785,12.65,16.85,22],labels=['vlight','light','moderate','heavy'])\n"
   ]
  },
  {
   "cell_type": "markdown",
   "metadata": {},
   "source": [
    "I will not bin the item visibility column as it is positively skewed"
   ]
  },
  {
   "cell_type": "code",
   "execution_count": 43,
   "metadata": {},
   "outputs": [
    {
     "data": {
      "text/html": [
       "<div>\n",
       "<style scoped>\n",
       "    .dataframe tbody tr th:only-of-type {\n",
       "        vertical-align: middle;\n",
       "    }\n",
       "\n",
       "    .dataframe tbody tr th {\n",
       "        vertical-align: top;\n",
       "    }\n",
       "\n",
       "    .dataframe thead th {\n",
       "        text-align: right;\n",
       "    }\n",
       "</style>\n",
       "<table border=\"1\" class=\"dataframe\">\n",
       "  <thead>\n",
       "    <tr style=\"text-align: right;\">\n",
       "      <th></th>\n",
       "      <th>Item_Identifier</th>\n",
       "      <th>Item_Weight</th>\n",
       "      <th>Item_Fat_Content</th>\n",
       "      <th>Item_Visibility</th>\n",
       "      <th>Item_Type</th>\n",
       "      <th>Item_MRP</th>\n",
       "      <th>Outlet_Identifier</th>\n",
       "      <th>Outlet_Establishment_Year</th>\n",
       "      <th>Outlet_Size</th>\n",
       "      <th>Outlet_Location_Type</th>\n",
       "      <th>Outlet_Type</th>\n",
       "      <th>Item_Outlet_Sales</th>\n",
       "      <th>Outlet_Type1</th>\n",
       "      <th>log_visibility</th>\n",
       "      <th>MRP_bin</th>\n",
       "      <th>Weight_bin</th>\n",
       "      <th>Item_Identifier_temp</th>\n",
       "    </tr>\n",
       "  </thead>\n",
       "  <tbody>\n",
       "    <tr>\n",
       "      <td>0</td>\n",
       "      <td>FDA15</td>\n",
       "      <td>9.30</td>\n",
       "      <td>Low Fat</td>\n",
       "      <td>0.016047</td>\n",
       "      <td>Dairy</td>\n",
       "      <td>249.8092</td>\n",
       "      <td>OUT049</td>\n",
       "      <td>1999</td>\n",
       "      <td>Medium</td>\n",
       "      <td>Tier 1</td>\n",
       "      <td>Supermarket Type1</td>\n",
       "      <td>3735.1380</td>\n",
       "      <td>Supermarket</td>\n",
       "      <td>-4.132215</td>\n",
       "      <td>expensive</td>\n",
       "      <td>light</td>\n",
       "      <td>FD</td>\n",
       "    </tr>\n",
       "    <tr>\n",
       "      <td>1</td>\n",
       "      <td>DRC01</td>\n",
       "      <td>5.92</td>\n",
       "      <td>Regular</td>\n",
       "      <td>0.019278</td>\n",
       "      <td>Soft Drinks</td>\n",
       "      <td>48.2692</td>\n",
       "      <td>OUT018</td>\n",
       "      <td>2009</td>\n",
       "      <td>Medium</td>\n",
       "      <td>Tier 3</td>\n",
       "      <td>Supermarket Type2</td>\n",
       "      <td>443.4228</td>\n",
       "      <td>Supermarket</td>\n",
       "      <td>-3.948780</td>\n",
       "      <td>cheap</td>\n",
       "      <td>vlight</td>\n",
       "      <td>DR</td>\n",
       "    </tr>\n",
       "    <tr>\n",
       "      <td>2</td>\n",
       "      <td>FDN15</td>\n",
       "      <td>17.50</td>\n",
       "      <td>Low Fat</td>\n",
       "      <td>0.016760</td>\n",
       "      <td>Meat</td>\n",
       "      <td>141.6180</td>\n",
       "      <td>OUT049</td>\n",
       "      <td>1999</td>\n",
       "      <td>Medium</td>\n",
       "      <td>Tier 1</td>\n",
       "      <td>Supermarket Type1</td>\n",
       "      <td>2097.2700</td>\n",
       "      <td>Supermarket</td>\n",
       "      <td>-4.088756</td>\n",
       "      <td>affordable</td>\n",
       "      <td>heavy</td>\n",
       "      <td>FD</td>\n",
       "    </tr>\n",
       "    <tr>\n",
       "      <td>3</td>\n",
       "      <td>FDX07</td>\n",
       "      <td>19.20</td>\n",
       "      <td>Regular</td>\n",
       "      <td>0.122911</td>\n",
       "      <td>Fruits and Vegetables</td>\n",
       "      <td>182.0950</td>\n",
       "      <td>OUT010</td>\n",
       "      <td>1998</td>\n",
       "      <td>Small</td>\n",
       "      <td>Tier 3</td>\n",
       "      <td>Grocery Store</td>\n",
       "      <td>732.3800</td>\n",
       "      <td>Grocery Store</td>\n",
       "      <td>-2.096299</td>\n",
       "      <td>slightly expensive</td>\n",
       "      <td>heavy</td>\n",
       "      <td>FD</td>\n",
       "    </tr>\n",
       "    <tr>\n",
       "      <td>4</td>\n",
       "      <td>NCD19</td>\n",
       "      <td>8.93</td>\n",
       "      <td>Low Fat</td>\n",
       "      <td>0.013217</td>\n",
       "      <td>Household</td>\n",
       "      <td>53.8614</td>\n",
       "      <td>OUT013</td>\n",
       "      <td>1987</td>\n",
       "      <td>High</td>\n",
       "      <td>Tier 3</td>\n",
       "      <td>Supermarket Type1</td>\n",
       "      <td>994.7052</td>\n",
       "      <td>Supermarket</td>\n",
       "      <td>-4.326277</td>\n",
       "      <td>cheap</td>\n",
       "      <td>light</td>\n",
       "      <td>NC</td>\n",
       "    </tr>\n",
       "  </tbody>\n",
       "</table>\n",
       "</div>"
      ],
      "text/plain": [
       "  Item_Identifier  Item_Weight Item_Fat_Content  Item_Visibility  \\\n",
       "0           FDA15         9.30          Low Fat         0.016047   \n",
       "1           DRC01         5.92          Regular         0.019278   \n",
       "2           FDN15        17.50          Low Fat         0.016760   \n",
       "3           FDX07        19.20          Regular         0.122911   \n",
       "4           NCD19         8.93          Low Fat         0.013217   \n",
       "\n",
       "               Item_Type  Item_MRP Outlet_Identifier  \\\n",
       "0                  Dairy  249.8092            OUT049   \n",
       "1            Soft Drinks   48.2692            OUT018   \n",
       "2                   Meat  141.6180            OUT049   \n",
       "3  Fruits and Vegetables  182.0950            OUT010   \n",
       "4              Household   53.8614            OUT013   \n",
       "\n",
       "   Outlet_Establishment_Year Outlet_Size Outlet_Location_Type  \\\n",
       "0                       1999      Medium               Tier 1   \n",
       "1                       2009      Medium               Tier 3   \n",
       "2                       1999      Medium               Tier 1   \n",
       "3                       1998       Small               Tier 3   \n",
       "4                       1987        High               Tier 3   \n",
       "\n",
       "         Outlet_Type  Item_Outlet_Sales   Outlet_Type1  log_visibility  \\\n",
       "0  Supermarket Type1          3735.1380    Supermarket       -4.132215   \n",
       "1  Supermarket Type2           443.4228    Supermarket       -3.948780   \n",
       "2  Supermarket Type1          2097.2700    Supermarket       -4.088756   \n",
       "3      Grocery Store           732.3800  Grocery Store       -2.096299   \n",
       "4  Supermarket Type1           994.7052    Supermarket       -4.326277   \n",
       "\n",
       "              MRP_bin Weight_bin Item_Identifier_temp  \n",
       "0           expensive      light                   FD  \n",
       "1               cheap     vlight                   DR  \n",
       "2          affordable      heavy                   FD  \n",
       "3  slightly expensive      heavy                   FD  \n",
       "4               cheap      light                   NC  "
      ]
     },
     "execution_count": 43,
     "metadata": {},
     "output_type": "execute_result"
    }
   ],
   "source": [
    "#Extracting first two letters of Item_Identifier\n",
    "df['Item_Identifier_temp']=df['Item_Identifier'].str[:2]\n",
    "df.head()"
   ]
  },
  {
   "cell_type": "markdown",
   "metadata": {},
   "source": [
    "FD - Foods\n",
    "\n",
    "DR - Drinks\n",
    "\n",
    "NC - Non Consumable"
   ]
  },
  {
   "cell_type": "code",
   "execution_count": 44,
   "metadata": {},
   "outputs": [
    {
     "data": {
      "image/png": "[encoded data removed]",
      "text/plain": [
       "<Figure size 432x288 with 1 Axes>"
      ]
     },
     "metadata": {
      "needs_background": "light"
     },
     "output_type": "display_data"
    }
   ],
   "source": [
    "sns.barplot(df['Outlet_Type'],df['Item_Outlet_Sales'])\n",
    "plt.show()"
   ]
  },
  {
   "cell_type": "code",
   "execution_count": 45,
   "metadata": {},
   "outputs": [
    {
     "data": {
      "image/png": "[encoded data removed]",
      "text/plain": [
       "<Figure size 432x288 with 1 Axes>"
      ]
     },
     "metadata": {
      "needs_background": "light"
     },
     "output_type": "display_data"
    }
   ],
   "source": [
    "a=pd.crosstab(df['Outlet_Type'],df['Outlet_Establishment_Year'])\n",
    "a.plot(kind='bar')\n",
    "plt.show()"
   ]
  },
  {
   "cell_type": "markdown",
   "metadata": {},
   "source": [
    "Since  more no of supermarket type 3 are built in 1987 than grocery store is also one of the reason why supermarket type 3 has higher sales.\n",
    "\n",
    "Another reason is why would people go to grocery store if they get all their desired product at one stop and even at a cheaper rate"
   ]
  },
  {
   "cell_type": "code",
   "execution_count": 46,
   "metadata": {},
   "outputs": [
    {
     "data": {
      "image/png": "[encoded data removed]",
      "text/plain": [
       "<Figure size 432x288 with 1 Axes>"
      ]
     },
     "metadata": {
      "needs_background": "light"
     },
     "output_type": "display_data"
    }
   ],
   "source": [
    "sns.barplot(df['Outlet_Type'],df['Item_Visibility'])\n",
    "plt.show()"
   ]
  },
  {
   "cell_type": "markdown",
   "metadata": {},
   "source": [
    "Visibility of all products are same in supermarket of type 1 , 2 , 3 since most of the supermarket have same intetior or the other reason might be that all the supermarket are same and are just the different branches"
   ]
  },
  {
   "cell_type": "code",
   "execution_count": 47,
   "metadata": {},
   "outputs": [
    {
     "data": {
      "image/png": "[encoded data removed]",
      "text/plain": [
       "<Figure size 432x288 with 1 Axes>"
      ]
     },
     "metadata": {
      "needs_background": "light"
     },
     "output_type": "display_data"
    },
    {
     "data": {
      "image/png": "[encoded data removed]",
      "text/plain": [
       "<Figure size 432x288 with 1 Axes>"
      ]
     },
     "metadata": {
      "needs_background": "light"
     },
     "output_type": "display_data"
    },
    {
     "data": {
      "image/png": "[encoded data removed]",
      "text/plain": [
       "<Figure size 432x288 with 1 Axes>"
      ]
     },
     "metadata": {
      "needs_background": "light"
     },
     "output_type": "display_data"
    }
   ],
   "source": [
    "merge=['Outlet_Location_Type','Outlet_Size','Item_Identifier_temp']\n",
    "for i in merge:\n",
    "    a=pd.crosstab(df['Outlet_Type'],df[i])\n",
    "    a.plot(kind='bar')\n",
    "    plt.show()\n"
   ]
  },
  {
   "cell_type": "markdown",
   "metadata": {},
   "source": [
    "All of the graph proves that the behaviour of supermarket type 2 and 3 are similar so we will add those types"
   ]
  },
  {
   "cell_type": "code",
   "execution_count": 48,
   "metadata": {},
   "outputs": [],
   "source": [
    "dict={'Supermarket Type1':'Supermarket Type1','Supermarket Type2':'Supermarket Type2','Supermarket Type3':'Supermarket Type2','Grocery Store':'Grocery Store'}\n",
    "df['Outlet_Type']=df['Outlet_Type'].map(dict)"
   ]
  },
  {
   "cell_type": "code",
   "execution_count": 49,
   "metadata": {},
   "outputs": [
    {
     "data": {
      "text/html": [
       "<div>\n",
       "<style scoped>\n",
       "    .dataframe tbody tr th:only-of-type {\n",
       "        vertical-align: middle;\n",
       "    }\n",
       "\n",
       "    .dataframe tbody tr th {\n",
       "        vertical-align: top;\n",
       "    }\n",
       "\n",
       "    .dataframe thead th {\n",
       "        text-align: right;\n",
       "    }\n",
       "</style>\n",
       "<table border=\"1\" class=\"dataframe\">\n",
       "  <thead>\n",
       "    <tr style=\"text-align: right;\">\n",
       "      <th></th>\n",
       "      <th>Item_Identifier</th>\n",
       "      <th>Item_Weight</th>\n",
       "      <th>Item_Fat_Content</th>\n",
       "      <th>Item_Visibility</th>\n",
       "      <th>Item_Type</th>\n",
       "      <th>Item_MRP</th>\n",
       "      <th>Outlet_Identifier</th>\n",
       "      <th>Outlet_Establishment_Year</th>\n",
       "      <th>Outlet_Size</th>\n",
       "      <th>Outlet_Location_Type</th>\n",
       "      <th>Outlet_Type</th>\n",
       "      <th>Item_Outlet_Sales</th>\n",
       "      <th>Outlet_Type1</th>\n",
       "      <th>log_visibility</th>\n",
       "      <th>MRP_bin</th>\n",
       "      <th>Weight_bin</th>\n",
       "      <th>Item_Identifier_temp</th>\n",
       "      <th>Outlet_Existence</th>\n",
       "    </tr>\n",
       "  </thead>\n",
       "  <tbody>\n",
       "    <tr>\n",
       "      <td>0</td>\n",
       "      <td>FDA15</td>\n",
       "      <td>9.30</td>\n",
       "      <td>Low Fat</td>\n",
       "      <td>0.016047</td>\n",
       "      <td>Dairy</td>\n",
       "      <td>249.8092</td>\n",
       "      <td>OUT049</td>\n",
       "      <td>1999</td>\n",
       "      <td>Medium</td>\n",
       "      <td>Tier 1</td>\n",
       "      <td>Supermarket Type1</td>\n",
       "      <td>3735.1380</td>\n",
       "      <td>Supermarket</td>\n",
       "      <td>-4.132215</td>\n",
       "      <td>expensive</td>\n",
       "      <td>light</td>\n",
       "      <td>FD</td>\n",
       "      <td>21</td>\n",
       "    </tr>\n",
       "    <tr>\n",
       "      <td>1</td>\n",
       "      <td>DRC01</td>\n",
       "      <td>5.92</td>\n",
       "      <td>Regular</td>\n",
       "      <td>0.019278</td>\n",
       "      <td>Soft Drinks</td>\n",
       "      <td>48.2692</td>\n",
       "      <td>OUT018</td>\n",
       "      <td>2009</td>\n",
       "      <td>Medium</td>\n",
       "      <td>Tier 3</td>\n",
       "      <td>Supermarket Type2</td>\n",
       "      <td>443.4228</td>\n",
       "      <td>Supermarket</td>\n",
       "      <td>-3.948780</td>\n",
       "      <td>cheap</td>\n",
       "      <td>vlight</td>\n",
       "      <td>DR</td>\n",
       "      <td>11</td>\n",
       "    </tr>\n",
       "    <tr>\n",
       "      <td>2</td>\n",
       "      <td>FDN15</td>\n",
       "      <td>17.50</td>\n",
       "      <td>Low Fat</td>\n",
       "      <td>0.016760</td>\n",
       "      <td>Meat</td>\n",
       "      <td>141.6180</td>\n",
       "      <td>OUT049</td>\n",
       "      <td>1999</td>\n",
       "      <td>Medium</td>\n",
       "      <td>Tier 1</td>\n",
       "      <td>Supermarket Type1</td>\n",
       "      <td>2097.2700</td>\n",
       "      <td>Supermarket</td>\n",
       "      <td>-4.088756</td>\n",
       "      <td>affordable</td>\n",
       "      <td>heavy</td>\n",
       "      <td>FD</td>\n",
       "      <td>21</td>\n",
       "    </tr>\n",
       "    <tr>\n",
       "      <td>3</td>\n",
       "      <td>FDX07</td>\n",
       "      <td>19.20</td>\n",
       "      <td>Regular</td>\n",
       "      <td>0.122911</td>\n",
       "      <td>Fruits and Vegetables</td>\n",
       "      <td>182.0950</td>\n",
       "      <td>OUT010</td>\n",
       "      <td>1998</td>\n",
       "      <td>Small</td>\n",
       "      <td>Tier 3</td>\n",
       "      <td>Grocery Store</td>\n",
       "      <td>732.3800</td>\n",
       "      <td>Grocery Store</td>\n",
       "      <td>-2.096299</td>\n",
       "      <td>slightly expensive</td>\n",
       "      <td>heavy</td>\n",
       "      <td>FD</td>\n",
       "      <td>22</td>\n",
       "    </tr>\n",
       "    <tr>\n",
       "      <td>4</td>\n",
       "      <td>NCD19</td>\n",
       "      <td>8.93</td>\n",
       "      <td>Low Fat</td>\n",
       "      <td>0.013217</td>\n",
       "      <td>Household</td>\n",
       "      <td>53.8614</td>\n",
       "      <td>OUT013</td>\n",
       "      <td>1987</td>\n",
       "      <td>High</td>\n",
       "      <td>Tier 3</td>\n",
       "      <td>Supermarket Type1</td>\n",
       "      <td>994.7052</td>\n",
       "      <td>Supermarket</td>\n",
       "      <td>-4.326277</td>\n",
       "      <td>cheap</td>\n",
       "      <td>light</td>\n",
       "      <td>NC</td>\n",
       "      <td>33</td>\n",
       "    </tr>\n",
       "  </tbody>\n",
       "</table>\n",
       "</div>"
      ],
      "text/plain": [
       "  Item_Identifier  Item_Weight Item_Fat_Content  Item_Visibility  \\\n",
       "0           FDA15         9.30          Low Fat         0.016047   \n",
       "1           DRC01         5.92          Regular         0.019278   \n",
       "2           FDN15        17.50          Low Fat         0.016760   \n",
       "3           FDX07        19.20          Regular         0.122911   \n",
       "4           NCD19         8.93          Low Fat         0.013217   \n",
       "\n",
       "               Item_Type  Item_MRP Outlet_Identifier  \\\n",
       "0                  Dairy  249.8092            OUT049   \n",
       "1            Soft Drinks   48.2692            OUT018   \n",
       "2                   Meat  141.6180            OUT049   \n",
       "3  Fruits and Vegetables  182.0950            OUT010   \n",
       "4              Household   53.8614            OUT013   \n",
       "\n",
       "   Outlet_Establishment_Year Outlet_Size Outlet_Location_Type  \\\n",
       "0                       1999      Medium               Tier 1   \n",
       "1                       2009      Medium               Tier 3   \n",
       "2                       1999      Medium               Tier 1   \n",
       "3                       1998       Small               Tier 3   \n",
       "4                       1987        High               Tier 3   \n",
       "\n",
       "         Outlet_Type  Item_Outlet_Sales   Outlet_Type1  log_visibility  \\\n",
       "0  Supermarket Type1          3735.1380    Supermarket       -4.132215   \n",
       "1  Supermarket Type2           443.4228    Supermarket       -3.948780   \n",
       "2  Supermarket Type1          2097.2700    Supermarket       -4.088756   \n",
       "3      Grocery Store           732.3800  Grocery Store       -2.096299   \n",
       "4  Supermarket Type1           994.7052    Supermarket       -4.326277   \n",
       "\n",
       "              MRP_bin Weight_bin Item_Identifier_temp  Outlet_Existence  \n",
       "0           expensive      light                   FD                21  \n",
       "1               cheap     vlight                   DR                11  \n",
       "2          affordable      heavy                   FD                21  \n",
       "3  slightly expensive      heavy                   FD                22  \n",
       "4               cheap      light                   NC                33  "
      ]
     },
     "execution_count": 49,
     "metadata": {},
     "output_type": "execute_result"
    }
   ],
   "source": [
    "df['Outlet_Existence']=[2020-i for i in df['Outlet_Establishment_Year']]\n",
    "df.head()"
   ]
  },
  {
   "cell_type": "markdown",
   "metadata": {},
   "source": [
    "Outlet Existence shows how old that outlet is."
   ]
  },
  {
   "cell_type": "code",
   "execution_count": 50,
   "metadata": {},
   "outputs": [
    {
     "data": {
      "text/html": [
       "<div>\n",
       "<style scoped>\n",
       "    .dataframe tbody tr th:only-of-type {\n",
       "        vertical-align: middle;\n",
       "    }\n",
       "\n",
       "    .dataframe tbody tr th {\n",
       "        vertical-align: top;\n",
       "    }\n",
       "\n",
       "    .dataframe thead th {\n",
       "        text-align: right;\n",
       "    }\n",
       "</style>\n",
       "<table border=\"1\" class=\"dataframe\">\n",
       "  <thead>\n",
       "    <tr style=\"text-align: right;\">\n",
       "      <th></th>\n",
       "      <th>Item_Identifier</th>\n",
       "      <th>Item_Weight</th>\n",
       "      <th>Item_Fat_Content</th>\n",
       "      <th>Item_Visibility</th>\n",
       "      <th>Item_Type</th>\n",
       "      <th>Item_MRP</th>\n",
       "      <th>Outlet_Identifier</th>\n",
       "      <th>Outlet_Establishment_Year</th>\n",
       "      <th>Outlet_Size</th>\n",
       "      <th>Outlet_Location_Type</th>\n",
       "      <th>Outlet_Type</th>\n",
       "      <th>Item_Outlet_Sales</th>\n",
       "      <th>Outlet_Type1</th>\n",
       "      <th>log_visibility</th>\n",
       "      <th>MRP_bin</th>\n",
       "      <th>Weight_bin</th>\n",
       "      <th>Item_Identifier_temp</th>\n",
       "      <th>Outlet_Existence</th>\n",
       "      <th>Outlet_Status</th>\n",
       "    </tr>\n",
       "  </thead>\n",
       "  <tbody>\n",
       "    <tr>\n",
       "      <td>0</td>\n",
       "      <td>FDA15</td>\n",
       "      <td>9.30</td>\n",
       "      <td>Low Fat</td>\n",
       "      <td>0.016047</td>\n",
       "      <td>Dairy</td>\n",
       "      <td>249.8092</td>\n",
       "      <td>OUT049</td>\n",
       "      <td>1999</td>\n",
       "      <td>Medium</td>\n",
       "      <td>Tier 1</td>\n",
       "      <td>Supermarket Type1</td>\n",
       "      <td>3735.1380</td>\n",
       "      <td>Supermarket</td>\n",
       "      <td>-4.132215</td>\n",
       "      <td>expensive</td>\n",
       "      <td>light</td>\n",
       "      <td>FD</td>\n",
       "      <td>21</td>\n",
       "      <td>0</td>\n",
       "    </tr>\n",
       "    <tr>\n",
       "      <td>1</td>\n",
       "      <td>DRC01</td>\n",
       "      <td>5.92</td>\n",
       "      <td>Regular</td>\n",
       "      <td>0.019278</td>\n",
       "      <td>Soft Drinks</td>\n",
       "      <td>48.2692</td>\n",
       "      <td>OUT018</td>\n",
       "      <td>2009</td>\n",
       "      <td>Medium</td>\n",
       "      <td>Tier 3</td>\n",
       "      <td>Supermarket Type2</td>\n",
       "      <td>443.4228</td>\n",
       "      <td>Supermarket</td>\n",
       "      <td>-3.948780</td>\n",
       "      <td>cheap</td>\n",
       "      <td>vlight</td>\n",
       "      <td>DR</td>\n",
       "      <td>11</td>\n",
       "      <td>1</td>\n",
       "    </tr>\n",
       "    <tr>\n",
       "      <td>2</td>\n",
       "      <td>FDN15</td>\n",
       "      <td>17.50</td>\n",
       "      <td>Low Fat</td>\n",
       "      <td>0.016760</td>\n",
       "      <td>Meat</td>\n",
       "      <td>141.6180</td>\n",
       "      <td>OUT049</td>\n",
       "      <td>1999</td>\n",
       "      <td>Medium</td>\n",
       "      <td>Tier 1</td>\n",
       "      <td>Supermarket Type1</td>\n",
       "      <td>2097.2700</td>\n",
       "      <td>Supermarket</td>\n",
       "      <td>-4.088756</td>\n",
       "      <td>affordable</td>\n",
       "      <td>heavy</td>\n",
       "      <td>FD</td>\n",
       "      <td>21</td>\n",
       "      <td>0</td>\n",
       "    </tr>\n",
       "    <tr>\n",
       "      <td>3</td>\n",
       "      <td>FDX07</td>\n",
       "      <td>19.20</td>\n",
       "      <td>Regular</td>\n",
       "      <td>0.122911</td>\n",
       "      <td>Fruits and Vegetables</td>\n",
       "      <td>182.0950</td>\n",
       "      <td>OUT010</td>\n",
       "      <td>1998</td>\n",
       "      <td>Small</td>\n",
       "      <td>Tier 3</td>\n",
       "      <td>Grocery Store</td>\n",
       "      <td>732.3800</td>\n",
       "      <td>Grocery Store</td>\n",
       "      <td>-2.096299</td>\n",
       "      <td>slightly expensive</td>\n",
       "      <td>heavy</td>\n",
       "      <td>FD</td>\n",
       "      <td>22</td>\n",
       "      <td>0</td>\n",
       "    </tr>\n",
       "    <tr>\n",
       "      <td>4</td>\n",
       "      <td>NCD19</td>\n",
       "      <td>8.93</td>\n",
       "      <td>Low Fat</td>\n",
       "      <td>0.013217</td>\n",
       "      <td>Household</td>\n",
       "      <td>53.8614</td>\n",
       "      <td>OUT013</td>\n",
       "      <td>1987</td>\n",
       "      <td>High</td>\n",
       "      <td>Tier 3</td>\n",
       "      <td>Supermarket Type1</td>\n",
       "      <td>994.7052</td>\n",
       "      <td>Supermarket</td>\n",
       "      <td>-4.326277</td>\n",
       "      <td>cheap</td>\n",
       "      <td>light</td>\n",
       "      <td>NC</td>\n",
       "      <td>33</td>\n",
       "      <td>0</td>\n",
       "    </tr>\n",
       "  </tbody>\n",
       "</table>\n",
       "</div>"
      ],
      "text/plain": [
       "  Item_Identifier  Item_Weight Item_Fat_Content  Item_Visibility  \\\n",
       "0           FDA15         9.30          Low Fat         0.016047   \n",
       "1           DRC01         5.92          Regular         0.019278   \n",
       "2           FDN15        17.50          Low Fat         0.016760   \n",
       "3           FDX07        19.20          Regular         0.122911   \n",
       "4           NCD19         8.93          Low Fat         0.013217   \n",
       "\n",
       "               Item_Type  Item_MRP Outlet_Identifier  \\\n",
       "0                  Dairy  249.8092            OUT049   \n",
       "1            Soft Drinks   48.2692            OUT018   \n",
       "2                   Meat  141.6180            OUT049   \n",
       "3  Fruits and Vegetables  182.0950            OUT010   \n",
       "4              Household   53.8614            OUT013   \n",
       "\n",
       "   Outlet_Establishment_Year Outlet_Size Outlet_Location_Type  \\\n",
       "0                       1999      Medium               Tier 1   \n",
       "1                       2009      Medium               Tier 3   \n",
       "2                       1999      Medium               Tier 1   \n",
       "3                       1998       Small               Tier 3   \n",
       "4                       1987        High               Tier 3   \n",
       "\n",
       "         Outlet_Type  Item_Outlet_Sales   Outlet_Type1  log_visibility  \\\n",
       "0  Supermarket Type1          3735.1380    Supermarket       -4.132215   \n",
       "1  Supermarket Type2           443.4228    Supermarket       -3.948780   \n",
       "2  Supermarket Type1          2097.2700    Supermarket       -4.088756   \n",
       "3      Grocery Store           732.3800  Grocery Store       -2.096299   \n",
       "4  Supermarket Type1           994.7052    Supermarket       -4.326277   \n",
       "\n",
       "              MRP_bin Weight_bin Item_Identifier_temp  Outlet_Existence  \\\n",
       "0           expensive      light                   FD                21   \n",
       "1               cheap     vlight                   DR                11   \n",
       "2          affordable      heavy                   FD                21   \n",
       "3  slightly expensive      heavy                   FD                22   \n",
       "4               cheap      light                   NC                33   \n",
       "\n",
       "   Outlet_Status  \n",
       "0              0  \n",
       "1              1  \n",
       "2              0  \n",
       "3              0  \n",
       "4              0  "
      ]
     },
     "execution_count": 50,
     "metadata": {},
     "output_type": "execute_result"
    }
   ],
   "source": [
    "df['Outlet_Status']=[0 if i<=2000 else 1 for i in df['Outlet_Establishment_Year']]\n",
    "df.head()"
   ]
  },
  {
   "cell_type": "markdown",
   "metadata": {},
   "source": [
    "Classifying outlet into 2 categories 0(old) and 1(new) according to the year in which the store was built"
   ]
  },
  {
   "cell_type": "code",
   "execution_count": 51,
   "metadata": {},
   "outputs": [
    {
     "data": {
      "image/png": "[encoded data removed]",
      "text/plain": [
       "<Figure size 432x288 with 1 Axes>"
      ]
     },
     "metadata": {
      "needs_background": "light"
     },
     "output_type": "display_data"
    }
   ],
   "source": [
    "sns.barplot(df['Outlet_Status'],df['Item_Outlet_Sales'])\n",
    "plt.show()"
   ]
  },
  {
   "cell_type": "markdown",
   "metadata": {},
   "source": [
    "Above graph shows that newer outlet have higher outlet sales"
   ]
  },
  {
   "cell_type": "code",
   "execution_count": 52,
   "metadata": {},
   "outputs": [
    {
     "data": {
      "image/png": "[encoded data removed]",
      "text/plain": [
       "<Figure size 432x288 with 1 Axes>"
      ]
     },
     "metadata": {
      "needs_background": "light"
     },
     "output_type": "display_data"
    }
   ],
   "source": [
    "a=pd.crosstab(df['Outlet_Status'],df['Outlet_Type'])\n",
    "a.plot(kind='bar')\n",
    "plt.show()"
   ]
  },
  {
   "cell_type": "markdown",
   "metadata": {},
   "source": [
    "Reason for the higher sales of newly built outlets are that newly built outlet are only of type supermarket and none of are grocery store"
   ]
  },
  {
   "cell_type": "code",
   "execution_count": 53,
   "metadata": {},
   "outputs": [
    {
     "data": {
      "image/png": "[encoded data removed]",
      "text/plain": [
       "<Figure size 432x288 with 1 Axes>"
      ]
     },
     "metadata": {
      "needs_background": "light"
     },
     "output_type": "display_data"
    }
   ],
   "source": [
    "sns.barplot(df['Outlet_Status'],df['Item_Visibility'])\n",
    "plt.show()"
   ]
  },
  {
   "cell_type": "code",
   "execution_count": 54,
   "metadata": {},
   "outputs": [
    {
     "data": {
      "image/png": "[encoded data removed]",
      "text/plain": [
       "<Figure size 432x288 with 1 Axes>"
      ]
     },
     "metadata": {
      "needs_background": "light"
     },
     "output_type": "display_data"
    }
   ],
   "source": [
    "a=pd.crosstab(df['Outlet_Status'],df['Outlet_Size'])\n",
    "a.plot(kind='bar')\n",
    "plt.show()"
   ]
  },
  {
   "cell_type": "markdown",
   "metadata": {},
   "source": [
    "Generally newer outlet have low item visibility since most of the newer outlets are small in size"
   ]
  },
  {
   "cell_type": "code",
   "execution_count": 55,
   "metadata": {},
   "outputs": [
    {
     "data": {
      "text/plain": [
       "Low Fat    3918\n",
       "Regular    3006\n",
       "No Fat     1599\n",
       "Name: Item_Fat_Content, dtype: int64"
      ]
     },
     "execution_count": 55,
     "metadata": {},
     "output_type": "execute_result"
    }
   ],
   "source": [
    "# Since Non Consumables cannot be low fat or regular so  will create new var in item fat content for non consumable item identifier\n",
    "df.loc[df['Item_Identifier_temp']=='NC','Item_Fat_Content']='No Fat'\n",
    "df['Item_Fat_Content'].value_counts()"
   ]
  },
  {
   "cell_type": "code",
   "execution_count": 56,
   "metadata": {},
   "outputs": [
    {
     "name": "stdout",
     "output_type": "stream",
     "text": [
      "Dairy Soft Drinks 2143.293498846496\n",
      "Dairy Meat 2204.299605420055\n",
      "Dairy Fruits and Vegetables 2268.8891682340663\n",
      "Dairy Household 2247.542565577891\n",
      "Dairy Baking Goods 2096.330370977443\n",
      "Dairy Snack Foods 2261.094653666313\n",
      "Dairy Frozen Foods 2177.0668659297794\n",
      "Dairy Breakfast 2215.773993434343\n",
      "Dairy Health and Hygiene 2136.2680440931804\n",
      "Dairy Hard Drinks 2210.253882142857\n",
      "Dairy Canned 2228.9598375657406\n",
      "Dairy Breads 2224.8995069667744\n",
      "Dairy Starchy Foods 2257.8256645783144\n",
      "Dairy Others 2171.6940784958874\n",
      "Dairy Seafood 2240.566046380697\n",
      "Soft Drinks Dairy 2143.293498846496\n",
      "Soft Drinks Meat 2080.992337931036\n",
      "Soft Drinks Fruits and Vegetables 2214.047429218844\n",
      "Soft Drinks Household 2175.934638523986\n",
      "Soft Drinks Baking Goods 1974.7695006404408\n",
      "Soft Drinks Snack Foods 2204.0631057750766\n",
      "Soft Drinks Frozen Foods 2089.648355572636\n",
      "Soft Drinks Breakfast 2027.3813938738733\n",
      "Soft Drinks Health and Hygiene 2008.3915645595898\n",
      "Soft Drinks Hard Drinks 2049.6072066767833\n",
      "Soft Drinks Canned 2136.2424265082295\n",
      "Soft Drinks Breads 2077.7800442528746\n",
      "Soft Drinks Starchy Foods 2098.3119264755496\n",
      "Soft Drinks Others 1984.389790879478\n",
      "Soft Drinks Seafood 2046.6914369351657\n",
      "Meat Dairy 2204.299605420055\n",
      "Meat Soft Drinks 2080.992337931036\n",
      "Meat Fruits and Vegetables 2255.6580741098387\n",
      "Meat Household 2227.0107304868925\n",
      "Meat Baking Goods 2034.567524883505\n",
      "Meat Snack Foods 2246.3702763076935\n",
      "Meat Frozen Foods 2141.530367369243\n",
      "Meat Breakfast 2149.27955813084\n",
      "Meat Health and Hygiene 2077.0007934391574\n",
      "Meat Hard Drinks 2152.361563693271\n",
      "Meat Canned 2198.9917175046576\n",
      "Meat Breads 2175.743788165681\n",
      "Meat Starchy Foods 2214.601854101222\n",
      "Meat Others 2092.732696296296\n",
      "Meat Seafood 2180.846280981594\n",
      "Fruits and Vegetables Dairy 2268.8891682340663\n",
      "Fruits and Vegetables Soft Drinks 2214.047429218844\n",
      "Fruits and Vegetables Meat 2255.6580741098387\n",
      "Fruits and Vegetables Household 2276.1687815126047\n",
      "Fruits and Vegetables Baking Goods 2173.1835952127685\n",
      "Fruits and Vegetables Snack Foods 2283.242559128282\n",
      "Fruits and Vegetables Frozen Foods 2224.997416379312\n",
      "Fruits and Vegetables Breakfast 2274.484924292102\n",
      "Fruits and Vegetables Health and Hygiene 2206.1986042237468\n",
      "Fruits and Vegetables Hard Drinks 2266.8418008298786\n",
      "Fruits and Vegetables Canned 2266.9916583732092\n",
      "Fruits and Vegetables Breads 2274.643968712069\n",
      "Fruits and Vegetables Starchy Foods 2298.160193623189\n",
      "Fruits and Vegetables Others 2245.237277944325\n",
      "Fruits and Vegetables Seafood 2290.839534104939\n",
      "Household Dairy 2247.542565577891\n",
      "Household Soft Drinks 2175.934638523986\n",
      "Household Meat 2227.0107304868925\n",
      "Household Fruits and Vegetables 2276.1687815126047\n",
      "Household Baking Goods 2131.5911780487822\n",
      "Household Snack Foods 2269.326919526067\n",
      "Household Frozen Foods 2197.751133522086\n",
      "Household Breakfast 2242.933985098038\n",
      "Household Health and Hygiene 2168.3173783216816\n",
      "Household Hard Drinks 2236.020587544483\n",
      "Household Canned 2244.801286593974\n",
      "Household Breads 2246.968907838067\n",
      "Household Starchy Foods 2274.9479807183343\n",
      "Household Others 2206.683339017606\n",
      "Household Seafood 2263.2052696098553\n",
      "Baking Goods Dairy 2096.330370977443\n",
      "Baking Goods Soft Drinks 1974.7695006404408\n",
      "Baking Goods Meat 2034.567524883505\n",
      "Baking Goods Fruits and Vegetables 2173.1835952127685\n",
      "Baking Goods Household 2131.5911780487822\n",
      "Baking Goods Snack Foods 2163.5884357142877\n",
      "Baking Goods Frozen Foods 2055.3591295212764\n",
      "Baking Goods Breakfast 1976.021495778365\n",
      "Baking Goods Health and Hygiene 1978.3608561643864\n",
      "Baking Goods Hard Drinks 1999.209709280743\n",
      "Baking Goods Canned 2089.1879990747875\n",
      "Baking Goods Breads 2023.0951401557293\n",
      "Baking Goods Starchy Foods 2031.314814824123\n",
      "Baking Goods Others 1947.4209936352522\n",
      "Baking Goods Seafood 1986.5078112359556\n",
      "Snack Foods Dairy 2261.094653666313\n",
      "Snack Foods Soft Drinks 2204.0631057750766\n",
      "Snack Foods Meat 2246.3702763076935\n",
      "Snack Foods Fruits and Vegetables 2283.242559128282\n",
      "Snack Foods Household 2269.326919526067\n",
      "Snack Foods Baking Goods 2163.5884357142877\n",
      "Snack Foods Frozen Foods 2217.179414202337\n",
      "Snack Foods Breakfast 2263.423693587789\n",
      "Snack Foods Health and Hygiene 2196.50361906977\n",
      "Snack Foods Hard Drinks 2256.4211557284316\n",
      "Snack Foods Canned 2259.0251917793435\n",
      "Snack Foods Breads 2264.6611135768435\n",
      "Snack Foods Starchy Foods 2287.9728022255194\n",
      "Snack Foods Others 2233.9690990504027\n",
      "Snack Foods Seafood 2279.789799367091\n",
      "Frozen Foods Dairy 2177.0668659297794\n",
      "Frozen Foods Soft Drinks 2089.648355572636\n",
      "Frozen Foods Meat 2141.530367369243\n",
      "Frozen Foods Fruits and Vegetables 2224.997416379312\n",
      "Frozen Foods Household 2197.751133522086\n",
      "Frozen Foods Baking Goods 2055.3591295212764\n",
      "Frozen Foods Snack Foods 2217.179414202337\n",
      "Frozen Foods Breakfast 2130.4697103519657\n",
      "Frozen Foods Health and Hygiene 2086.435266279071\n",
      "Frozen Foods Hard Drinks 2134.1385194392515\n",
      "Frozen Foods Canned 2172.681914418606\n",
      "Frozen Foods Breads 2149.0261765130967\n",
      "Frozen Foods Starchy Foods 2168.4621902390427\n",
      "Frozen Foods Others 2098.7828275121938\n",
      "Frozen Foods Seafood 2146.3076173913028\n",
      "Breakfast Dairy 2215.773993434343\n",
      "Breakfast Soft Drinks 2027.3813938738733\n",
      "Breakfast Meat 2149.27955813084\n",
      "Breakfast Fruits and Vegetables 2274.484924292102\n",
      "Breakfast Household 2242.933985098038\n",
      "Breakfast Baking Goods 1976.021495778365\n",
      "Breakfast Snack Foods 2263.423693587789\n",
      "Breakfast Frozen Foods 2130.4697103519657\n",
      "Breakfast Health and Hygiene 2027.7763323809534\n",
      "Breakfast Hard Drinks 2129.914749382715\n",
      "Breakfast Canned 2208.762113570486\n",
      "Breakfast Breads 2176.0003889196687\n",
      "Breakfast Starchy Foods 2262.4038837209305\n",
      "Breakfast Others 1999.3425132616492\n",
      "Breakfast Seafood 2190.6159252873563\n",
      "Health and Hygiene Dairy 2136.2680440931804\n",
      "Health and Hygiene Soft Drinks 2008.3915645595898\n",
      "Health and Hygiene Meat 2077.0007934391574\n",
      "Health and Hygiene Fruits and Vegetables 2206.1986042237468\n",
      "Health and Hygiene Household 2168.3173783216816\n",
      "Health and Hygiene Baking Goods 1978.3608561643864\n",
      "Health and Hygiene Snack Foods 2196.50361906977\n",
      "Health and Hygiene Frozen Foods 2086.435266279071\n",
      "Health and Hygiene Breakfast 2027.7763323809534\n",
      "Health and Hygiene Hard Drinks 2047.6751566757528\n",
      "Health and Hygiene Canned 2129.4710268605686\n",
      "Health and Hygiene Breads 2073.200164202339\n",
      "Health and Hygiene Starchy Foods 2090.7206410179692\n",
      "Health and Hygiene Others 1989.430692888245\n",
      "Health and Hygiene Seafood 2044.637597945207\n",
      "Hard Drinks Dairy 2210.253882142857\n",
      "Hard Drinks Soft Drinks 2049.6072066767833\n",
      "Hard Drinks Meat 2152.361563693271\n",
      "Hard Drinks Fruits and Vegetables 2266.8418008298786\n",
      "Hard Drinks Household 2236.020587544483\n",
      "Hard Drinks Baking Goods 1999.209709280743\n",
      "Hard Drinks Snack Foods 2256.4211557284316\n",
      "Hard Drinks Frozen Foods 2134.1385194392515\n",
      "Hard Drinks Breakfast 2129.914749382715\n",
      "Hard Drinks Health and Hygiene 2047.6751566757528\n",
      "Hard Drinks Canned 2203.8759209733475\n",
      "Hard Drinks Breads 2174.2593892473133\n",
      "Hard Drinks Starchy Foods 2235.344413259669\n",
      "Hard Drinks Others 2045.1985295039153\n",
      "Hard Drinks Seafood 2182.2361388489194\n",
      "Canned Dairy 2228.9598375657406\n",
      "Canned Soft Drinks 2136.2424265082295\n",
      "Canned Meat 2198.9917175046576\n",
      "Canned Fruits and Vegetables 2266.9916583732092\n",
      "Canned Household 2244.801286593974\n",
      "Canned Baking Goods 2089.1879990747875\n",
      "Canned Snack Foods 2259.0251917793435\n",
      "Canned Frozen Foods 2172.681914418606\n",
      "Canned Breakfast 2208.762113570486\n",
      "Canned Health and Hygiene 2129.4710268605686\n",
      "Canned Hard Drinks 2203.8759209733475\n",
      "Canned Breads 2219.320757111111\n",
      "Canned Starchy Foods 2252.88926348808\n",
      "Canned Others 2163.409660391197\n",
      "Canned Seafood 2234.2492454417943\n",
      "Breads Dairy 2224.8995069667744\n",
      "Breads Soft Drinks 2077.7800442528746\n",
      "Breads Meat 2175.743788165681\n",
      "Breads Fruits and Vegetables 2274.643968712069\n",
      "Breads Household 2246.968907838067\n",
      "Breads Baking Goods 2023.0951401557293\n",
      "Breads Snack Foods 2264.6611135768435\n",
      "Breads Frozen Foods 2149.0261765130967\n",
      "Breads Breakfast 2176.0003889196687\n",
      "Breads Health and Hygiene 2073.200164202339\n",
      "Breads Hard Drinks 2174.2593892473133\n",
      "Breads Canned 2219.320757111111\n",
      "Breads Starchy Foods 2267.264258646619\n",
      "Breads Others 2092.27332952381\n",
      "Breads Seafood 2228.906057777778\n",
      "Starchy Foods Dairy 2257.8256645783144\n",
      "Starchy Foods Soft Drinks 2098.3119264755496\n",
      "Starchy Foods Meat 2214.601854101222\n",
      "Starchy Foods Fruits and Vegetables 2298.160193623189\n",
      "Starchy Foods Household 2274.9479807183343\n",
      "Starchy Foods Baking Goods 2031.314814824123\n",
      "Starchy Foods Snack Foods 2287.9728022255194\n",
      "Starchy Foods Frozen Foods 2168.4621902390427\n",
      "Starchy Foods Breakfast 2262.4038837209305\n",
      "Starchy Foods Health and Hygiene 2090.7206410179692\n",
      "Starchy Foods Hard Drinks 2235.344413259669\n",
      "Starchy Foods Canned 2252.88926348808\n",
      "Starchy Foods Breads 2267.264258646619\n",
      "Starchy Foods Others 2135.3907255520494\n",
      "Starchy Foods Seafood 2359.761650000001\n",
      "Others Dairy 2171.6940784958874\n",
      "Others Soft Drinks 1984.389790879478\n",
      "Others Meat 2092.732696296296\n",
      "Others Fruits and Vegetables 2245.237277944325\n",
      "Others Household 2206.683339017606\n",
      "Others Baking Goods 1947.4209936352522\n",
      "Others Snack Foods 2233.9690990504027\n",
      "Others Frozen Foods 2098.7828275121938\n",
      "Others Breakfast 1999.3425132616492\n",
      "Others Health and Hygiene 1989.430692888245\n",
      "Others Hard Drinks 2045.1985295039153\n",
      "Others Canned 2163.409660391197\n",
      "Others Breads 2092.27332952381\n",
      "Others Starchy Foods 2135.3907255520494\n",
      "Others Seafood 2035.990682403434\n",
      "Seafood Dairy 2240.566046380697\n",
      "Seafood Soft Drinks 2046.6914369351657\n",
      "Seafood Meat 2180.846280981594\n",
      "Seafood Fruits and Vegetables 2290.839534104939\n",
      "Seafood Household 2263.2052696098553\n",
      "Seafood Baking Goods 1986.5078112359556\n",
      "Seafood Snack Foods 2279.789799367091\n",
      "Seafood Frozen Foods 2146.3076173913028\n",
      "Seafood Breakfast 2190.6159252873563\n",
      "Seafood Health and Hygiene 2044.637597945207\n",
      "Seafood Hard Drinks 2182.2361388489194\n",
      "Seafood Canned 2234.2492454417943\n",
      "Seafood Breads 2228.906057777778\n",
      "Seafood Starchy Foods 2359.761650000001\n",
      "Seafood Others 2035.990682403434\n"
     ]
    }
   ],
   "source": [
    "for i in df['Item_Type'].unique():\n",
    "    for j in df['Item_Type'].unique():\n",
    "        if(i!=j):\n",
    "            print(i,j,df.loc[((df['Item_Type']==i) | (df['Item_Type']==j))]['Item_Outlet_Sales'].mean())"
   ]
  },
  {
   "cell_type": "markdown",
   "metadata": {},
   "source": [
    "I've written this lines of code to show that which two items make the best combination in terms of higer outlet sales.\n",
    "\n",
    "This code can be later modified to make combination of n items"
   ]
  },
  {
   "cell_type": "code",
   "execution_count": 57,
   "metadata": {},
   "outputs": [
    {
     "data": {
      "text/plain": [
       "Item_Identifier_temp  Item_Type            \n",
       "DR                    Soft Drinks               445\n",
       "                      Hard Drinks               214\n",
       "                      Dairy                     140\n",
       "FD                    Fruits and Vegetables    1232\n",
       "                      Snack Foods              1200\n",
       "                      Frozen Foods              856\n",
       "                      Canned                    649\n",
       "                      Baking Goods              648\n",
       "                      Dairy                     542\n",
       "                      Meat                      425\n",
       "                      Breads                    251\n",
       "                      Starchy Foods             148\n",
       "                      Breakfast                 110\n",
       "                      Seafood                    64\n",
       "NC                    Household                 910\n",
       "                      Health and Hygiene        520\n",
       "                      Others                    169\n",
       "Name: Item_Type, dtype: int64"
      ]
     },
     "execution_count": 57,
     "metadata": {},
     "output_type": "execute_result"
    }
   ],
   "source": [
    "#To check which item type are classified under DR , NC , FD\n",
    "a=df.groupby('Item_Identifier_temp')['Item_Type'].value_counts()\n",
    "a.head(60)"
   ]
  },
  {
   "cell_type": "code",
   "execution_count": 58,
   "metadata": {},
   "outputs": [
    {
     "data": {
      "text/plain": [
       "array(['Dairy', 'Soft Drinks', 'Meat', 'Fruits and Vegetables',\n",
       "       'Household', 'Baking Goods', 'Snack Foods', 'Frozen Foods',\n",
       "       'Breakfast', 'Health and Hygiene', 'Hard Drinks', 'Canned',\n",
       "       'Breads', 'Starchy Foods', 'Others', 'Seafood'], dtype=object)"
      ]
     },
     "execution_count": 58,
     "metadata": {},
     "output_type": "execute_result"
    }
   ],
   "source": [
    "df['Item_Type'].unique()"
   ]
  },
  {
   "cell_type": "code",
   "execution_count": 59,
   "metadata": {},
   "outputs": [],
   "source": [
    "# Craeted a new column named calorie count which will show the calorie of corresponding item type\n",
    "def set_cal(df):\n",
    "    if df['Item_Type']=='Dairy':\n",
    "        return 46\n",
    "    elif df['Item_Type']=='Soft Drinks':\n",
    "        return 51\n",
    "    elif df['Item_Type']=='Meat':\n",
    "        return 143\n",
    "    elif df['Item_Type']=='Fruits and Vegetables':\n",
    "        return 65\n",
    "    elif df['Item_Type']=='Baking Goods':\n",
    "        return 140\n",
    "    elif df['Item_Type']=='Snack Foods':\n",
    "        return 475\n",
    "    elif df['Item_Type']=='Frozen Foods':\n",
    "        return 50\n",
    "    elif df['Item_Type']=='Breakfast':\n",
    "        return 350\n",
    "    elif df['Item_Type']=='Hard Drinks':\n",
    "        return 250\n",
    "    elif df['Item_Type']=='Canned':\n",
    "        return 80\n",
    "    elif df['Item_Type']=='Starchy Foods':\n",
    "        return 90\n",
    "    elif df['Item_Type']=='Seafood':\n",
    "        return 204\n",
    "    elif df['Item_Type']=='Breads':\n",
    "        return 250\n",
    "    else:\n",
    "        return 0\n",
    "df['Calorie_Count_per_100g']=df.apply(set_cal,axis=1)"
   ]
  },
  {
   "cell_type": "code",
   "execution_count": 60,
   "metadata": {},
   "outputs": [],
   "source": [
    "df['Calorie_Count_per_givenwt']=df['Calorie_Count_per_100g']/100"
   ]
  },
  {
   "cell_type": "code",
   "execution_count": 61,
   "metadata": {},
   "outputs": [
    {
     "data": {
      "text/html": [
       "<div>\n",
       "<style scoped>\n",
       "    .dataframe tbody tr th:only-of-type {\n",
       "        vertical-align: middle;\n",
       "    }\n",
       "\n",
       "    .dataframe tbody tr th {\n",
       "        vertical-align: top;\n",
       "    }\n",
       "\n",
       "    .dataframe thead th {\n",
       "        text-align: right;\n",
       "    }\n",
       "</style>\n",
       "<table border=\"1\" class=\"dataframe\">\n",
       "  <thead>\n",
       "    <tr style=\"text-align: right;\">\n",
       "      <th></th>\n",
       "      <th>Item_Identifier</th>\n",
       "      <th>Item_Weight</th>\n",
       "      <th>Item_Fat_Content</th>\n",
       "      <th>Item_Visibility</th>\n",
       "      <th>Item_Type</th>\n",
       "      <th>Item_MRP</th>\n",
       "      <th>Outlet_Identifier</th>\n",
       "      <th>Outlet_Establishment_Year</th>\n",
       "      <th>Outlet_Size</th>\n",
       "      <th>Outlet_Location_Type</th>\n",
       "      <th>...</th>\n",
       "      <th>Item_Outlet_Sales</th>\n",
       "      <th>Outlet_Type1</th>\n",
       "      <th>log_visibility</th>\n",
       "      <th>MRP_bin</th>\n",
       "      <th>Weight_bin</th>\n",
       "      <th>Item_Identifier_temp</th>\n",
       "      <th>Outlet_Existence</th>\n",
       "      <th>Outlet_Status</th>\n",
       "      <th>Calorie_Count_per_100g</th>\n",
       "      <th>Calorie_Count_per_givenwt</th>\n",
       "    </tr>\n",
       "  </thead>\n",
       "  <tbody>\n",
       "    <tr>\n",
       "      <td>0</td>\n",
       "      <td>FDA15</td>\n",
       "      <td>9.30</td>\n",
       "      <td>Low Fat</td>\n",
       "      <td>0.016047</td>\n",
       "      <td>Dairy</td>\n",
       "      <td>249.8092</td>\n",
       "      <td>OUT049</td>\n",
       "      <td>1999</td>\n",
       "      <td>Medium</td>\n",
       "      <td>Tier 1</td>\n",
       "      <td>...</td>\n",
       "      <td>3735.1380</td>\n",
       "      <td>Supermarket</td>\n",
       "      <td>-4.132215</td>\n",
       "      <td>expensive</td>\n",
       "      <td>light</td>\n",
       "      <td>FD</td>\n",
       "      <td>21</td>\n",
       "      <td>0</td>\n",
       "      <td>46</td>\n",
       "      <td>4.2780</td>\n",
       "    </tr>\n",
       "    <tr>\n",
       "      <td>1</td>\n",
       "      <td>DRC01</td>\n",
       "      <td>5.92</td>\n",
       "      <td>Regular</td>\n",
       "      <td>0.019278</td>\n",
       "      <td>Soft Drinks</td>\n",
       "      <td>48.2692</td>\n",
       "      <td>OUT018</td>\n",
       "      <td>2009</td>\n",
       "      <td>Medium</td>\n",
       "      <td>Tier 3</td>\n",
       "      <td>...</td>\n",
       "      <td>443.4228</td>\n",
       "      <td>Supermarket</td>\n",
       "      <td>-3.948780</td>\n",
       "      <td>cheap</td>\n",
       "      <td>vlight</td>\n",
       "      <td>DR</td>\n",
       "      <td>11</td>\n",
       "      <td>1</td>\n",
       "      <td>51</td>\n",
       "      <td>3.0192</td>\n",
       "    </tr>\n",
       "    <tr>\n",
       "      <td>2</td>\n",
       "      <td>FDN15</td>\n",
       "      <td>17.50</td>\n",
       "      <td>Low Fat</td>\n",
       "      <td>0.016760</td>\n",
       "      <td>Meat</td>\n",
       "      <td>141.6180</td>\n",
       "      <td>OUT049</td>\n",
       "      <td>1999</td>\n",
       "      <td>Medium</td>\n",
       "      <td>Tier 1</td>\n",
       "      <td>...</td>\n",
       "      <td>2097.2700</td>\n",
       "      <td>Supermarket</td>\n",
       "      <td>-4.088756</td>\n",
       "      <td>affordable</td>\n",
       "      <td>heavy</td>\n",
       "      <td>FD</td>\n",
       "      <td>21</td>\n",
       "      <td>0</td>\n",
       "      <td>143</td>\n",
       "      <td>25.0250</td>\n",
       "    </tr>\n",
       "    <tr>\n",
       "      <td>3</td>\n",
       "      <td>FDX07</td>\n",
       "      <td>19.20</td>\n",
       "      <td>Regular</td>\n",
       "      <td>0.122911</td>\n",
       "      <td>Fruits and Vegetables</td>\n",
       "      <td>182.0950</td>\n",
       "      <td>OUT010</td>\n",
       "      <td>1998</td>\n",
       "      <td>Small</td>\n",
       "      <td>Tier 3</td>\n",
       "      <td>...</td>\n",
       "      <td>732.3800</td>\n",
       "      <td>Grocery Store</td>\n",
       "      <td>-2.096299</td>\n",
       "      <td>slightly expensive</td>\n",
       "      <td>heavy</td>\n",
       "      <td>FD</td>\n",
       "      <td>22</td>\n",
       "      <td>0</td>\n",
       "      <td>65</td>\n",
       "      <td>12.4800</td>\n",
       "    </tr>\n",
       "    <tr>\n",
       "      <td>4</td>\n",
       "      <td>NCD19</td>\n",
       "      <td>8.93</td>\n",
       "      <td>No Fat</td>\n",
       "      <td>0.013217</td>\n",
       "      <td>Household</td>\n",
       "      <td>53.8614</td>\n",
       "      <td>OUT013</td>\n",
       "      <td>1987</td>\n",
       "      <td>High</td>\n",
       "      <td>Tier 3</td>\n",
       "      <td>...</td>\n",
       "      <td>994.7052</td>\n",
       "      <td>Supermarket</td>\n",
       "      <td>-4.326277</td>\n",
       "      <td>cheap</td>\n",
       "      <td>light</td>\n",
       "      <td>NC</td>\n",
       "      <td>33</td>\n",
       "      <td>0</td>\n",
       "      <td>0</td>\n",
       "      <td>0.0000</td>\n",
       "    </tr>\n",
       "  </tbody>\n",
       "</table>\n",
       "<p>5 rows × 21 columns</p>\n",
       "</div>"
      ],
      "text/plain": [
       "  Item_Identifier  Item_Weight Item_Fat_Content  Item_Visibility  \\\n",
       "0           FDA15         9.30          Low Fat         0.016047   \n",
       "1           DRC01         5.92          Regular         0.019278   \n",
       "2           FDN15        17.50          Low Fat         0.016760   \n",
       "3           FDX07        19.20          Regular         0.122911   \n",
       "4           NCD19         8.93           No Fat         0.013217   \n",
       "\n",
       "               Item_Type  Item_MRP Outlet_Identifier  \\\n",
       "0                  Dairy  249.8092            OUT049   \n",
       "1            Soft Drinks   48.2692            OUT018   \n",
       "2                   Meat  141.6180            OUT049   \n",
       "3  Fruits and Vegetables  182.0950            OUT010   \n",
       "4              Household   53.8614            OUT013   \n",
       "\n",
       "   Outlet_Establishment_Year Outlet_Size Outlet_Location_Type  ...  \\\n",
       "0                       1999      Medium               Tier 1  ...   \n",
       "1                       2009      Medium               Tier 3  ...   \n",
       "2                       1999      Medium               Tier 1  ...   \n",
       "3                       1998       Small               Tier 3  ...   \n",
       "4                       1987        High               Tier 3  ...   \n",
       "\n",
       "  Item_Outlet_Sales   Outlet_Type1 log_visibility             MRP_bin  \\\n",
       "0         3735.1380    Supermarket      -4.132215           expensive   \n",
       "1          443.4228    Supermarket      -3.948780               cheap   \n",
       "2         2097.2700    Supermarket      -4.088756          affordable   \n",
       "3          732.3800  Grocery Store      -2.096299  slightly expensive   \n",
       "4          994.7052    Supermarket      -4.326277               cheap   \n",
       "\n",
       "  Weight_bin Item_Identifier_temp Outlet_Existence  Outlet_Status  \\\n",
       "0      light                   FD               21              0   \n",
       "1     vlight                   DR               11              1   \n",
       "2      heavy                   FD               21              0   \n",
       "3      heavy                   FD               22              0   \n",
       "4      light                   NC               33              0   \n",
       "\n",
       "   Calorie_Count_per_100g  Calorie_Count_per_givenwt  \n",
       "0                      46                     4.2780  \n",
       "1                      51                     3.0192  \n",
       "2                     143                    25.0250  \n",
       "3                      65                    12.4800  \n",
       "4                       0                     0.0000  \n",
       "\n",
       "[5 rows x 21 columns]"
      ]
     },
     "execution_count": 61,
     "metadata": {},
     "output_type": "execute_result"
    }
   ],
   "source": [
    "df['Calorie_Count_per_givenwt']=df['Calorie_Count_per_givenwt']*df['Item_Weight']\n",
    "df.head()"
   ]
  },
  {
   "cell_type": "code",
   "execution_count": 62,
   "metadata": {},
   "outputs": [
    {
     "data": {
      "text/plain": [
       "<matplotlib.axes._subplots.AxesSubplot at 0x1df60074108>"
      ]
     },
     "execution_count": 62,
     "metadata": {},
     "output_type": "execute_result"
    },
    {
     "data": {
      "image/png": "[encoded data removed]",
      "text/plain": [
       "<Figure size 432x288 with 1 Axes>"
      ]
     },
     "metadata": {
      "needs_background": "light"
     },
     "output_type": "display_data"
    }
   ],
   "source": [
    "# I will plot the histogram of my new feature that is calorie count\n",
    "df['Calorie_Count_per_givenwt'].plot(kind='hist',bins=8)"
   ]
  },
  {
   "cell_type": "code",
   "execution_count": 63,
   "metadata": {},
   "outputs": [],
   "source": [
    "#As the above graph is positively skewed i will remove the skewness ny doing log transformation\n",
    "df['log_Calorie']=np.sqrt(df['Calorie_Count_per_givenwt'])"
   ]
  },
  {
   "cell_type": "code",
   "execution_count": 64,
   "metadata": {},
   "outputs": [
    {
     "data": {
      "text/plain": [
       "Outlet_Identifier  Item_Type            \n",
       "OUT010             Fruits and Vegetables     79\n",
       "                   Snack Foods               71\n",
       "                   Household                 67\n",
       "                   Frozen Foods              54\n",
       "                   Dairy                     43\n",
       "                   Baking Goods              42\n",
       "                   Health and Hygiene        37\n",
       "                   Canned                    35\n",
       "                   Meat                      34\n",
       "                   Soft Drinks               28\n",
       "                   Breads                    17\n",
       "                   Hard Drinks               16\n",
       "                   Others                    10\n",
       "                   Breakfast                  9\n",
       "                   Starchy Foods              9\n",
       "                   Seafood                    4\n",
       "OUT013             Fruits and Vegetables    142\n",
       "                   Snack Foods              125\n",
       "                   Household                103\n",
       "                   Frozen Foods              92\n",
       "                   Dairy                     80\n",
       "                   Baking Goods              73\n",
       "                   Canned                    65\n",
       "                   Health and Hygiene        61\n",
       "                   Soft Drinks               49\n",
       "                   Meat                      41\n",
       "                   Breads                    25\n",
       "                   Hard Drinks               23\n",
       "                   Starchy Foods             19\n",
       "                   Others                    16\n",
       "Name: Item_Type, dtype: int64"
      ]
     },
     "execution_count": 64,
     "metadata": {},
     "output_type": "execute_result"
    }
   ],
   "source": [
    "# To check the value counts of all item type to know which items are bought daily and which are boght rarely \n",
    "b=df.groupby('Outlet_Identifier')['Item_Type'].value_counts()\n",
    "b.head(30)"
   ]
  },
  {
   "cell_type": "code",
   "execution_count": 65,
   "metadata": {},
   "outputs": [],
   "source": [
    "# Grouping item type into D(daily) and S(sometimes) according to daily need\n",
    "dict={'Dairy':'D','Meat':'S','Fruits and Vegetables':'D','Breakfast':'S','Breads':'S','Starchy Foods':'S','Seafood':'S','Soft Drinks':'S','Household':'D','Baking Goods':'S','Snack Foods':'D','Frozen Foods':'D','Hard Drinks':'S','Canned':'D','Health and Hygiene':'S','Others':'S'}\n",
    "df['Item_Frequency']=df['Item_Type'].map(dict)"
   ]
  },
  {
   "cell_type": "code",
   "execution_count": 66,
   "metadata": {},
   "outputs": [
    {
     "data": {
      "text/html": [
       "<div>\n",
       "<style scoped>\n",
       "    .dataframe tbody tr th:only-of-type {\n",
       "        vertical-align: middle;\n",
       "    }\n",
       "\n",
       "    .dataframe tbody tr th {\n",
       "        vertical-align: top;\n",
       "    }\n",
       "\n",
       "    .dataframe thead th {\n",
       "        text-align: right;\n",
       "    }\n",
       "</style>\n",
       "<table border=\"1\" class=\"dataframe\">\n",
       "  <thead>\n",
       "    <tr style=\"text-align: right;\">\n",
       "      <th></th>\n",
       "      <th>Item_Identifier</th>\n",
       "      <th>Item_Weight</th>\n",
       "      <th>Item_Fat_Content</th>\n",
       "      <th>Item_Visibility</th>\n",
       "      <th>Item_Type</th>\n",
       "      <th>Item_MRP</th>\n",
       "      <th>Outlet_Identifier</th>\n",
       "      <th>Outlet_Establishment_Year</th>\n",
       "      <th>Outlet_Size</th>\n",
       "      <th>Outlet_Location_Type</th>\n",
       "      <th>...</th>\n",
       "      <th>log_visibility</th>\n",
       "      <th>MRP_bin</th>\n",
       "      <th>Weight_bin</th>\n",
       "      <th>Item_Identifier_temp</th>\n",
       "      <th>Outlet_Existence</th>\n",
       "      <th>Outlet_Status</th>\n",
       "      <th>Calorie_Count_per_100g</th>\n",
       "      <th>Calorie_Count_per_givenwt</th>\n",
       "      <th>log_Calorie</th>\n",
       "      <th>Item_Frequency</th>\n",
       "    </tr>\n",
       "  </thead>\n",
       "  <tbody>\n",
       "    <tr>\n",
       "      <td>0</td>\n",
       "      <td>FDA15</td>\n",
       "      <td>9.30</td>\n",
       "      <td>Low Fat</td>\n",
       "      <td>0.016047</td>\n",
       "      <td>Dairy</td>\n",
       "      <td>249.8092</td>\n",
       "      <td>OUT049</td>\n",
       "      <td>1999</td>\n",
       "      <td>Medium</td>\n",
       "      <td>Tier 1</td>\n",
       "      <td>...</td>\n",
       "      <td>-4.132215</td>\n",
       "      <td>expensive</td>\n",
       "      <td>light</td>\n",
       "      <td>FD</td>\n",
       "      <td>21</td>\n",
       "      <td>0</td>\n",
       "      <td>46</td>\n",
       "      <td>4.2780</td>\n",
       "      <td>2.068333</td>\n",
       "      <td>D</td>\n",
       "    </tr>\n",
       "    <tr>\n",
       "      <td>1</td>\n",
       "      <td>DRC01</td>\n",
       "      <td>5.92</td>\n",
       "      <td>Regular</td>\n",
       "      <td>0.019278</td>\n",
       "      <td>Soft Drinks</td>\n",
       "      <td>48.2692</td>\n",
       "      <td>OUT018</td>\n",
       "      <td>2009</td>\n",
       "      <td>Medium</td>\n",
       "      <td>Tier 3</td>\n",
       "      <td>...</td>\n",
       "      <td>-3.948780</td>\n",
       "      <td>cheap</td>\n",
       "      <td>vlight</td>\n",
       "      <td>DR</td>\n",
       "      <td>11</td>\n",
       "      <td>1</td>\n",
       "      <td>51</td>\n",
       "      <td>3.0192</td>\n",
       "      <td>1.737585</td>\n",
       "      <td>S</td>\n",
       "    </tr>\n",
       "    <tr>\n",
       "      <td>2</td>\n",
       "      <td>FDN15</td>\n",
       "      <td>17.50</td>\n",
       "      <td>Low Fat</td>\n",
       "      <td>0.016760</td>\n",
       "      <td>Meat</td>\n",
       "      <td>141.6180</td>\n",
       "      <td>OUT049</td>\n",
       "      <td>1999</td>\n",
       "      <td>Medium</td>\n",
       "      <td>Tier 1</td>\n",
       "      <td>...</td>\n",
       "      <td>-4.088756</td>\n",
       "      <td>affordable</td>\n",
       "      <td>heavy</td>\n",
       "      <td>FD</td>\n",
       "      <td>21</td>\n",
       "      <td>0</td>\n",
       "      <td>143</td>\n",
       "      <td>25.0250</td>\n",
       "      <td>5.002499</td>\n",
       "      <td>S</td>\n",
       "    </tr>\n",
       "    <tr>\n",
       "      <td>3</td>\n",
       "      <td>FDX07</td>\n",
       "      <td>19.20</td>\n",
       "      <td>Regular</td>\n",
       "      <td>0.122911</td>\n",
       "      <td>Fruits and Vegetables</td>\n",
       "      <td>182.0950</td>\n",
       "      <td>OUT010</td>\n",
       "      <td>1998</td>\n",
       "      <td>Small</td>\n",
       "      <td>Tier 3</td>\n",
       "      <td>...</td>\n",
       "      <td>-2.096299</td>\n",
       "      <td>slightly expensive</td>\n",
       "      <td>heavy</td>\n",
       "      <td>FD</td>\n",
       "      <td>22</td>\n",
       "      <td>0</td>\n",
       "      <td>65</td>\n",
       "      <td>12.4800</td>\n",
       "      <td>3.532704</td>\n",
       "      <td>D</td>\n",
       "    </tr>\n",
       "    <tr>\n",
       "      <td>4</td>\n",
       "      <td>NCD19</td>\n",
       "      <td>8.93</td>\n",
       "      <td>No Fat</td>\n",
       "      <td>0.013217</td>\n",
       "      <td>Household</td>\n",
       "      <td>53.8614</td>\n",
       "      <td>OUT013</td>\n",
       "      <td>1987</td>\n",
       "      <td>High</td>\n",
       "      <td>Tier 3</td>\n",
       "      <td>...</td>\n",
       "      <td>-4.326277</td>\n",
       "      <td>cheap</td>\n",
       "      <td>light</td>\n",
       "      <td>NC</td>\n",
       "      <td>33</td>\n",
       "      <td>0</td>\n",
       "      <td>0</td>\n",
       "      <td>0.0000</td>\n",
       "      <td>0.000000</td>\n",
       "      <td>D</td>\n",
       "    </tr>\n",
       "  </tbody>\n",
       "</table>\n",
       "<p>5 rows × 23 columns</p>\n",
       "</div>"
      ],
      "text/plain": [
       "  Item_Identifier  Item_Weight Item_Fat_Content  Item_Visibility  \\\n",
       "0           FDA15         9.30          Low Fat         0.016047   \n",
       "1           DRC01         5.92          Regular         0.019278   \n",
       "2           FDN15        17.50          Low Fat         0.016760   \n",
       "3           FDX07        19.20          Regular         0.122911   \n",
       "4           NCD19         8.93           No Fat         0.013217   \n",
       "\n",
       "               Item_Type  Item_MRP Outlet_Identifier  \\\n",
       "0                  Dairy  249.8092            OUT049   \n",
       "1            Soft Drinks   48.2692            OUT018   \n",
       "2                   Meat  141.6180            OUT049   \n",
       "3  Fruits and Vegetables  182.0950            OUT010   \n",
       "4              Household   53.8614            OUT013   \n",
       "\n",
       "   Outlet_Establishment_Year Outlet_Size Outlet_Location_Type  ...  \\\n",
       "0                       1999      Medium               Tier 1  ...   \n",
       "1                       2009      Medium               Tier 3  ...   \n",
       "2                       1999      Medium               Tier 1  ...   \n",
       "3                       1998       Small               Tier 3  ...   \n",
       "4                       1987        High               Tier 3  ...   \n",
       "\n",
       "  log_visibility             MRP_bin Weight_bin  Item_Identifier_temp  \\\n",
       "0      -4.132215           expensive      light                    FD   \n",
       "1      -3.948780               cheap     vlight                    DR   \n",
       "2      -4.088756          affordable      heavy                    FD   \n",
       "3      -2.096299  slightly expensive      heavy                    FD   \n",
       "4      -4.326277               cheap      light                    NC   \n",
       "\n",
       "  Outlet_Existence Outlet_Status Calorie_Count_per_100g  \\\n",
       "0               21             0                     46   \n",
       "1               11             1                     51   \n",
       "2               21             0                    143   \n",
       "3               22             0                     65   \n",
       "4               33             0                      0   \n",
       "\n",
       "   Calorie_Count_per_givenwt  log_Calorie  Item_Frequency  \n",
       "0                     4.2780     2.068333               D  \n",
       "1                     3.0192     1.737585               S  \n",
       "2                    25.0250     5.002499               S  \n",
       "3                    12.4800     3.532704               D  \n",
       "4                     0.0000     0.000000               D  \n",
       "\n",
       "[5 rows x 23 columns]"
      ]
     },
     "execution_count": 66,
     "metadata": {},
     "output_type": "execute_result"
    }
   ],
   "source": [
    "df.head()"
   ]
  },
  {
   "cell_type": "code",
   "execution_count": 67,
   "metadata": {},
   "outputs": [
    {
     "data": {
      "image/png": "[encoded data removed]",
      "text/plain": [
       "<Figure size 432x288 with 1 Axes>"
      ]
     },
     "metadata": {
      "needs_background": "light"
     },
     "output_type": "display_data"
    }
   ],
   "source": [
    "sns.barplot(df['MRP_bin'],df['Item_Outlet_Sales'])\n",
    "plt.show()"
   ]
  },
  {
   "cell_type": "code",
   "execution_count": 68,
   "metadata": {},
   "outputs": [
    {
     "data": {
      "image/png": "[encoded data removed]",
      "text/plain": [
       "<Figure size 432x288 with 1 Axes>"
      ]
     },
     "metadata": {
      "needs_background": "light"
     },
     "output_type": "display_data"
    }
   ],
   "source": [
    "sns.barplot(df['Item_Frequency'],df['Item_Outlet_Sales'])\n",
    "plt.show()"
   ]
  },
  {
   "cell_type": "markdown",
   "metadata": {},
   "source": [
    "The above graph is quite clear since the graph shows that daily used products generally have higher outlet sales"
   ]
  },
  {
   "cell_type": "code",
   "execution_count": 69,
   "metadata": {},
   "outputs": [
    {
     "data": {
      "image/png": "[encoded data removed]",
      "text/plain": [
       "<Figure size 432x288 with 1 Axes>"
      ]
     },
     "metadata": {
      "needs_background": "light"
     },
     "output_type": "display_data"
    }
   ],
   "source": [
    "a=pd.crosstab(df['Item_Frequency'],df['Outlet_Identifier'])\n",
    "a.plot(kind='bar')\n",
    "plt.show()"
   ]
  },
  {
   "cell_type": "code",
   "execution_count": 70,
   "metadata": {},
   "outputs": [
    {
     "data": {
      "image/png": "[encoded data removed]",
      "text/plain": [
       "<Figure size 432x288 with 1 Axes>"
      ]
     },
     "metadata": {
      "needs_background": "light"
     },
     "output_type": "display_data"
    }
   ],
   "source": [
    "a=pd.crosstab(df['Outlet_Type'],df['Outlet_Identifier'])\n",
    "a.plot(kind='bar')\n",
    "plt.show()"
   ]
  },
  {
   "cell_type": "markdown",
   "metadata": {},
   "source": [
    "First graph shows that OUT019 and OUT010 are two outles which have least sales of daily used products.\n",
    "\n",
    "Second graph shows that both those outlets corresponds to outlet of type grocery store.\n",
    "\n",
    "By combining the result of both graphs we can justify that why grocery store has least outlet Sales\n",
    "\n",
    "So from above graphs we found another reason why grocery store has minimum sales. "
   ]
  },
  {
   "cell_type": "markdown",
   "metadata": {},
   "source": [
    "# Label Encoding"
   ]
  },
  {
   "cell_type": "code",
   "execution_count": 71,
   "metadata": {},
   "outputs": [],
   "source": [
    "from sklearn.preprocessing import LabelEncoder\n",
    "le=LabelEncoder()\n",
    "df['Item_Identifier_temp']=le.fit_transform(df['Item_Identifier_temp'])\n",
    "df['Item_Type']=le.fit_transform(df['Item_Type'])\n",
    "df['Outlet_Type']=le.fit_transform(df['Outlet_Type'])\n",
    "df['Outlet_Identifier']=le.fit_transform(df['Outlet_Identifier'])\n",
    "df['Outlet_Type1']=le.fit_transform(df['Outlet_Type1'])\n",
    "dict={'Small':0,'Medium':1,'High':2}\n",
    "df['Outlet_Size']=df['Outlet_Size'].map(dict)\n",
    "dict1={'cheap':0,'affordable':1,'slightly expensive':2,'expensive':3}\n",
    "df['MRP_bin']=df['MRP_bin'].map(dict1)\n",
    "dict2={'vlight':0,'light':1,'moderate':2,'heavy':3}\n",
    "df['Weight_bin']=df['Weight_bin'].map(dict2)\n",
    "dict3={'Tier 3':0,'Tier 2':1,'Tier 1':2}\n",
    "df['Outlet_Location_Type']=df['Outlet_Location_Type'].map(dict3)\n",
    "dict4={'No Fat':0,'Low Fat':1,'Regular':2}\n",
    "df['Item_Fat_Content']=df['Item_Fat_Content'].map(dict4)\n",
    "dict5={35:0,33:1,23:2,22:3,21:4,18:5,16:6,13:7,11:8}\n",
    "df['Outlet_Existence']=df['Outlet_Existence'].map(dict5)\n",
    "dict6={'D':1,'S':0}\n",
    "df['Item_Frequency']=df['Item_Frequency'].map(dict6)\n",
    "dict7={1985:0,1987:1,1997:2,1998:3,1999:4,2002:5,2004:6,2007:7,2009:8}\n",
    "df['Outlet_Establishment_Year']=df['Outlet_Establishment_Year'].map(dict7)"
   ]
  },
  {
   "cell_type": "code",
   "execution_count": 72,
   "metadata": {},
   "outputs": [
    {
     "data": {
      "text/html": [
       "<div>\n",
       "<style scoped>\n",
       "    .dataframe tbody tr th:only-of-type {\n",
       "        vertical-align: middle;\n",
       "    }\n",
       "\n",
       "    .dataframe tbody tr th {\n",
       "        vertical-align: top;\n",
       "    }\n",
       "\n",
       "    .dataframe thead th {\n",
       "        text-align: right;\n",
       "    }\n",
       "</style>\n",
       "<table border=\"1\" class=\"dataframe\">\n",
       "  <thead>\n",
       "    <tr style=\"text-align: right;\">\n",
       "      <th></th>\n",
       "      <th>Item_Identifier</th>\n",
       "      <th>Item_Weight</th>\n",
       "      <th>Item_Fat_Content</th>\n",
       "      <th>Item_Visibility</th>\n",
       "      <th>Item_Type</th>\n",
       "      <th>Item_MRP</th>\n",
       "      <th>Outlet_Identifier</th>\n",
       "      <th>Outlet_Establishment_Year</th>\n",
       "      <th>Outlet_Size</th>\n",
       "      <th>Outlet_Location_Type</th>\n",
       "      <th>Outlet_Type</th>\n",
       "      <th>Item_Outlet_Sales</th>\n",
       "      <th>Outlet_Type1</th>\n",
       "      <th>log_visibility</th>\n",
       "      <th>MRP_bin</th>\n",
       "      <th>Weight_bin</th>\n",
       "      <th>Item_Identifier_temp</th>\n",
       "      <th>Outlet_Existence</th>\n",
       "      <th>Outlet_Status</th>\n",
       "      <th>Calorie_Count_per_100g</th>\n",
       "      <th>Calorie_Count_per_givenwt</th>\n",
       "      <th>log_Calorie</th>\n",
       "      <th>Item_Frequency</th>\n",
       "    </tr>\n",
       "  </thead>\n",
       "  <tbody>\n",
       "    <tr>\n",
       "      <td>0</td>\n",
       "      <td>FDA15</td>\n",
       "      <td>9.30</td>\n",
       "      <td>1</td>\n",
       "      <td>0.016047</td>\n",
       "      <td>4</td>\n",
       "      <td>249.8092</td>\n",
       "      <td>9</td>\n",
       "      <td>4</td>\n",
       "      <td>1</td>\n",
       "      <td>2</td>\n",
       "      <td>1</td>\n",
       "      <td>3735.1380</td>\n",
       "      <td>1</td>\n",
       "      <td>-4.132215</td>\n",
       "      <td>3</td>\n",
       "      <td>1</td>\n",
       "      <td>1</td>\n",
       "      <td>4</td>\n",
       "      <td>0</td>\n",
       "      <td>46</td>\n",
       "      <td>4.2780</td>\n",
       "      <td>2.068333</td>\n",
       "      <td>1</td>\n",
       "    </tr>\n",
       "    <tr>\n",
       "      <td>1</td>\n",
       "      <td>DRC01</td>\n",
       "      <td>5.92</td>\n",
       "      <td>2</td>\n",
       "      <td>0.019278</td>\n",
       "      <td>14</td>\n",
       "      <td>48.2692</td>\n",
       "      <td>3</td>\n",
       "      <td>8</td>\n",
       "      <td>1</td>\n",
       "      <td>0</td>\n",
       "      <td>2</td>\n",
       "      <td>443.4228</td>\n",
       "      <td>1</td>\n",
       "      <td>-3.948780</td>\n",
       "      <td>0</td>\n",
       "      <td>0</td>\n",
       "      <td>0</td>\n",
       "      <td>8</td>\n",
       "      <td>1</td>\n",
       "      <td>51</td>\n",
       "      <td>3.0192</td>\n",
       "      <td>1.737585</td>\n",
       "      <td>0</td>\n",
       "    </tr>\n",
       "    <tr>\n",
       "      <td>2</td>\n",
       "      <td>FDN15</td>\n",
       "      <td>17.50</td>\n",
       "      <td>1</td>\n",
       "      <td>0.016760</td>\n",
       "      <td>10</td>\n",
       "      <td>141.6180</td>\n",
       "      <td>9</td>\n",
       "      <td>4</td>\n",
       "      <td>1</td>\n",
       "      <td>2</td>\n",
       "      <td>1</td>\n",
       "      <td>2097.2700</td>\n",
       "      <td>1</td>\n",
       "      <td>-4.088756</td>\n",
       "      <td>1</td>\n",
       "      <td>3</td>\n",
       "      <td>1</td>\n",
       "      <td>4</td>\n",
       "      <td>0</td>\n",
       "      <td>143</td>\n",
       "      <td>25.0250</td>\n",
       "      <td>5.002499</td>\n",
       "      <td>0</td>\n",
       "    </tr>\n",
       "    <tr>\n",
       "      <td>3</td>\n",
       "      <td>FDX07</td>\n",
       "      <td>19.20</td>\n",
       "      <td>2</td>\n",
       "      <td>0.122911</td>\n",
       "      <td>6</td>\n",
       "      <td>182.0950</td>\n",
       "      <td>0</td>\n",
       "      <td>3</td>\n",
       "      <td>0</td>\n",
       "      <td>0</td>\n",
       "      <td>0</td>\n",
       "      <td>732.3800</td>\n",
       "      <td>0</td>\n",
       "      <td>-2.096299</td>\n",
       "      <td>2</td>\n",
       "      <td>3</td>\n",
       "      <td>1</td>\n",
       "      <td>3</td>\n",
       "      <td>0</td>\n",
       "      <td>65</td>\n",
       "      <td>12.4800</td>\n",
       "      <td>3.532704</td>\n",
       "      <td>1</td>\n",
       "    </tr>\n",
       "    <tr>\n",
       "      <td>4</td>\n",
       "      <td>NCD19</td>\n",
       "      <td>8.93</td>\n",
       "      <td>0</td>\n",
       "      <td>0.013217</td>\n",
       "      <td>9</td>\n",
       "      <td>53.8614</td>\n",
       "      <td>1</td>\n",
       "      <td>1</td>\n",
       "      <td>2</td>\n",
       "      <td>0</td>\n",
       "      <td>1</td>\n",
       "      <td>994.7052</td>\n",
       "      <td>1</td>\n",
       "      <td>-4.326277</td>\n",
       "      <td>0</td>\n",
       "      <td>1</td>\n",
       "      <td>2</td>\n",
       "      <td>1</td>\n",
       "      <td>0</td>\n",
       "      <td>0</td>\n",
       "      <td>0.0000</td>\n",
       "      <td>0.000000</td>\n",
       "      <td>1</td>\n",
       "    </tr>\n",
       "  </tbody>\n",
       "</table>\n",
       "</div>"
      ],
      "text/plain": [
       "  Item_Identifier  Item_Weight  Item_Fat_Content  Item_Visibility  Item_Type  \\\n",
       "0           FDA15         9.30                 1         0.016047          4   \n",
       "1           DRC01         5.92                 2         0.019278         14   \n",
       "2           FDN15        17.50                 1         0.016760         10   \n",
       "3           FDX07        19.20                 2         0.122911          6   \n",
       "4           NCD19         8.93                 0         0.013217          9   \n",
       "\n",
       "   Item_MRP  Outlet_Identifier  Outlet_Establishment_Year  Outlet_Size  \\\n",
       "0  249.8092                  9                          4            1   \n",
       "1   48.2692                  3                          8            1   \n",
       "2  141.6180                  9                          4            1   \n",
       "3  182.0950                  0                          3            0   \n",
       "4   53.8614                  1                          1            2   \n",
       "\n",
       "   Outlet_Location_Type  Outlet_Type  Item_Outlet_Sales  Outlet_Type1  \\\n",
       "0                     2            1          3735.1380             1   \n",
       "1                     0            2           443.4228             1   \n",
       "2                     2            1          2097.2700             1   \n",
       "3                     0            0           732.3800             0   \n",
       "4                     0            1           994.7052             1   \n",
       "\n",
       "   log_visibility MRP_bin Weight_bin  Item_Identifier_temp  Outlet_Existence  \\\n",
       "0       -4.132215       3          1                     1                 4   \n",
       "1       -3.948780       0          0                     0                 8   \n",
       "2       -4.088756       1          3                     1                 4   \n",
       "3       -2.096299       2          3                     1                 3   \n",
       "4       -4.326277       0          1                     2                 1   \n",
       "\n",
       "   Outlet_Status  Calorie_Count_per_100g  Calorie_Count_per_givenwt  \\\n",
       "0              0                      46                     4.2780   \n",
       "1              1                      51                     3.0192   \n",
       "2              0                     143                    25.0250   \n",
       "3              0                      65                    12.4800   \n",
       "4              0                       0                     0.0000   \n",
       "\n",
       "   log_Calorie  Item_Frequency  \n",
       "0     2.068333               1  \n",
       "1     1.737585               0  \n",
       "2     5.002499               0  \n",
       "3     3.532704               1  \n",
       "4     0.000000               1  "
      ]
     },
     "execution_count": 72,
     "metadata": {},
     "output_type": "execute_result"
    }
   ],
   "source": [
    "# Final Dataset ready for training the model\n",
    "pd.set_option('display.max_columns',None)\n",
    "df.head()"
   ]
  },
  {
   "cell_type": "code",
   "execution_count": 73,
   "metadata": {},
   "outputs": [
    {
     "data": {
      "text/html": [
       "<div>\n",
       "<style scoped>\n",
       "    .dataframe tbody tr th:only-of-type {\n",
       "        vertical-align: middle;\n",
       "    }\n",
       "\n",
       "    .dataframe tbody tr th {\n",
       "        vertical-align: top;\n",
       "    }\n",
       "\n",
       "    .dataframe thead th {\n",
       "        text-align: right;\n",
       "    }\n",
       "</style>\n",
       "<table border=\"1\" class=\"dataframe\">\n",
       "  <thead>\n",
       "    <tr style=\"text-align: right;\">\n",
       "      <th></th>\n",
       "      <th>Item_Weight</th>\n",
       "      <th>Item_Fat_Content</th>\n",
       "      <th>Item_Visibility</th>\n",
       "      <th>Item_Type</th>\n",
       "      <th>Item_MRP</th>\n",
       "      <th>Outlet_Identifier</th>\n",
       "      <th>Outlet_Establishment_Year</th>\n",
       "      <th>Outlet_Size</th>\n",
       "      <th>Outlet_Location_Type</th>\n",
       "      <th>Outlet_Type</th>\n",
       "      <th>Item_Outlet_Sales</th>\n",
       "      <th>Outlet_Type1</th>\n",
       "      <th>log_visibility</th>\n",
       "      <th>Item_Identifier_temp</th>\n",
       "      <th>Outlet_Existence</th>\n",
       "      <th>Outlet_Status</th>\n",
       "      <th>Calorie_Count_per_100g</th>\n",
       "      <th>Calorie_Count_per_givenwt</th>\n",
       "      <th>log_Calorie</th>\n",
       "      <th>Item_Frequency</th>\n",
       "    </tr>\n",
       "  </thead>\n",
       "  <tbody>\n",
       "    <tr>\n",
       "      <td>count</td>\n",
       "      <td>8523.000000</td>\n",
       "      <td>8523.000000</td>\n",
       "      <td>8523.000000</td>\n",
       "      <td>8523.000000</td>\n",
       "      <td>8523.000000</td>\n",
       "      <td>8523.000000</td>\n",
       "      <td>8523.000000</td>\n",
       "      <td>8523.000000</td>\n",
       "      <td>8523.000000</td>\n",
       "      <td>8523.000000</td>\n",
       "      <td>8523.000000</td>\n",
       "      <td>8523.000000</td>\n",
       "      <td>8523.000000</td>\n",
       "      <td>8523.000000</td>\n",
       "      <td>8523.000000</td>\n",
       "      <td>8523.000000</td>\n",
       "      <td>8523.000000</td>\n",
       "      <td>8523.000000</td>\n",
       "      <td>8523.000000</td>\n",
       "      <td>8523.000000</td>\n",
       "    </tr>\n",
       "    <tr>\n",
       "      <td>mean</td>\n",
       "      <td>12.875418</td>\n",
       "      <td>1.165083</td>\n",
       "      <td>0.070105</td>\n",
       "      <td>7.226681</td>\n",
       "      <td>140.992782</td>\n",
       "      <td>4.722281</td>\n",
       "      <td>3.790684</td>\n",
       "      <td>0.546404</td>\n",
       "      <td>0.887129</td>\n",
       "      <td>1.091517</td>\n",
       "      <td>2181.288914</td>\n",
       "      <td>0.872932</td>\n",
       "      <td>-2.920409</td>\n",
       "      <td>1.093864</td>\n",
       "      <td>3.790684</td>\n",
       "      <td>0.435645</td>\n",
       "      <td>132.757010</td>\n",
       "      <td>16.919672</td>\n",
       "      <td>3.299801</td>\n",
       "      <td>0.648715</td>\n",
       "    </tr>\n",
       "    <tr>\n",
       "      <td>std</td>\n",
       "      <td>4.645016</td>\n",
       "      <td>0.716317</td>\n",
       "      <td>0.048407</td>\n",
       "      <td>4.209990</td>\n",
       "      <td>62.275067</td>\n",
       "      <td>2.837201</td>\n",
       "      <td>2.730322</td>\n",
       "      <td>0.683084</td>\n",
       "      <td>0.812757</td>\n",
       "      <td>0.580790</td>\n",
       "      <td>1706.499616</td>\n",
       "      <td>0.333069</td>\n",
       "      <td>0.788455</td>\n",
       "      <td>0.522090</td>\n",
       "      <td>2.730322</td>\n",
       "      <td>0.495870</td>\n",
       "      <td>154.121863</td>\n",
       "      <td>21.968149</td>\n",
       "      <td>2.455950</td>\n",
       "      <td>0.477400</td>\n",
       "    </tr>\n",
       "    <tr>\n",
       "      <td>min</td>\n",
       "      <td>4.555000</td>\n",
       "      <td>0.000000</td>\n",
       "      <td>0.003575</td>\n",
       "      <td>0.000000</td>\n",
       "      <td>31.290000</td>\n",
       "      <td>0.000000</td>\n",
       "      <td>0.000000</td>\n",
       "      <td>0.000000</td>\n",
       "      <td>0.000000</td>\n",
       "      <td>0.000000</td>\n",
       "      <td>33.290000</td>\n",
       "      <td>0.000000</td>\n",
       "      <td>-5.633875</td>\n",
       "      <td>0.000000</td>\n",
       "      <td>0.000000</td>\n",
       "      <td>0.000000</td>\n",
       "      <td>0.000000</td>\n",
       "      <td>0.000000</td>\n",
       "      <td>0.000000</td>\n",
       "      <td>0.000000</td>\n",
       "    </tr>\n",
       "    <tr>\n",
       "      <td>25%</td>\n",
       "      <td>8.785000</td>\n",
       "      <td>1.000000</td>\n",
       "      <td>0.031509</td>\n",
       "      <td>4.000000</td>\n",
       "      <td>93.826500</td>\n",
       "      <td>2.000000</td>\n",
       "      <td>1.000000</td>\n",
       "      <td>0.000000</td>\n",
       "      <td>0.000000</td>\n",
       "      <td>1.000000</td>\n",
       "      <td>834.247400</td>\n",
       "      <td>1.000000</td>\n",
       "      <td>-3.457491</td>\n",
       "      <td>1.000000</td>\n",
       "      <td>1.000000</td>\n",
       "      <td>0.000000</td>\n",
       "      <td>46.000000</td>\n",
       "      <td>4.114700</td>\n",
       "      <td>2.028472</td>\n",
       "      <td>0.000000</td>\n",
       "    </tr>\n",
       "    <tr>\n",
       "      <td>50%</td>\n",
       "      <td>12.650000</td>\n",
       "      <td>1.000000</td>\n",
       "      <td>0.058182</td>\n",
       "      <td>6.000000</td>\n",
       "      <td>143.012800</td>\n",
       "      <td>5.000000</td>\n",
       "      <td>4.000000</td>\n",
       "      <td>0.000000</td>\n",
       "      <td>1.000000</td>\n",
       "      <td>1.000000</td>\n",
       "      <td>1794.331000</td>\n",
       "      <td>1.000000</td>\n",
       "      <td>-2.844186</td>\n",
       "      <td>1.000000</td>\n",
       "      <td>4.000000</td>\n",
       "      <td>0.000000</td>\n",
       "      <td>65.000000</td>\n",
       "      <td>8.701000</td>\n",
       "      <td>2.949746</td>\n",
       "      <td>1.000000</td>\n",
       "    </tr>\n",
       "    <tr>\n",
       "      <td>75%</td>\n",
       "      <td>16.850000</td>\n",
       "      <td>2.000000</td>\n",
       "      <td>0.099119</td>\n",
       "      <td>10.000000</td>\n",
       "      <td>185.643700</td>\n",
       "      <td>7.000000</td>\n",
       "      <td>6.000000</td>\n",
       "      <td>1.000000</td>\n",
       "      <td>2.000000</td>\n",
       "      <td>1.000000</td>\n",
       "      <td>3101.296400</td>\n",
       "      <td>1.000000</td>\n",
       "      <td>-2.311435</td>\n",
       "      <td>1.000000</td>\n",
       "      <td>6.000000</td>\n",
       "      <td>1.000000</td>\n",
       "      <td>143.000000</td>\n",
       "      <td>19.682500</td>\n",
       "      <td>4.436492</td>\n",
       "      <td>1.000000</td>\n",
       "    </tr>\n",
       "    <tr>\n",
       "      <td>max</td>\n",
       "      <td>21.350000</td>\n",
       "      <td>2.000000</td>\n",
       "      <td>0.279887</td>\n",
       "      <td>15.000000</td>\n",
       "      <td>266.888400</td>\n",
       "      <td>9.000000</td>\n",
       "      <td>8.000000</td>\n",
       "      <td>2.000000</td>\n",
       "      <td>2.000000</td>\n",
       "      <td>2.000000</td>\n",
       "      <td>13086.964800</td>\n",
       "      <td>1.000000</td>\n",
       "      <td>-1.113550</td>\n",
       "      <td>2.000000</td>\n",
       "      <td>8.000000</td>\n",
       "      <td>1.000000</td>\n",
       "      <td>475.000000</td>\n",
       "      <td>100.937500</td>\n",
       "      <td>10.046766</td>\n",
       "      <td>1.000000</td>\n",
       "    </tr>\n",
       "  </tbody>\n",
       "</table>\n",
       "</div>"
      ],
      "text/plain": [
       "       Item_Weight  Item_Fat_Content  Item_Visibility    Item_Type  \\\n",
       "count  8523.000000       8523.000000      8523.000000  8523.000000   \n",
       "mean     12.875418          1.165083         0.070105     7.226681   \n",
       "std       4.645016          0.716317         0.048407     4.209990   \n",
       "min       4.555000          0.000000         0.003575     0.000000   \n",
       "25%       8.785000          1.000000         0.031509     4.000000   \n",
       "50%      12.650000          1.000000         0.058182     6.000000   \n",
       "75%      16.850000          2.000000         0.099119    10.000000   \n",
       "max      21.350000          2.000000         0.279887    15.000000   \n",
       "\n",
       "          Item_MRP  Outlet_Identifier  Outlet_Establishment_Year  Outlet_Size  \\\n",
       "count  8523.000000        8523.000000                8523.000000  8523.000000   \n",
       "mean    140.992782           4.722281                   3.790684     0.546404   \n",
       "std      62.275067           2.837201                   2.730322     0.683084   \n",
       "min      31.290000           0.000000                   0.000000     0.000000   \n",
       "25%      93.826500           2.000000                   1.000000     0.000000   \n",
       "50%     143.012800           5.000000                   4.000000     0.000000   \n",
       "75%     185.643700           7.000000                   6.000000     1.000000   \n",
       "max     266.888400           9.000000                   8.000000     2.000000   \n",
       "\n",
       "       Outlet_Location_Type  Outlet_Type  Item_Outlet_Sales  Outlet_Type1  \\\n",
       "count           8523.000000  8523.000000        8523.000000   8523.000000   \n",
       "mean               0.887129     1.091517        2181.288914      0.872932   \n",
       "std                0.812757     0.580790        1706.499616      0.333069   \n",
       "min                0.000000     0.000000          33.290000      0.000000   \n",
       "25%                0.000000     1.000000         834.247400      1.000000   \n",
       "50%                1.000000     1.000000        1794.331000      1.000000   \n",
       "75%                2.000000     1.000000        3101.296400      1.000000   \n",
       "max                2.000000     2.000000       13086.964800      1.000000   \n",
       "\n",
       "       log_visibility  Item_Identifier_temp  Outlet_Existence  Outlet_Status  \\\n",
       "count     8523.000000           8523.000000       8523.000000    8523.000000   \n",
       "mean        -2.920409              1.093864          3.790684       0.435645   \n",
       "std          0.788455              0.522090          2.730322       0.495870   \n",
       "min         -5.633875              0.000000          0.000000       0.000000   \n",
       "25%         -3.457491              1.000000          1.000000       0.000000   \n",
       "50%         -2.844186              1.000000          4.000000       0.000000   \n",
       "75%         -2.311435              1.000000          6.000000       1.000000   \n",
       "max         -1.113550              2.000000          8.000000       1.000000   \n",
       "\n",
       "       Calorie_Count_per_100g  Calorie_Count_per_givenwt  log_Calorie  \\\n",
       "count             8523.000000                8523.000000  8523.000000   \n",
       "mean               132.757010                  16.919672     3.299801   \n",
       "std                154.121863                  21.968149     2.455950   \n",
       "min                  0.000000                   0.000000     0.000000   \n",
       "25%                 46.000000                   4.114700     2.028472   \n",
       "50%                 65.000000                   8.701000     2.949746   \n",
       "75%                143.000000                  19.682500     4.436492   \n",
       "max                475.000000                 100.937500    10.046766   \n",
       "\n",
       "       Item_Frequency  \n",
       "count     8523.000000  \n",
       "mean         0.648715  \n",
       "std          0.477400  \n",
       "min          0.000000  \n",
       "25%          0.000000  \n",
       "50%          1.000000  \n",
       "75%          1.000000  \n",
       "max          1.000000  "
      ]
     },
     "execution_count": 73,
     "metadata": {},
     "output_type": "execute_result"
    }
   ],
   "source": [
    "df.describe()"
   ]
  },
  {
   "cell_type": "code",
   "execution_count": 74,
   "metadata": {},
   "outputs": [
    {
     "data": {
      "text/plain": [
       "Index(['Item_Identifier', 'Item_Weight', 'Item_Fat_Content', 'Item_Visibility',\n",
       "       'Item_Type', 'Item_MRP', 'Outlet_Identifier',\n",
       "       'Outlet_Establishment_Year', 'Outlet_Size', 'Outlet_Location_Type',\n",
       "       'Outlet_Type', 'Item_Outlet_Sales', 'Outlet_Type1', 'log_visibility',\n",
       "       'MRP_bin', 'Weight_bin', 'Item_Identifier_temp', 'Outlet_Existence',\n",
       "       'Outlet_Status', 'Calorie_Count_per_100g', 'Calorie_Count_per_givenwt',\n",
       "       'log_Calorie', 'Item_Frequency'],\n",
       "      dtype='object')"
      ]
     },
     "execution_count": 74,
     "metadata": {},
     "output_type": "execute_result"
    }
   ],
   "source": [
    "df.columns"
   ]
  },
  {
   "cell_type": "markdown",
   "metadata": {},
   "source": [
    "# Feature Selection"
   ]
  },
  {
   "cell_type": "code",
   "execution_count": 75,
   "metadata": {},
   "outputs": [],
   "source": [
    "y=df[['Item_Outlet_Sales']]\n",
    "X=df[[ 'Item_Weight', 'Item_Fat_Content', 'Item_Visibility',\n",
    "       'Item_Type', 'Item_MRP',\n",
    "       'Outlet_Establishment_Year', 'Outlet_Size', 'Outlet_Location_Type',\n",
    "       'Outlet_Type', 'log_visibility',\n",
    "       'MRP_bin', 'Weight_bin', 'Item_Identifier_temp', 'Outlet_Existence',\n",
    "       'Outlet_Status', 'Calorie_Count_per_100g', 'Calorie_Count_per_givenwt',\n",
    "       'log_Calorie', 'Item_Frequency']]\n",
    "x=df[['MRP_bin','Weight_bin','Item_Fat_Content','Item_Type', 'Outlet_Identifier',\n",
    "       'Outlet_Establishment_Year', 'Outlet_Size', 'Outlet_Location_Type','Item_Identifier_temp', 'Outlet_Existence',\n",
    "       'Outlet_Status']]"
   ]
  },
  {
   "cell_type": "markdown",
   "metadata": {},
   "source": [
    "# Train Test Split"
   ]
  },
  {
   "cell_type": "markdown",
   "metadata": {},
   "source": [
    "Using train test split to create training set and validation set"
   ]
  },
  {
   "cell_type": "code",
   "execution_count": 76,
   "metadata": {},
   "outputs": [],
   "source": [
    "from sklearn.model_selection import train_test_split,GridSearchCV\n",
    "X_train,X_test,y_train,y_test=train_test_split(X,y,test_size=0.2,random_state=31)"
   ]
  },
  {
   "cell_type": "markdown",
   "metadata": {},
   "source": [
    "# Standard Scaling"
   ]
  },
  {
   "cell_type": "markdown",
   "metadata": {},
   "source": [
    "Standardisation is a scaling technique where the values are centred around mean with a unit standard deviation and mean of attributed becomes zero.\n",
    "\n",
    "Normalisation is good to use when we do not have gaussian distribution but generally normalization is used for models like knn and neural network.In general we use standadisation since it is not affected by outliers and it works better compared to normalisation.At the end of the day we use scaling technique which works better.\n",
    "\n",
    "It is good practice to fit scaler on training data and then use it to transform testing data to avoid data leakage "
   ]
  },
  {
   "cell_type": "code",
   "execution_count": 77,
   "metadata": {},
   "outputs": [
    {
     "name": "stderr",
     "output_type": "stream",
     "text": [
      "C:\\Users\\User-1\\Anaconda3\\lib\\site-packages\\ipykernel_launcher.py:3: SettingWithCopyWarning: \n",
      "A value is trying to be set on a copy of a slice from a DataFrame.\n",
      "Try using .loc[row_indexer,col_indexer] = value instead\n",
      "\n",
      "See the caveats in the documentation: http://pandas.pydata.org/pandas-docs/stable/user_guide/indexing.html#returning-a-view-versus-a-copy\n",
      "  This is separate from the ipykernel package so we can avoid doing imports until\n",
      "C:\\Users\\User-1\\Anaconda3\\lib\\site-packages\\pandas\\core\\indexing.py:494: SettingWithCopyWarning: \n",
      "A value is trying to be set on a copy of a slice from a DataFrame.\n",
      "Try using .loc[row_indexer,col_indexer] = value instead\n",
      "\n",
      "See the caveats in the documentation: http://pandas.pydata.org/pandas-docs/stable/user_guide/indexing.html#returning-a-view-versus-a-copy\n",
      "  self.obj[item] = s\n",
      "C:\\Users\\User-1\\Anaconda3\\lib\\site-packages\\ipykernel_launcher.py:4: SettingWithCopyWarning: \n",
      "A value is trying to be set on a copy of a slice from a DataFrame.\n",
      "Try using .loc[row_indexer,col_indexer] = value instead\n",
      "\n",
      "See the caveats in the documentation: http://pandas.pydata.org/pandas-docs/stable/user_guide/indexing.html#returning-a-view-versus-a-copy\n",
      "  after removing the cwd from sys.path.\n",
      "C:\\Users\\User-1\\Anaconda3\\lib\\site-packages\\pandas\\core\\indexing.py:494: SettingWithCopyWarning: \n",
      "A value is trying to be set on a copy of a slice from a DataFrame.\n",
      "Try using .loc[row_indexer,col_indexer] = value instead\n",
      "\n",
      "See the caveats in the documentation: http://pandas.pydata.org/pandas-docs/stable/user_guide/indexing.html#returning-a-view-versus-a-copy\n",
      "  self.obj[item] = s\n"
     ]
    }
   ],
   "source": [
    "\n",
    "from sklearn.preprocessing import StandardScaler\n",
    "scaler=StandardScaler()\n",
    "X_train[['Item_Weight','Item_MRP','Item_Visibility','log_visibility','Calorie_Count_per_givenwt','log_Calorie']]=scaler.fit_transform(X_train[['Item_Weight','Item_MRP','Item_Visibility','log_visibility','Calorie_Count_per_givenwt','log_Calorie']])\n",
    "X_test[['Item_Weight','Item_MRP','Item_Visibility','log_visibility','Calorie_Count_per_givenwt','log_Calorie']]=scaler.transform(X_test[['Item_Weight','Item_MRP','Item_Visibility','log_visibility','Calorie_Count_per_givenwt','log_Calorie']])"
   ]
  },
  {
   "cell_type": "code",
   "execution_count": 78,
   "metadata": {},
   "outputs": [
    {
     "data": {
      "text/plain": [
       "{'Calorie_Count_per_givenwt',\n",
       " 'Outlet_Existence',\n",
       " 'Outlet_Status',\n",
       " 'log_Calorie',\n",
       " 'log_visibility'}"
      ]
     },
     "execution_count": 78,
     "metadata": {},
     "output_type": "execute_result"
    }
   ],
   "source": [
    "#Printing the list of inter correlated features\n",
    "correlated_features=set()\n",
    "corr_matrix=df.corr()\n",
    "for i in range(len(corr_matrix.columns)):\n",
    "    for j in range (i):\n",
    "        if(abs(corr_matrix.iloc[i,j]))>0.8:\n",
    "            correlated_features.add(corr_matrix.columns[i])\n",
    "correlated_features"
   ]
  },
  {
   "cell_type": "markdown",
   "metadata": {},
   "source": [
    "## Filter Methods"
   ]
  },
  {
   "cell_type": "markdown",
   "metadata": {},
   "source": [
    "Pearson’s Correlation: It is used as a measure for quantifying linear dependence between two continuous variables X and Y. Its value varies from -1 to +1. Pearson’s correlation is given as:\n",
    "fs2\n",
    "\n",
    "LDA: Linear discriminant analysis is used to find a linear combination of features that characterizes or separates two or more classes (or levels) of a categorical variable.\n",
    "\n",
    "ANOVA: ANOVA stands for Analysis of variance. It is similar to LDA except for the fact that it is operated using one or more categorical independent features and one continuous dependent feature. It provides a statistical test of whether the means of several groups are equal or not.\n",
    "\n",
    "Chi-Square: It is a is a statistical test applied to the groups of categorical features to evaluate the likelihood of correlation or association between them using their frequency distribution.\n",
    "\n",
    "One thing that should be kept in mind is that filter methods do not remove multicollinearity. So, you must deal with multicollinearity of features as well before training models for your data."
   ]
  },
  {
   "cell_type": "markdown",
   "metadata": {},
   "source": [
    "#### Pearson Correlation method for feature selection    (Input and Output Variable - Continuous)"
   ]
  },
  {
   "cell_type": "code",
   "execution_count": 79,
   "metadata": {},
   "outputs": [
    {
     "data": {
      "text/html": [
       "<div>\n",
       "<style scoped>\n",
       "    .dataframe tbody tr th:only-of-type {\n",
       "        vertical-align: middle;\n",
       "    }\n",
       "\n",
       "    .dataframe tbody tr th {\n",
       "        vertical-align: top;\n",
       "    }\n",
       "\n",
       "    .dataframe thead th {\n",
       "        text-align: right;\n",
       "    }\n",
       "</style>\n",
       "<table border=\"1\" class=\"dataframe\">\n",
       "  <thead>\n",
       "    <tr style=\"text-align: right;\">\n",
       "      <th></th>\n",
       "      <th>Item_Weight</th>\n",
       "      <th>Item_Fat_Content</th>\n",
       "      <th>Item_Visibility</th>\n",
       "      <th>Item_Type</th>\n",
       "      <th>Item_MRP</th>\n",
       "      <th>Outlet_Identifier</th>\n",
       "      <th>Outlet_Establishment_Year</th>\n",
       "      <th>Outlet_Size</th>\n",
       "      <th>Outlet_Location_Type</th>\n",
       "      <th>Outlet_Type</th>\n",
       "      <th>Item_Outlet_Sales</th>\n",
       "      <th>Outlet_Type1</th>\n",
       "      <th>log_visibility</th>\n",
       "      <th>Item_Identifier_temp</th>\n",
       "      <th>Outlet_Existence</th>\n",
       "      <th>Outlet_Status</th>\n",
       "      <th>Calorie_Count_per_100g</th>\n",
       "      <th>Calorie_Count_per_givenwt</th>\n",
       "      <th>log_Calorie</th>\n",
       "      <th>Item_Frequency</th>\n",
       "    </tr>\n",
       "  </thead>\n",
       "  <tbody>\n",
       "    <tr>\n",
       "      <td>Item_Weight</td>\n",
       "      <td>1.000000</td>\n",
       "      <td>-0.048540</td>\n",
       "      <td>-0.021742</td>\n",
       "      <td>0.035710</td>\n",
       "      <td>0.025967</td>\n",
       "      <td>-0.007586</td>\n",
       "      <td>-0.012126</td>\n",
       "      <td>0.012445</td>\n",
       "      <td>-0.002973</td>\n",
       "      <td>-0.001610</td>\n",
       "      <td>0.013198</td>\n",
       "      <td>-0.006883</td>\n",
       "      <td>-0.017039</td>\n",
       "      <td>0.071585</td>\n",
       "      <td>-0.012126</td>\n",
       "      <td>-0.015249</td>\n",
       "      <td>-0.024217</td>\n",
       "      <td>0.253291</td>\n",
       "      <td>0.208629</td>\n",
       "      <td>0.062497</td>\n",
       "    </tr>\n",
       "    <tr>\n",
       "      <td>Item_Fat_Content</td>\n",
       "      <td>-0.048540</td>\n",
       "      <td>1.000000</td>\n",
       "      <td>0.083802</td>\n",
       "      <td>-0.196265</td>\n",
       "      <td>0.001396</td>\n",
       "      <td>0.005817</td>\n",
       "      <td>0.004950</td>\n",
       "      <td>0.001489</td>\n",
       "      <td>0.004396</td>\n",
       "      <td>0.005425</td>\n",
       "      <td>0.018407</td>\n",
       "      <td>0.006780</td>\n",
       "      <td>0.088778</td>\n",
       "      <td>-0.565429</td>\n",
       "      <td>0.004950</td>\n",
       "      <td>0.001998</td>\n",
       "      <td>0.317612</td>\n",
       "      <td>0.265730</td>\n",
       "      <td>0.493279</td>\n",
       "      <td>0.091020</td>\n",
       "    </tr>\n",
       "    <tr>\n",
       "      <td>Item_Visibility</td>\n",
       "      <td>-0.021742</td>\n",
       "      <td>0.083802</td>\n",
       "      <td>1.000000</td>\n",
       "      <td>-0.042580</td>\n",
       "      <td>-0.006752</td>\n",
       "      <td>-0.097698</td>\n",
       "      <td>-0.083226</td>\n",
       "      <td>-0.091946</td>\n",
       "      <td>0.029097</td>\n",
       "      <td>-0.207818</td>\n",
       "      <td>-0.128512</td>\n",
       "      <td>-0.285263</td>\n",
       "      <td>0.912509</td>\n",
       "      <td>-0.054255</td>\n",
       "      <td>-0.083226</td>\n",
       "      <td>-0.090385</td>\n",
       "      <td>0.025929</td>\n",
       "      <td>0.022168</td>\n",
       "      <td>0.044265</td>\n",
       "      <td>0.014542</td>\n",
       "    </tr>\n",
       "    <tr>\n",
       "      <td>Item_Type</td>\n",
       "      <td>0.035710</td>\n",
       "      <td>-0.196265</td>\n",
       "      <td>-0.042580</td>\n",
       "      <td>1.000000</td>\n",
       "      <td>0.032651</td>\n",
       "      <td>0.001656</td>\n",
       "      <td>0.006527</td>\n",
       "      <td>0.000218</td>\n",
       "      <td>-0.003084</td>\n",
       "      <td>0.002889</td>\n",
       "      <td>0.017048</td>\n",
       "      <td>0.003389</td>\n",
       "      <td>-0.052735</td>\n",
       "      <td>0.007456</td>\n",
       "      <td>0.006527</td>\n",
       "      <td>0.006370</td>\n",
       "      <td>0.362605</td>\n",
       "      <td>0.346393</td>\n",
       "      <td>0.195407</td>\n",
       "      <td>0.010549</td>\n",
       "    </tr>\n",
       "    <tr>\n",
       "      <td>Item_MRP</td>\n",
       "      <td>0.025967</td>\n",
       "      <td>0.001396</td>\n",
       "      <td>-0.006752</td>\n",
       "      <td>0.032651</td>\n",
       "      <td>1.000000</td>\n",
       "      <td>0.003319</td>\n",
       "      <td>0.004162</td>\n",
       "      <td>-0.000872</td>\n",
       "      <td>-0.000232</td>\n",
       "      <td>0.000905</td>\n",
       "      <td>0.567574</td>\n",
       "      <td>0.004277</td>\n",
       "      <td>-0.002017</td>\n",
       "      <td>0.032517</td>\n",
       "      <td>0.004162</td>\n",
       "      <td>0.004264</td>\n",
       "      <td>0.019927</td>\n",
       "      <td>0.033800</td>\n",
       "      <td>0.021185</td>\n",
       "      <td>0.081021</td>\n",
       "    </tr>\n",
       "    <tr>\n",
       "      <td>Outlet_Identifier</td>\n",
       "      <td>-0.007586</td>\n",
       "      <td>0.005817</td>\n",
       "      <td>-0.097698</td>\n",
       "      <td>0.001656</td>\n",
       "      <td>0.003319</td>\n",
       "      <td>1.000000</td>\n",
       "      <td>-0.030969</td>\n",
       "      <td>-0.260272</td>\n",
       "      <td>0.716176</td>\n",
       "      <td>0.118469</td>\n",
       "      <td>0.162325</td>\n",
       "      <td>0.372802</td>\n",
       "      <td>-0.081736</td>\n",
       "      <td>-0.009730</td>\n",
       "      <td>-0.030969</td>\n",
       "      <td>-0.067962</td>\n",
       "      <td>0.010384</td>\n",
       "      <td>0.003475</td>\n",
       "      <td>0.006721</td>\n",
       "      <td>0.007928</td>\n",
       "    </tr>\n",
       "    <tr>\n",
       "      <td>Outlet_Establishment_Year</td>\n",
       "      <td>-0.012126</td>\n",
       "      <td>0.004950</td>\n",
       "      <td>-0.083226</td>\n",
       "      <td>0.006527</td>\n",
       "      <td>0.004162</td>\n",
       "      <td>-0.030969</td>\n",
       "      <td>1.000000</td>\n",
       "      <td>-0.292265</td>\n",
       "      <td>-0.042005</td>\n",
       "      <td>0.207365</td>\n",
       "      <td>-0.025525</td>\n",
       "      <td>0.314888</td>\n",
       "      <td>-0.065640</td>\n",
       "      <td>-0.009018</td>\n",
       "      <td>1.000000</td>\n",
       "      <td>0.871586</td>\n",
       "      <td>0.003353</td>\n",
       "      <td>-0.001068</td>\n",
       "      <td>0.001663</td>\n",
       "      <td>0.004979</td>\n",
       "    </tr>\n",
       "    <tr>\n",
       "      <td>Outlet_Size</td>\n",
       "      <td>0.012445</td>\n",
       "      <td>0.001489</td>\n",
       "      <td>-0.091946</td>\n",
       "      <td>0.000218</td>\n",
       "      <td>-0.000872</td>\n",
       "      <td>-0.260272</td>\n",
       "      <td>-0.292265</td>\n",
       "      <td>1.000000</td>\n",
       "      <td>-0.480075</td>\n",
       "      <td>0.424975</td>\n",
       "      <td>0.162753</td>\n",
       "      <td>0.305206</td>\n",
       "      <td>-0.075274</td>\n",
       "      <td>0.001276</td>\n",
       "      <td>-0.292265</td>\n",
       "      <td>-0.381350</td>\n",
       "      <td>0.000887</td>\n",
       "      <td>0.004273</td>\n",
       "      <td>0.002987</td>\n",
       "      <td>0.004294</td>\n",
       "    </tr>\n",
       "    <tr>\n",
       "      <td>Outlet_Location_Type</td>\n",
       "      <td>-0.002973</td>\n",
       "      <td>0.004396</td>\n",
       "      <td>0.029097</td>\n",
       "      <td>-0.003084</td>\n",
       "      <td>-0.000232</td>\n",
       "      <td>0.716176</td>\n",
       "      <td>-0.042005</td>\n",
       "      <td>-0.480075</td>\n",
       "      <td>1.000000</td>\n",
       "      <td>-0.434520</td>\n",
       "      <td>-0.089367</td>\n",
       "      <td>-0.041284</td>\n",
       "      <td>0.021261</td>\n",
       "      <td>-0.007661</td>\n",
       "      <td>-0.042005</td>\n",
       "      <td>-0.148173</td>\n",
       "      <td>0.001319</td>\n",
       "      <td>-0.001918</td>\n",
       "      <td>0.000115</td>\n",
       "      <td>0.003648</td>\n",
       "    </tr>\n",
       "    <tr>\n",
       "      <td>Outlet_Type</td>\n",
       "      <td>-0.001610</td>\n",
       "      <td>0.005425</td>\n",
       "      <td>-0.207818</td>\n",
       "      <td>0.002889</td>\n",
       "      <td>0.000905</td>\n",
       "      <td>0.118469</td>\n",
       "      <td>0.207365</td>\n",
       "      <td>0.424975</td>\n",
       "      <td>-0.434520</td>\n",
       "      <td>1.000000</td>\n",
       "      <td>0.383163</td>\n",
       "      <td>0.717075</td>\n",
       "      <td>-0.167355</td>\n",
       "      <td>-0.001244</td>\n",
       "      <td>0.207365</td>\n",
       "      <td>0.239659</td>\n",
       "      <td>0.006277</td>\n",
       "      <td>0.005649</td>\n",
       "      <td>0.005998</td>\n",
       "      <td>0.007619</td>\n",
       "    </tr>\n",
       "    <tr>\n",
       "      <td>Item_Outlet_Sales</td>\n",
       "      <td>0.013198</td>\n",
       "      <td>0.018407</td>\n",
       "      <td>-0.128512</td>\n",
       "      <td>0.017048</td>\n",
       "      <td>0.567574</td>\n",
       "      <td>0.162325</td>\n",
       "      <td>-0.025525</td>\n",
       "      <td>0.162753</td>\n",
       "      <td>-0.089367</td>\n",
       "      <td>0.383163</td>\n",
       "      <td>1.000000</td>\n",
       "      <td>0.411727</td>\n",
       "      <td>-0.102880</td>\n",
       "      <td>0.011236</td>\n",
       "      <td>-0.025525</td>\n",
       "      <td>0.031202</td>\n",
       "      <td>0.017897</td>\n",
       "      <td>0.026035</td>\n",
       "      <td>0.022383</td>\n",
       "      <td>0.049040</td>\n",
       "    </tr>\n",
       "    <tr>\n",
       "      <td>Outlet_Type1</td>\n",
       "      <td>-0.006883</td>\n",
       "      <td>0.006780</td>\n",
       "      <td>-0.285263</td>\n",
       "      <td>0.003389</td>\n",
       "      <td>0.004277</td>\n",
       "      <td>0.372802</td>\n",
       "      <td>0.314888</td>\n",
       "      <td>0.305206</td>\n",
       "      <td>-0.041284</td>\n",
       "      <td>0.717075</td>\n",
       "      <td>0.411727</td>\n",
       "      <td>1.000000</td>\n",
       "      <td>-0.232151</td>\n",
       "      <td>-0.008331</td>\n",
       "      <td>0.314888</td>\n",
       "      <td>0.335211</td>\n",
       "      <td>0.002564</td>\n",
       "      <td>0.001104</td>\n",
       "      <td>0.002236</td>\n",
       "      <td>0.012958</td>\n",
       "    </tr>\n",
       "    <tr>\n",
       "      <td>log_visibility</td>\n",
       "      <td>-0.017039</td>\n",
       "      <td>0.088778</td>\n",
       "      <td>0.912509</td>\n",
       "      <td>-0.052735</td>\n",
       "      <td>-0.002017</td>\n",
       "      <td>-0.081736</td>\n",
       "      <td>-0.065640</td>\n",
       "      <td>-0.075274</td>\n",
       "      <td>0.021261</td>\n",
       "      <td>-0.167355</td>\n",
       "      <td>-0.102880</td>\n",
       "      <td>-0.232151</td>\n",
       "      <td>1.000000</td>\n",
       "      <td>-0.066237</td>\n",
       "      <td>-0.065640</td>\n",
       "      <td>-0.074027</td>\n",
       "      <td>0.032196</td>\n",
       "      <td>0.031548</td>\n",
       "      <td>0.055233</td>\n",
       "      <td>0.014666</td>\n",
       "    </tr>\n",
       "    <tr>\n",
       "      <td>Item_Identifier_temp</td>\n",
       "      <td>0.071585</td>\n",
       "      <td>-0.565429</td>\n",
       "      <td>-0.054255</td>\n",
       "      <td>0.007456</td>\n",
       "      <td>0.032517</td>\n",
       "      <td>-0.009730</td>\n",
       "      <td>-0.009018</td>\n",
       "      <td>0.001276</td>\n",
       "      <td>-0.007661</td>\n",
       "      <td>-0.001244</td>\n",
       "      <td>0.011236</td>\n",
       "      <td>-0.008331</td>\n",
       "      <td>-0.066237</td>\n",
       "      <td>1.000000</td>\n",
       "      <td>-0.009018</td>\n",
       "      <td>-0.007033</td>\n",
       "      <td>-0.275388</td>\n",
       "      <td>-0.237903</td>\n",
       "      <td>-0.474803</td>\n",
       "      <td>0.118182</td>\n",
       "    </tr>\n",
       "    <tr>\n",
       "      <td>Outlet_Existence</td>\n",
       "      <td>-0.012126</td>\n",
       "      <td>0.004950</td>\n",
       "      <td>-0.083226</td>\n",
       "      <td>0.006527</td>\n",
       "      <td>0.004162</td>\n",
       "      <td>-0.030969</td>\n",
       "      <td>1.000000</td>\n",
       "      <td>-0.292265</td>\n",
       "      <td>-0.042005</td>\n",
       "      <td>0.207365</td>\n",
       "      <td>-0.025525</td>\n",
       "      <td>0.314888</td>\n",
       "      <td>-0.065640</td>\n",
       "      <td>-0.009018</td>\n",
       "      <td>1.000000</td>\n",
       "      <td>0.871586</td>\n",
       "      <td>0.003353</td>\n",
       "      <td>-0.001068</td>\n",
       "      <td>0.001663</td>\n",
       "      <td>0.004979</td>\n",
       "    </tr>\n",
       "    <tr>\n",
       "      <td>Outlet_Status</td>\n",
       "      <td>-0.015249</td>\n",
       "      <td>0.001998</td>\n",
       "      <td>-0.090385</td>\n",
       "      <td>0.006370</td>\n",
       "      <td>0.004264</td>\n",
       "      <td>-0.067962</td>\n",
       "      <td>0.871586</td>\n",
       "      <td>-0.381350</td>\n",
       "      <td>-0.148173</td>\n",
       "      <td>0.239659</td>\n",
       "      <td>0.031202</td>\n",
       "      <td>0.335211</td>\n",
       "      <td>-0.074027</td>\n",
       "      <td>-0.007033</td>\n",
       "      <td>0.871586</td>\n",
       "      <td>1.000000</td>\n",
       "      <td>0.005285</td>\n",
       "      <td>0.000228</td>\n",
       "      <td>0.002784</td>\n",
       "      <td>0.003629</td>\n",
       "    </tr>\n",
       "    <tr>\n",
       "      <td>Calorie_Count_per_100g</td>\n",
       "      <td>-0.024217</td>\n",
       "      <td>0.317612</td>\n",
       "      <td>0.025929</td>\n",
       "      <td>0.362605</td>\n",
       "      <td>0.019927</td>\n",
       "      <td>0.010384</td>\n",
       "      <td>0.003353</td>\n",
       "      <td>0.000887</td>\n",
       "      <td>0.001319</td>\n",
       "      <td>0.006277</td>\n",
       "      <td>0.017897</td>\n",
       "      <td>0.002564</td>\n",
       "      <td>0.032196</td>\n",
       "      <td>-0.275388</td>\n",
       "      <td>0.003353</td>\n",
       "      <td>0.005285</td>\n",
       "      <td>1.000000</td>\n",
       "      <td>0.906035</td>\n",
       "      <td>0.900169</td>\n",
       "      <td>0.067235</td>\n",
       "    </tr>\n",
       "    <tr>\n",
       "      <td>Calorie_Count_per_givenwt</td>\n",
       "      <td>0.253291</td>\n",
       "      <td>0.265730</td>\n",
       "      <td>0.022168</td>\n",
       "      <td>0.346393</td>\n",
       "      <td>0.033800</td>\n",
       "      <td>0.003475</td>\n",
       "      <td>-0.001068</td>\n",
       "      <td>0.004273</td>\n",
       "      <td>-0.001918</td>\n",
       "      <td>0.005649</td>\n",
       "      <td>0.026035</td>\n",
       "      <td>0.001104</td>\n",
       "      <td>0.031548</td>\n",
       "      <td>-0.237903</td>\n",
       "      <td>-0.001068</td>\n",
       "      <td>0.000228</td>\n",
       "      <td>0.906035</td>\n",
       "      <td>1.000000</td>\n",
       "      <td>0.934727</td>\n",
       "      <td>0.083215</td>\n",
       "    </tr>\n",
       "    <tr>\n",
       "      <td>log_Calorie</td>\n",
       "      <td>0.208629</td>\n",
       "      <td>0.493279</td>\n",
       "      <td>0.044265</td>\n",
       "      <td>0.195407</td>\n",
       "      <td>0.021185</td>\n",
       "      <td>0.006721</td>\n",
       "      <td>0.001663</td>\n",
       "      <td>0.002987</td>\n",
       "      <td>0.000115</td>\n",
       "      <td>0.005998</td>\n",
       "      <td>0.022383</td>\n",
       "      <td>0.002236</td>\n",
       "      <td>0.055233</td>\n",
       "      <td>-0.474803</td>\n",
       "      <td>0.001663</td>\n",
       "      <td>0.002784</td>\n",
       "      <td>0.900169</td>\n",
       "      <td>0.934727</td>\n",
       "      <td>1.000000</td>\n",
       "      <td>0.039894</td>\n",
       "    </tr>\n",
       "    <tr>\n",
       "      <td>Item_Frequency</td>\n",
       "      <td>0.062497</td>\n",
       "      <td>0.091020</td>\n",
       "      <td>0.014542</td>\n",
       "      <td>0.010549</td>\n",
       "      <td>0.081021</td>\n",
       "      <td>0.007928</td>\n",
       "      <td>0.004979</td>\n",
       "      <td>0.004294</td>\n",
       "      <td>0.003648</td>\n",
       "      <td>0.007619</td>\n",
       "      <td>0.049040</td>\n",
       "      <td>0.012958</td>\n",
       "      <td>0.014666</td>\n",
       "      <td>0.118182</td>\n",
       "      <td>0.004979</td>\n",
       "      <td>0.003629</td>\n",
       "      <td>0.067235</td>\n",
       "      <td>0.083215</td>\n",
       "      <td>0.039894</td>\n",
       "      <td>1.000000</td>\n",
       "    </tr>\n",
       "  </tbody>\n",
       "</table>\n",
       "</div>"
      ],
      "text/plain": [
       "                           Item_Weight  Item_Fat_Content  Item_Visibility  \\\n",
       "Item_Weight                   1.000000         -0.048540        -0.021742   \n",
       "Item_Fat_Content             -0.048540          1.000000         0.083802   \n",
       "Item_Visibility              -0.021742          0.083802         1.000000   \n",
       "Item_Type                     0.035710         -0.196265        -0.042580   \n",
       "Item_MRP                      0.025967          0.001396        -0.006752   \n",
       "Outlet_Identifier            -0.007586          0.005817        -0.097698   \n",
       "Outlet_Establishment_Year    -0.012126          0.004950        -0.083226   \n",
       "Outlet_Size                   0.012445          0.001489        -0.091946   \n",
       "Outlet_Location_Type         -0.002973          0.004396         0.029097   \n",
       "Outlet_Type                  -0.001610          0.005425        -0.207818   \n",
       "Item_Outlet_Sales             0.013198          0.018407        -0.128512   \n",
       "Outlet_Type1                 -0.006883          0.006780        -0.285263   \n",
       "log_visibility               -0.017039          0.088778         0.912509   \n",
       "Item_Identifier_temp          0.071585         -0.565429        -0.054255   \n",
       "Outlet_Existence             -0.012126          0.004950        -0.083226   \n",
       "Outlet_Status                -0.015249          0.001998        -0.090385   \n",
       "Calorie_Count_per_100g       -0.024217          0.317612         0.025929   \n",
       "Calorie_Count_per_givenwt     0.253291          0.265730         0.022168   \n",
       "log_Calorie                   0.208629          0.493279         0.044265   \n",
       "Item_Frequency                0.062497          0.091020         0.014542   \n",
       "\n",
       "                           Item_Type  Item_MRP  Outlet_Identifier  \\\n",
       "Item_Weight                 0.035710  0.025967          -0.007586   \n",
       "Item_Fat_Content           -0.196265  0.001396           0.005817   \n",
       "Item_Visibility            -0.042580 -0.006752          -0.097698   \n",
       "Item_Type                   1.000000  0.032651           0.001656   \n",
       "Item_MRP                    0.032651  1.000000           0.003319   \n",
       "Outlet_Identifier           0.001656  0.003319           1.000000   \n",
       "Outlet_Establishment_Year   0.006527  0.004162          -0.030969   \n",
       "Outlet_Size                 0.000218 -0.000872          -0.260272   \n",
       "Outlet_Location_Type       -0.003084 -0.000232           0.716176   \n",
       "Outlet_Type                 0.002889  0.000905           0.118469   \n",
       "Item_Outlet_Sales           0.017048  0.567574           0.162325   \n",
       "Outlet_Type1                0.003389  0.004277           0.372802   \n",
       "log_visibility             -0.052735 -0.002017          -0.081736   \n",
       "Item_Identifier_temp        0.007456  0.032517          -0.009730   \n",
       "Outlet_Existence            0.006527  0.004162          -0.030969   \n",
       "Outlet_Status               0.006370  0.004264          -0.067962   \n",
       "Calorie_Count_per_100g      0.362605  0.019927           0.010384   \n",
       "Calorie_Count_per_givenwt   0.346393  0.033800           0.003475   \n",
       "log_Calorie                 0.195407  0.021185           0.006721   \n",
       "Item_Frequency              0.010549  0.081021           0.007928   \n",
       "\n",
       "                           Outlet_Establishment_Year  Outlet_Size  \\\n",
       "Item_Weight                                -0.012126     0.012445   \n",
       "Item_Fat_Content                            0.004950     0.001489   \n",
       "Item_Visibility                            -0.083226    -0.091946   \n",
       "Item_Type                                   0.006527     0.000218   \n",
       "Item_MRP                                    0.004162    -0.000872   \n",
       "Outlet_Identifier                          -0.030969    -0.260272   \n",
       "Outlet_Establishment_Year                   1.000000    -0.292265   \n",
       "Outlet_Size                                -0.292265     1.000000   \n",
       "Outlet_Location_Type                       -0.042005    -0.480075   \n",
       "Outlet_Type                                 0.207365     0.424975   \n",
       "Item_Outlet_Sales                          -0.025525     0.162753   \n",
       "Outlet_Type1                                0.314888     0.305206   \n",
       "log_visibility                             -0.065640    -0.075274   \n",
       "Item_Identifier_temp                       -0.009018     0.001276   \n",
       "Outlet_Existence                            1.000000    -0.292265   \n",
       "Outlet_Status                               0.871586    -0.381350   \n",
       "Calorie_Count_per_100g                      0.003353     0.000887   \n",
       "Calorie_Count_per_givenwt                  -0.001068     0.004273   \n",
       "log_Calorie                                 0.001663     0.002987   \n",
       "Item_Frequency                              0.004979     0.004294   \n",
       "\n",
       "                           Outlet_Location_Type  Outlet_Type  \\\n",
       "Item_Weight                           -0.002973    -0.001610   \n",
       "Item_Fat_Content                       0.004396     0.005425   \n",
       "Item_Visibility                        0.029097    -0.207818   \n",
       "Item_Type                             -0.003084     0.002889   \n",
       "Item_MRP                              -0.000232     0.000905   \n",
       "Outlet_Identifier                      0.716176     0.118469   \n",
       "Outlet_Establishment_Year             -0.042005     0.207365   \n",
       "Outlet_Size                           -0.480075     0.424975   \n",
       "Outlet_Location_Type                   1.000000    -0.434520   \n",
       "Outlet_Type                           -0.434520     1.000000   \n",
       "Item_Outlet_Sales                     -0.089367     0.383163   \n",
       "Outlet_Type1                          -0.041284     0.717075   \n",
       "log_visibility                         0.021261    -0.167355   \n",
       "Item_Identifier_temp                  -0.007661    -0.001244   \n",
       "Outlet_Existence                      -0.042005     0.207365   \n",
       "Outlet_Status                         -0.148173     0.239659   \n",
       "Calorie_Count_per_100g                 0.001319     0.006277   \n",
       "Calorie_Count_per_givenwt             -0.001918     0.005649   \n",
       "log_Calorie                            0.000115     0.005998   \n",
       "Item_Frequency                         0.003648     0.007619   \n",
       "\n",
       "                           Item_Outlet_Sales  Outlet_Type1  log_visibility  \\\n",
       "Item_Weight                         0.013198     -0.006883       -0.017039   \n",
       "Item_Fat_Content                    0.018407      0.006780        0.088778   \n",
       "Item_Visibility                    -0.128512     -0.285263        0.912509   \n",
       "Item_Type                           0.017048      0.003389       -0.052735   \n",
       "Item_MRP                            0.567574      0.004277       -0.002017   \n",
       "Outlet_Identifier                   0.162325      0.372802       -0.081736   \n",
       "Outlet_Establishment_Year          -0.025525      0.314888       -0.065640   \n",
       "Outlet_Size                         0.162753      0.305206       -0.075274   \n",
       "Outlet_Location_Type               -0.089367     -0.041284        0.021261   \n",
       "Outlet_Type                         0.383163      0.717075       -0.167355   \n",
       "Item_Outlet_Sales                   1.000000      0.411727       -0.102880   \n",
       "Outlet_Type1                        0.411727      1.000000       -0.232151   \n",
       "log_visibility                     -0.102880     -0.232151        1.000000   \n",
       "Item_Identifier_temp                0.011236     -0.008331       -0.066237   \n",
       "Outlet_Existence                   -0.025525      0.314888       -0.065640   \n",
       "Outlet_Status                       0.031202      0.335211       -0.074027   \n",
       "Calorie_Count_per_100g              0.017897      0.002564        0.032196   \n",
       "Calorie_Count_per_givenwt           0.026035      0.001104        0.031548   \n",
       "log_Calorie                         0.022383      0.002236        0.055233   \n",
       "Item_Frequency                      0.049040      0.012958        0.014666   \n",
       "\n",
       "                           Item_Identifier_temp  Outlet_Existence  \\\n",
       "Item_Weight                            0.071585         -0.012126   \n",
       "Item_Fat_Content                      -0.565429          0.004950   \n",
       "Item_Visibility                       -0.054255         -0.083226   \n",
       "Item_Type                              0.007456          0.006527   \n",
       "Item_MRP                               0.032517          0.004162   \n",
       "Outlet_Identifier                     -0.009730         -0.030969   \n",
       "Outlet_Establishment_Year             -0.009018          1.000000   \n",
       "Outlet_Size                            0.001276         -0.292265   \n",
       "Outlet_Location_Type                  -0.007661         -0.042005   \n",
       "Outlet_Type                           -0.001244          0.207365   \n",
       "Item_Outlet_Sales                      0.011236         -0.025525   \n",
       "Outlet_Type1                          -0.008331          0.314888   \n",
       "log_visibility                        -0.066237         -0.065640   \n",
       "Item_Identifier_temp                   1.000000         -0.009018   \n",
       "Outlet_Existence                      -0.009018          1.000000   \n",
       "Outlet_Status                         -0.007033          0.871586   \n",
       "Calorie_Count_per_100g                -0.275388          0.003353   \n",
       "Calorie_Count_per_givenwt             -0.237903         -0.001068   \n",
       "log_Calorie                           -0.474803          0.001663   \n",
       "Item_Frequency                         0.118182          0.004979   \n",
       "\n",
       "                           Outlet_Status  Calorie_Count_per_100g  \\\n",
       "Item_Weight                    -0.015249               -0.024217   \n",
       "Item_Fat_Content                0.001998                0.317612   \n",
       "Item_Visibility                -0.090385                0.025929   \n",
       "Item_Type                       0.006370                0.362605   \n",
       "Item_MRP                        0.004264                0.019927   \n",
       "Outlet_Identifier              -0.067962                0.010384   \n",
       "Outlet_Establishment_Year       0.871586                0.003353   \n",
       "Outlet_Size                    -0.381350                0.000887   \n",
       "Outlet_Location_Type           -0.148173                0.001319   \n",
       "Outlet_Type                     0.239659                0.006277   \n",
       "Item_Outlet_Sales               0.031202                0.017897   \n",
       "Outlet_Type1                    0.335211                0.002564   \n",
       "log_visibility                 -0.074027                0.032196   \n",
       "Item_Identifier_temp           -0.007033               -0.275388   \n",
       "Outlet_Existence                0.871586                0.003353   \n",
       "Outlet_Status                   1.000000                0.005285   \n",
       "Calorie_Count_per_100g          0.005285                1.000000   \n",
       "Calorie_Count_per_givenwt       0.000228                0.906035   \n",
       "log_Calorie                     0.002784                0.900169   \n",
       "Item_Frequency                  0.003629                0.067235   \n",
       "\n",
       "                           Calorie_Count_per_givenwt  log_Calorie  \\\n",
       "Item_Weight                                 0.253291     0.208629   \n",
       "Item_Fat_Content                            0.265730     0.493279   \n",
       "Item_Visibility                             0.022168     0.044265   \n",
       "Item_Type                                   0.346393     0.195407   \n",
       "Item_MRP                                    0.033800     0.021185   \n",
       "Outlet_Identifier                           0.003475     0.006721   \n",
       "Outlet_Establishment_Year                  -0.001068     0.001663   \n",
       "Outlet_Size                                 0.004273     0.002987   \n",
       "Outlet_Location_Type                       -0.001918     0.000115   \n",
       "Outlet_Type                                 0.005649     0.005998   \n",
       "Item_Outlet_Sales                           0.026035     0.022383   \n",
       "Outlet_Type1                                0.001104     0.002236   \n",
       "log_visibility                              0.031548     0.055233   \n",
       "Item_Identifier_temp                       -0.237903    -0.474803   \n",
       "Outlet_Existence                           -0.001068     0.001663   \n",
       "Outlet_Status                               0.000228     0.002784   \n",
       "Calorie_Count_per_100g                      0.906035     0.900169   \n",
       "Calorie_Count_per_givenwt                   1.000000     0.934727   \n",
       "log_Calorie                                 0.934727     1.000000   \n",
       "Item_Frequency                              0.083215     0.039894   \n",
       "\n",
       "                           Item_Frequency  \n",
       "Item_Weight                      0.062497  \n",
       "Item_Fat_Content                 0.091020  \n",
       "Item_Visibility                  0.014542  \n",
       "Item_Type                        0.010549  \n",
       "Item_MRP                         0.081021  \n",
       "Outlet_Identifier                0.007928  \n",
       "Outlet_Establishment_Year        0.004979  \n",
       "Outlet_Size                      0.004294  \n",
       "Outlet_Location_Type             0.003648  \n",
       "Outlet_Type                      0.007619  \n",
       "Item_Outlet_Sales                0.049040  \n",
       "Outlet_Type1                     0.012958  \n",
       "log_visibility                   0.014666  \n",
       "Item_Identifier_temp             0.118182  \n",
       "Outlet_Existence                 0.004979  \n",
       "Outlet_Status                    0.003629  \n",
       "Calorie_Count_per_100g           0.067235  \n",
       "Calorie_Count_per_givenwt        0.083215  \n",
       "log_Calorie                      0.039894  \n",
       "Item_Frequency                   1.000000  "
      ]
     },
     "execution_count": 79,
     "metadata": {},
     "output_type": "execute_result"
    }
   ],
   "source": [
    "df.corr()"
   ]
  },
  {
   "cell_type": "markdown",
   "metadata": {},
   "source": [
    "So only Item MRP have pearson correlation value >0.5"
   ]
  },
  {
   "cell_type": "markdown",
   "metadata": {},
   "source": [
    "#### Anova test (Input Variable - Categorical Variable , Output - Continuous)"
   ]
  },
  {
   "cell_type": "code",
   "execution_count": 80,
   "metadata": {},
   "outputs": [
    {
     "name": "stderr",
     "output_type": "stream",
     "text": [
      "C:\\Users\\User-1\\Anaconda3\\lib\\site-packages\\sklearn\\utils\\validation.py:724: DataConversionWarning: A column-vector y was passed when a 1d array was expected. Please change the shape of y to (n_samples, ), for example using ravel().\n",
      "  y = column_or_1d(y, warn=True)\n"
     ]
    },
    {
     "data": {
      "text/plain": [
       "MRP_bin                      0.000000e+00\n",
       "Outlet_Identifier            2.070364e-51\n",
       "Outlet_Establishment_Year    1.844583e-02\n",
       "Outlet_Size                  1.122518e-51\n",
       "Outlet_Location_Type         1.389024e-16\n",
       "Outlet_Existence             1.844583e-02\n",
       "Outlet_Status                3.965603e-03\n",
       "dtype: float64"
      ]
     },
     "execution_count": 80,
     "metadata": {},
     "output_type": "execute_result"
    }
   ],
   "source": [
    "from sklearn.feature_selection import chi2,f_regression\n",
    "sel=f_regression(x,y)\n",
    "p=pd.Series(sel[1])\n",
    "p.index=x.columns\n",
    "p=p[p<0.05]\n",
    "p"
   ]
  },
  {
   "cell_type": "code",
   "execution_count": 81,
   "metadata": {},
   "outputs": [
    {
     "data": {
      "text/plain": [
       "Index(['Item_MRP', 'Outlet_Location_Type', 'Outlet_Type', 'Outlet_Status'], dtype='object')"
      ]
     },
     "execution_count": 81,
     "metadata": {},
     "output_type": "execute_result"
    }
   ],
   "source": [
    "from sklearn.feature_selection import SelectFromModel\n",
    "from sklearn.linear_model import LinearRegression\n",
    "sel=SelectFromModel(LinearRegression())\n",
    "sel.fit(X_train,y_train)\n",
    "X_train.columns[sel.get_support()]"
   ]
  },
  {
   "cell_type": "markdown",
   "metadata": {},
   "source": [
    "### Wraper Methods"
   ]
  },
  {
   "cell_type": "markdown",
   "metadata": {},
   "source": [
    "Forward Selection: Forward selection is an iterative method in which we start with having no feature in the model. In each iteration, we keep adding the feature which best improves our model till an addition of a new variable does not improve the performance of the model.\n",
    "\n",
    "Backward Elimination: In backward elimination, we start with all the features and removes the least significant feature at each iteration which improves the performance of the model. We repeat this until no improvement is observed on removal of features.\n",
    "\n",
    "Recursive Feature elimination: It is a greedy optimization algorithm which aims to find the best performing feature subset. It repeatedly creates models and keeps aside the best or the worst performing feature at each iteration. It constructs the next model with the left features until all the features are exhausted. It then ranks the features based on the order of their elimination."
   ]
  },
  {
   "cell_type": "markdown",
   "metadata": {},
   "source": [
    "#### Multivariate Feature Selection"
   ]
  },
  {
   "cell_type": "code",
   "execution_count": 82,
   "metadata": {},
   "outputs": [
    {
     "name": "stderr",
     "output_type": "stream",
     "text": [
      "[Parallel(n_jobs=-1)]: Using backend LokyBackend with 4 concurrent workers.\n",
      "[Parallel(n_jobs=-1)]: Done  19 out of  19 | elapsed:    5.7s finished\n",
      "\n",
      "[2020-06-26 06:35:24] Features: 1/5 -- score: -726346.5934226052[Parallel(n_jobs=-1)]: Using backend LokyBackend with 4 concurrent workers.\n",
      "[Parallel(n_jobs=-1)]: Done  18 out of  18 | elapsed:    2.2s finished\n",
      "\n",
      "[2020-06-26 06:35:27] Features: 2/5 -- score: -402777.1101661524[Parallel(n_jobs=-1)]: Using backend LokyBackend with 4 concurrent workers.\n",
      "[Parallel(n_jobs=-1)]: Done  17 out of  17 | elapsed:    2.5s finished\n",
      "\n",
      "[2020-06-26 06:35:29] Features: 3/5 -- score: -285496.74705537065[Parallel(n_jobs=-1)]: Using backend LokyBackend with 4 concurrent workers.\n",
      "[Parallel(n_jobs=-1)]: Done  16 out of  16 | elapsed:    2.3s finished\n",
      "\n",
      "[2020-06-26 06:35:32] Features: 4/5 -- score: -248155.3857844337[Parallel(n_jobs=-1)]: Using backend LokyBackend with 4 concurrent workers.\n",
      "[Parallel(n_jobs=-1)]: Done  15 out of  15 | elapsed:    2.5s finished\n",
      "\n",
      "[2020-06-26 06:35:34] Features: 5/5 -- score: -235012.52009423726"
     ]
    },
    {
     "data": {
      "text/plain": [
       "('Item_Visibility',\n",
       " 'Item_MRP',\n",
       " 'Outlet_Establishment_Year',\n",
       " 'Outlet_Type',\n",
       " 'log_Calorie')"
      ]
     },
     "execution_count": 82,
     "metadata": {},
     "output_type": "execute_result"
    }
   ],
   "source": [
    "from mlxtend.feature_selection import SequentialFeatureSelector as SFS\n",
    "from sklearn.ensemble import RandomForestRegressor\n",
    "sfs=SFS( RandomForestRegressor(),\n",
    "        k_features=5,\n",
    "        forward= True,\n",
    "        floating=False,\n",
    "        scoring='neg_mean_squared_error',\n",
    "        n_jobs=-1,\n",
    "        verbose=2,\n",
    "        cv=None\n",
    "       \n",
    "       ).fit(X_train,y_train)\n",
    "sfs.k_feature_names_"
   ]
  },
  {
   "cell_type": "code",
   "execution_count": 83,
   "metadata": {},
   "outputs": [],
   "source": [
    "X_train1=X_train.drop(['Calorie_Count_per_givenwt',\n",
    " 'Outlet_Existence',\n",
    " 'Outlet_Status',\n",
    " 'log_Calorie',\n",
    " 'log_visibility'],axis=1)"
   ]
  },
  {
   "cell_type": "code",
   "execution_count": 84,
   "metadata": {
    "scrolled": true
   },
   "outputs": [
    {
     "name": "stderr",
     "output_type": "stream",
     "text": [
      "C:\\Users\\User-1\\Anaconda3\\lib\\site-packages\\sklearn\\utils\\validation.py:724: DataConversionWarning: A column-vector y was passed when a 1d array was expected. Please change the shape of y to (n_samples, ), for example using ravel().\n",
      "  y = column_or_1d(y, warn=True)\n",
      "C:\\Users\\User-1\\Anaconda3\\lib\\site-packages\\sklearn\\ensemble\\forest.py:245: FutureWarning: The default value of n_estimators will change from 10 in version 0.20 to 100 in 0.22.\n",
      "  \"10 in version 0.20 to 100 in 0.22.\", FutureWarning)\n",
      "C:\\Users\\User-1\\Anaconda3\\lib\\site-packages\\sklearn\\ensemble\\forest.py:245: FutureWarning: The default value of n_estimators will change from 10 in version 0.20 to 100 in 0.22.\n",
      "  \"10 in version 0.20 to 100 in 0.22.\", FutureWarning)\n",
      "C:\\Users\\User-1\\Anaconda3\\lib\\site-packages\\sklearn\\ensemble\\forest.py:245: FutureWarning: The default value of n_estimators will change from 10 in version 0.20 to 100 in 0.22.\n",
      "  \"10 in version 0.20 to 100 in 0.22.\", FutureWarning)\n",
      "C:\\Users\\User-1\\Anaconda3\\lib\\site-packages\\sklearn\\ensemble\\forest.py:245: FutureWarning: The default value of n_estimators will change from 10 in version 0.20 to 100 in 0.22.\n",
      "  \"10 in version 0.20 to 100 in 0.22.\", FutureWarning)\n",
      "C:\\Users\\User-1\\Anaconda3\\lib\\site-packages\\sklearn\\ensemble\\forest.py:245: FutureWarning: The default value of n_estimators will change from 10 in version 0.20 to 100 in 0.22.\n",
      "  \"10 in version 0.20 to 100 in 0.22.\", FutureWarning)\n",
      "C:\\Users\\User-1\\Anaconda3\\lib\\site-packages\\sklearn\\ensemble\\forest.py:245: FutureWarning: The default value of n_estimators will change from 10 in version 0.20 to 100 in 0.22.\n",
      "  \"10 in version 0.20 to 100 in 0.22.\", FutureWarning)\n",
      "C:\\Users\\User-1\\Anaconda3\\lib\\site-packages\\sklearn\\ensemble\\forest.py:245: FutureWarning: The default value of n_estimators will change from 10 in version 0.20 to 100 in 0.22.\n",
      "  \"10 in version 0.20 to 100 in 0.22.\", FutureWarning)\n",
      "C:\\Users\\User-1\\Anaconda3\\lib\\site-packages\\sklearn\\ensemble\\forest.py:245: FutureWarning: The default value of n_estimators will change from 10 in version 0.20 to 100 in 0.22.\n",
      "  \"10 in version 0.20 to 100 in 0.22.\", FutureWarning)\n",
      "C:\\Users\\User-1\\Anaconda3\\lib\\site-packages\\sklearn\\ensemble\\forest.py:245: FutureWarning: The default value of n_estimators will change from 10 in version 0.20 to 100 in 0.22.\n",
      "  \"10 in version 0.20 to 100 in 0.22.\", FutureWarning)\n",
      "C:\\Users\\User-1\\Anaconda3\\lib\\site-packages\\sklearn\\ensemble\\forest.py:245: FutureWarning: The default value of n_estimators will change from 10 in version 0.20 to 100 in 0.22.\n",
      "  \"10 in version 0.20 to 100 in 0.22.\", FutureWarning)\n"
     ]
    },
    {
     "data": {
      "text/plain": [
       "Index(['Item_Weight', 'Item_Visibility', 'Item_MRP',\n",
       "       'Outlet_Establishment_Year', 'Outlet_Type'],\n",
       "      dtype='object')"
      ]
     },
     "execution_count": 84,
     "metadata": {},
     "output_type": "execute_result"
    }
   ],
   "source": [
    "from sklearn.feature_selection import RFE\n",
    "sel=RFE(RandomForestRegressor(random_state=0),n_features_to_select=5)\n",
    "sel.fit(X_train1,y_train)\n",
    "X_train1.columns[sel.get_support()]"
   ]
  },
  {
   "cell_type": "markdown",
   "metadata": {},
   "source": [
    "# Training The Model"
   ]
  },
  {
   "cell_type": "markdown",
   "metadata": {},
   "source": [
    "1 ) 'Item_Weight','Item_Fat_Content','Item_Visibility','Item_Type','Item_MRP','Outlet_Identifier','Outlet_Status','Outlet_Size', 'Outlet_Location_Type','Outlet_Type'\n",
    "\n",
    "2 )  'Item_Weight','Item_Visibility', 'Item_MRP','Outlet_Establishment_Year','Outlet_Type'\n",
    "\n",
    "3 )    'Item_Weight','Item_Visibility', 'Item_MRP','Outlet_Existence','Outlet_Type'\n",
    "\n",
    "4 )  'Item_MRP','Outlet_Size','Outlet_Type','Outlet_Location_Type','Outlet_Status'\n",
    "\n",
    "5 )  'Item_MRP','Outlet_Size','Outlet_Type','Outlet_Location_Type','Outlet_Establishment_Year'\n",
    "\n",
    "6 )   'Item_MRP','Item_Weight','Outlet_Type','log_Calorie','Outlet_Establishment_Year','log_visibility'\n",
    "\n",
    "7 )    'Calorie_Count_per_givenwt','Item_Visibility', 'Item_MRP','Outlet_Existence','Outlet_Type'"
   ]
  },
  {
   "cell_type": "code",
   "execution_count": 86,
   "metadata": {},
   "outputs": [],
   "source": [
    "ya=y_train['Item_Outlet_Sales']\n",
    "yb=y_test['Item_Outlet_Sales']\n",
    "Xa=X_train[['Calorie_Count_per_givenwt','Item_Visibility', 'Item_MRP','Outlet_Existence','Outlet_Type']]\n",
    "Xb=X_test[[ 'Calorie_Count_per_givenwt','Item_Visibility', 'Item_MRP','Outlet_Existence','Outlet_Type']]"
   ]
  },
  {
   "cell_type": "code",
   "execution_count": 87,
   "metadata": {},
   "outputs": [],
   "source": [
    "from sklearn.linear_model import LinearRegression\n",
    "from sklearn import metrics\n",
    "logreg=LinearRegression()\n",
    "from sklearn.linear_model import Ridge\n",
    "r=Ridge()\n",
    "from sklearn.linear_model import Lasso\n",
    "l=Lasso()\n",
    "from sklearn.tree import DecisionTreeRegressor\n",
    "dtc=DecisionTreeRegressor(random_state=0)\n",
    "from sklearn.ensemble import RandomForestRegressor\n",
    "log=RandomForestRegressor(random_state=5)\n",
    "from sklearn.ensemble import GradientBoostingRegressor\n",
    "gbc=GradientBoostingRegressor(random_state=0,learning_rate=0.07,max_leaf_nodes=4)\n",
    "from sklearn.ensemble import BaggingRegressor\n",
    "bc=BaggingRegressor(GradientBoostingRegressor(random_state=0,learning_rate=0.07,max_leaf_nodes=4))"
   ]
  },
  {
   "cell_type": "code",
   "execution_count": 88,
   "metadata": {},
   "outputs": [],
   "source": [
    "li2=['Linear','Ridge','Lasso','DecisionTree','RandomForest','Gradient','Bagging']"
   ]
  },
  {
   "cell_type": "code",
   "execution_count": 89,
   "metadata": {},
   "outputs": [
    {
     "name": "stderr",
     "output_type": "stream",
     "text": [
      "C:\\Users\\User-1\\Anaconda3\\lib\\site-packages\\sklearn\\ensemble\\forest.py:245: FutureWarning: The default value of n_estimators will change from 10 in version 0.20 to 100 in 0.22.\n",
      "  \"10 in version 0.20 to 100 in 0.22.\", FutureWarning)\n"
     ]
    }
   ],
   "source": [
    "row=[]\n",
    "for j in li2:\n",
    "    if j=='Linear':\n",
    "        logreg.fit(Xa,ya)\n",
    "        final=logreg.predict(Xb)\n",
    "        row.append([j,np.sqrt(metrics.mean_squared_error(yb,final))])\n",
    "    elif j=='Ridge':\n",
    "        r.fit(Xa,ya)\n",
    "        final1=r.predict(Xb)\n",
    "        row.append([j,np.sqrt(metrics.mean_squared_error(yb,final1))])\n",
    "    elif j=='Lasso':\n",
    "        l.fit(Xa,ya)\n",
    "        final2=l.predict(Xb)\n",
    "        row.append([j,np.sqrt(metrics.mean_squared_error(yb,final2))])\n",
    "    elif j=='DecisionTree':\n",
    "        dtc.fit(Xa,ya)\n",
    "        final3=dtc.predict(Xb)\n",
    "        row.append([j,np.sqrt(metrics.mean_squared_error(yb,final3))])\n",
    "    elif j=='RandomForest':\n",
    "        log.fit(Xa,ya)\n",
    "        final4=log.predict(Xb)\n",
    "        row.append([j,np.sqrt(metrics.mean_squared_error(yb,final4))])\n",
    "    elif j=='Gradient':\n",
    "        gbc.fit(Xa,ya)\n",
    "        final6=gbc.predict(Xb)\n",
    "        row.append([j,np.sqrt(metrics.mean_squared_error(yb,final6))])\n",
    "    elif j=='Bagging':\n",
    "        bc.fit(Xa,ya)\n",
    "        final5=bc.predict(Xb)\n",
    "        row.append([j,np.sqrt(metrics.mean_squared_error(yb,final5))])"
   ]
  },
  {
   "cell_type": "code",
   "execution_count": 90,
   "metadata": {},
   "outputs": [
    {
     "data": {
      "text/plain": [
       "[['Linear', 1200.587154871186],\n",
       " ['Ridge', 1200.581810483922],\n",
       " ['Lasso', 1200.5398660115502],\n",
       " ['DecisionTree', 1599.8344605442824],\n",
       " ['RandomForest', 1195.5846937294098],\n",
       " ['Gradient', 1066.3598211910946],\n",
       " ['Bagging', 1069.2747813839285]]"
      ]
     },
     "execution_count": 90,
     "metadata": {},
     "output_type": "execute_result"
    }
   ],
   "source": [
    "row"
   ]
  },
  {
   "cell_type": "markdown",
   "metadata": {},
   "source": [
    "### Linear Regression"
   ]
  },
  {
   "cell_type": "code",
   "execution_count": 91,
   "metadata": {},
   "outputs": [
    {
     "name": "stdout",
     "output_type": "stream",
     "text": [
      "1200.587154871186\n"
     ]
    }
   ],
   "source": [
    "logreg=LinearRegression()\n",
    "logreg.fit(Xa,ya)\n",
    "pred=logreg.predict(Xb)\n",
    "print(np.sqrt(metrics.mean_squared_error(yb,pred)))"
   ]
  },
  {
   "cell_type": "code",
   "execution_count": 92,
   "metadata": {},
   "outputs": [
    {
     "data": {
      "text/plain": [
       "-1525287.4185354705"
      ]
     },
     "execution_count": 92,
     "metadata": {},
     "output_type": "execute_result"
    }
   ],
   "source": [
    "from sklearn.model_selection import cross_val_score\n",
    "score=cross_val_score(logreg,Xa,ya,cv=10,scoring='neg_mean_squared_error')\n",
    "score.mean()"
   ]
  },
  {
   "cell_type": "markdown",
   "metadata": {},
   "source": [
    "### Ridge Regression"
   ]
  },
  {
   "cell_type": "code",
   "execution_count": 93,
   "metadata": {},
   "outputs": [
    {
     "name": "stdout",
     "output_type": "stream",
     "text": [
      "1200.581810483922\n"
     ]
    }
   ],
   "source": [
    "r=Ridge()\n",
    "r.fit(Xa,ya)\n",
    "pred0=r.predict(Xb)\n",
    "print(np.sqrt(metrics.mean_squared_error(yb,pred0)))"
   ]
  },
  {
   "cell_type": "markdown",
   "metadata": {},
   "source": [
    "### Lasso Regression"
   ]
  },
  {
   "cell_type": "code",
   "execution_count": 94,
   "metadata": {},
   "outputs": [
    {
     "name": "stdout",
     "output_type": "stream",
     "text": [
      "1200.5398660115502\n"
     ]
    }
   ],
   "source": [
    "l=Lasso()\n",
    "l.fit(Xa,ya)\n",
    "pred1=l.predict(Xb)\n",
    "print(np.sqrt(metrics.mean_squared_error(yb,pred1)))"
   ]
  },
  {
   "cell_type": "markdown",
   "metadata": {},
   "source": [
    "### Decision Tree Regressor"
   ]
  },
  {
   "cell_type": "code",
   "execution_count": 95,
   "metadata": {},
   "outputs": [
    {
     "name": "stdout",
     "output_type": "stream",
     "text": [
      "1599.8344605442824\n"
     ]
    }
   ],
   "source": [
    "dtc.fit(Xa,ya)\n",
    "pred2=dtc.predict(Xb)\n",
    "print(np.sqrt(metrics.mean_squared_error(yb,pred2)))"
   ]
  },
  {
   "cell_type": "code",
   "execution_count": 96,
   "metadata": {},
   "outputs": [
    {
     "data": {
      "text/plain": [
       "-2448067.64578878"
      ]
     },
     "execution_count": 96,
     "metadata": {},
     "output_type": "execute_result"
    }
   ],
   "source": [
    "from sklearn.model_selection import cross_val_score\n",
    "score=cross_val_score(dtc,Xa,ya,cv=10,scoring='neg_mean_squared_error')\n",
    "score.mean()"
   ]
  },
  {
   "cell_type": "markdown",
   "metadata": {},
   "source": [
    "### Random Forest Regressor"
   ]
  },
  {
   "cell_type": "code",
   "execution_count": 101,
   "metadata": {},
   "outputs": [
    {
     "name": "stderr",
     "output_type": "stream",
     "text": [
      "C:\\Users\\User-1\\Anaconda3\\lib\\site-packages\\sklearn\\ensemble\\forest.py:245: FutureWarning: The default value of n_estimators will change from 10 in version 0.20 to 100 in 0.22.\n",
      "  \"10 in version 0.20 to 100 in 0.22.\", FutureWarning)\n"
     ]
    },
    {
     "name": "stdout",
     "output_type": "stream",
     "text": [
      "1185.2900317872932\n"
     ]
    }
   ],
   "source": [
    "from sklearn.ensemble import RandomForestRegressor\n",
    "log=RandomForestRegressor(random_state=0,max_features=4)\n",
    "log.fit(Xa,ya)\n",
    "pred3=log.predict(Xb)\n",
    "print(np.sqrt(metrics.mean_squared_error(yb,pred3)))"
   ]
  },
  {
   "cell_type": "code",
   "execution_count": 102,
   "metadata": {},
   "outputs": [
    {
     "name": "stderr",
     "output_type": "stream",
     "text": [
      "C:\\Users\\User-1\\Anaconda3\\lib\\site-packages\\sklearn\\model_selection\\_split.py:1978: FutureWarning: The default value of cv will change from 3 to 5 in version 0.22. Specify it explicitly to silence this warning.\n",
      "  warnings.warn(CV_WARNING, FutureWarning)\n"
     ]
    },
    {
     "name": "stdout",
     "output_type": "stream",
     "text": [
      "-0.32151184132003163\n",
      "{'criterion': 'mae', 'max_features': 2}\n"
     ]
    }
   ],
   "source": [
    "max_features_range=np.arange(1,4,1)\n",
    "n_estimators_range=np.arange(10,210,10)\n",
    "param_grid = {'criterion':['mse','mae'] ,'max_features':max_features_range}\n",
    "grid=GridSearchCV(log,param_grid,cv=None,scoring='neg_mean_squared_error',n_jobs=-1)\n",
    "grid.fit(Xa,ya)\n",
    "print(grid.best_score_)\n",
    "print(grid.best_params_)"
   ]
  },
  {
   "cell_type": "markdown",
   "metadata": {},
   "source": [
    "### Gradient Boosting Regressor"
   ]
  },
  {
   "cell_type": "markdown",
   "metadata": {},
   "source": [
    "We tried and tested 3 methods :\n",
    "\n",
    "1 ) Testing different hyperparameters( individual ) inside GradientBoostingRegressor\n",
    "\n",
    "2 ) Using GridSearchCv on hyperparameters that influence GradientBoostingRegressor, the most\n",
    "\n",
    "3 ) Bagging with base estimator as GradientBoostingRegressor ,and eventually , trying different bagging hyperparameters on the same\n",
    "\n",
    "Method 1\n",
    "\n",
    "Below are the graphs for 6 different hyperparameters of GradientBoostingRegressor\n",
    "\n",
    "1 ) Learning Rate\n",
    "\n",
    "2 ) N Estimators\n",
    "\n",
    "3 ) Max Depth\n",
    "\n",
    "4 ) Min Samples Leaf\n",
    "\n",
    "5 ) Min Samples Split\n",
    "\n",
    "6 ) Max Feature\n",
    "\n",
    "These graphs will basically help us to look at the training and testing error , at the same time , for each and every hyperparameter\n",
    "\n",
    "Learning Rate : - Training vs Testing Error"
   ]
  },
  {
   "cell_type": "code",
   "execution_count": 102,
   "metadata": {},
   "outputs": [
    {
     "name": "stdout",
     "output_type": "stream",
     "text": [
      "1070.3108641628503\n",
      "1042.9883295965956\n"
     ]
    }
   ],
   "source": [
    "from sklearn.ensemble import GradientBoostingRegressor\n",
    "gbc=GradientBoostingRegressor(max_leaf_nodes=6,min_samples_leaf=5)\n",
    "gbc.fit(Xa,ya)\n",
    "pred4=gbc.predict(Xb)\n",
    "pp=gbc.predict(Xa)\n",
    "print(np.sqrt(metrics.mean_squared_error(yb,pred4)))\n",
    "print(np.sqrt(metrics.mean_squared_error(ya,pp)))"
   ]
  },
  {
   "cell_type": "markdown",
   "metadata": {},
   "source": [
    "##### Hyperparameter tuning by checking training and testing error\n"
   ]
  },
  {
   "cell_type": "code",
   "execution_count": 103,
   "metadata": {},
   "outputs": [
    {
     "data": {
      "image/png": "[encoded data removed]",
      "text/plain": [
       "<Figure size 432x288 with 1 Axes>"
      ]
     },
     "metadata": {
      "needs_background": "light"
     },
     "output_type": "display_data"
    }
   ],
   "source": [
    "min_samples_leaf=[0.1,0.2,0.3,0.4,0.5,1,2,3,4,5]\n",
    "train_result=[]\n",
    "test_result=[]\n",
    "for i in min_samples_leaf:\n",
    "    gbc=GradientBoostingRegressor( random_state=0,min_samples_leaf=i)\n",
    "    gbc.fit(Xa,ya)\n",
    "    pred4=gbc.predict(Xb)\n",
    "    error1=np.sqrt(metrics.mean_squared_error(yb,pred4))\n",
    "    test_result.append(error1)\n",
    "    pre=gbc.predict(Xa)\n",
    "    error2=np.sqrt(metrics.mean_squared_error(ya,pre))\n",
    "    train_result.append(error2)\n",
    "plt.plot(min_samples_leaf,train_result)\n",
    "plt.plot(min_samples_leaf,test_result)\n",
    "plt.show()"
   ]
  },
  {
   "cell_type": "code",
   "execution_count": 104,
   "metadata": {},
   "outputs": [
    {
     "data": {
      "image/png": "[encoded data removed]",
      "text/plain": [
       "<Figure size 432x288 with 1 Axes>"
      ]
     },
     "metadata": {
      "needs_background": "light"
     },
     "output_type": "display_data"
    }
   ],
   "source": [
    "max_features=[1,2,3,4]\n",
    "train_result=[]\n",
    "test_result=[]\n",
    "for i in max_features:\n",
    "    gbc=GradientBoostingRegressor( random_state=0,max_features=i)\n",
    "    gbc.fit(Xa,ya)\n",
    "    pred4=gbc.predict(Xb)\n",
    "    error3=np.sqrt(metrics.mean_squared_error(yb,pred4))\n",
    "    test_result.append(error3)\n",
    "    pre=gbc.predict(Xa)\n",
    "    error4=np.sqrt(metrics.mean_squared_error(ya,pre))\n",
    "    train_result.append(error4)\n",
    "plt.plot(max_features,train_result,label='train')\n",
    "plt.plot(max_features,test_result,label='test')\n",
    "plt.legend(loc='upper left')\n",
    "plt.show()"
   ]
  },
  {
   "cell_type": "code",
   "execution_count": 105,
   "metadata": {},
   "outputs": [
    {
     "data": {
      "image/png": "[encoded data removed]",
      "text/plain": [
       "<Figure size 432x288 with 1 Axes>"
      ]
     },
     "metadata": {
      "needs_background": "light"
     },
     "output_type": "display_data"
    }
   ],
   "source": [
    "min_samples_split=[0.1,0.2,0.3,0.4]\n",
    "train_result=[]\n",
    "test_result=[]\n",
    "for i in min_samples_split:\n",
    "    gbc=GradientBoostingRegressor( random_state=0,min_samples_split=i)\n",
    "    gbc.fit(Xa,ya)\n",
    "    pred4=gbc.predict(Xb)\n",
    "    error3=np.sqrt(metrics.mean_squared_error(yb,pred4))\n",
    "    test_result.append(error3)\n",
    "    pre=gbc.predict(Xa)\n",
    "    error4=np.sqrt(metrics.mean_squared_error(ya,pre))\n",
    "    train_result.append(error4)\n",
    "plt.plot(min_samples_split,train_result,label='train')\n",
    "plt.plot(min_samples_split,test_result,label='test')\n",
    "plt.legend(loc='upper left')\n",
    "plt.show()"
   ]
  },
  {
   "cell_type": "code",
   "execution_count": 106,
   "metadata": {},
   "outputs": [
    {
     "data": {
      "image/png": "[encoded data removed]",
      "text/plain": [
       "<Figure size 432x288 with 1 Axes>"
      ]
     },
     "metadata": {
      "needs_background": "light"
     },
     "output_type": "display_data"
    }
   ],
   "source": [
    "max_depth=[1,2,3,4]\n",
    "train_result=[]\n",
    "test_result=[]\n",
    "for i in max_depth:\n",
    "    gbc=GradientBoostingRegressor( random_state=0,max_depth=i)\n",
    "    gbc.fit(Xa,ya)\n",
    "    pred4=gbc.predict(Xb)\n",
    "    error3=np.sqrt(metrics.mean_squared_error(yb,pred4))\n",
    "    test_result.append(error3)\n",
    "    pre=gbc.predict(Xa)\n",
    "    error4=np.sqrt(metrics.mean_squared_error(ya,pre))\n",
    "    train_result.append(error4)\n",
    "plt.plot(max_depth,train_result,label='train')\n",
    "plt.plot(max_depth,test_result,label='test')\n",
    "plt.legend(loc='upper left')\n",
    "plt.show()"
   ]
  },
  {
   "cell_type": "code",
   "execution_count": 107,
   "metadata": {},
   "outputs": [
    {
     "data": {
      "image/png": "[encoded data removed]",
      "text/plain": [
       "<Figure size 432x288 with 1 Axes>"
      ]
     },
     "metadata": {
      "needs_background": "light"
     },
     "output_type": "display_data"
    }
   ],
   "source": [
    "max_leaf_nodes=[2,3,4,5]\n",
    "train_result=[]\n",
    "test_result=[]\n",
    "for i in max_leaf_nodes:\n",
    "    gbc=GradientBoostingRegressor( random_state=0,max_leaf_nodes=i)\n",
    "    gbc.fit(Xa,ya)\n",
    "    pred4=gbc.predict(Xb)\n",
    "    error3=np.sqrt(metrics.mean_squared_error(yb,pred4))\n",
    "    test_result.append(error3)\n",
    "    pre=gbc.predict(Xa)\n",
    "    error4=np.sqrt(metrics.mean_squared_error(ya,pre))\n",
    "    train_result.append(error4)\n",
    "plt.plot(max_leaf_nodes,train_result,label='train')\n",
    "plt.plot(max_leaf_nodes,test_result,label='test')\n",
    "plt.legend(loc='upper left')\n",
    "plt.show()"
   ]
  },
  {
   "cell_type": "code",
   "execution_count": 108,
   "metadata": {},
   "outputs": [
    {
     "data": {
      "image/png": "[encoded data removed]",
      "text/plain": [
       "<Figure size 432x288 with 1 Axes>"
      ]
     },
     "metadata": {
      "needs_background": "light"
     },
     "output_type": "display_data"
    }
   ],
   "source": [
    "learning_rate=[0.01,0.1,0.2,0.3,0.4]\n",
    "train_result=[]\n",
    "test_result=[]\n",
    "for i in learning_rate:\n",
    "    gbc=GradientBoostingRegressor( random_state=0,learning_rate=i)\n",
    "    gbc.fit(Xa,ya)\n",
    "    pred4=gbc.predict(Xb)\n",
    "    error3=np.sqrt(metrics.mean_squared_error(yb,pred4))\n",
    "    test_result.append(error3)\n",
    "    pre=gbc.predict(Xa)\n",
    "    error4=np.sqrt(metrics.mean_squared_error(ya,pre))\n",
    "    train_result.append(error4)\n",
    "plt.plot(learning_rate,train_result,label='train')\n",
    "plt.plot(learning_rate,test_result,label='test')\n",
    "plt.legend(loc='upper left')\n",
    "plt.show()"
   ]
  },
  {
   "cell_type": "code",
   "execution_count": 109,
   "metadata": {},
   "outputs": [
    {
     "data": {
      "image/png": "[encoded data removed]",
      "text/plain": [
       "<Figure size 432x288 with 1 Axes>"
      ]
     },
     "metadata": {
      "needs_background": "light"
     },
     "output_type": "display_data"
    }
   ],
   "source": [
    "random_state=[1,2,3,4,5,6,7]\n",
    "train_result=[]\n",
    "test_result=[]\n",
    "for i in random_state:\n",
    "    gbc=GradientBoostingRegressor(random_state=i)\n",
    "    gbc.fit(Xa,ya)\n",
    "    pred4=gbc.predict(Xb)\n",
    "    error3=np.sqrt(metrics.mean_squared_error(yb,pred4))\n",
    "    test_result.append(error3)\n",
    "    pre=gbc.predict(Xa)\n",
    "    error4=np.sqrt(metrics.mean_squared_error(ya,pre))\n",
    "    train_result.append(error4)\n",
    "plt.plot(random_state,train_result,label='train')\n",
    "plt.plot(random_state,test_result,label='test')\n",
    "plt.legend(loc='upper left')\n",
    "plt.show()"
   ]
  },
  {
   "cell_type": "markdown",
   "metadata": {},
   "source": [
    "max Depth =3\n",
    "\n",
    "min sample split =0.2\n",
    "\n",
    "Max Features=4\n",
    "\n",
    "Min Sample leaf=0.1\n",
    "\n",
    "Max leaf nodes=4\n",
    "\n",
    "learning rate= 0.07"
   ]
  },
  {
   "cell_type": "markdown",
   "metadata": {},
   "source": [
    "##### Hyperparameter tuning using GridSearchCV"
   ]
  },
  {
   "cell_type": "code",
   "execution_count": 110,
   "metadata": {},
   "outputs": [
    {
     "name": "stderr",
     "output_type": "stream",
     "text": [
      "C:\\Users\\User-1\\Anaconda3\\lib\\site-packages\\sklearn\\model_selection\\_split.py:1978: FutureWarning: The default value of cv will change from 3 to 5 in version 0.22. Specify it explicitly to silence this warning.\n",
      "  warnings.warn(CV_WARNING, FutureWarning)\n"
     ]
    },
    {
     "name": "stdout",
     "output_type": "stream",
     "text": [
      "-1164369.2606655308\n",
      "{'max_features': 4, 'max_leaf_nodes': 6, 'min_samples_leaf': 4, 'min_samples_split': 0.1}\n"
     ]
    }
   ],
   "source": [
    "max_features_range=np.arange(1,6,1)\n",
    "min_sample_range=[0.1,0.2,0.3,1,2,3,4,5]\n",
    "param_grid = {'max_features':max_features_range,'min_samples_leaf':min_sample_range,'max_leaf_nodes':[2,3,4,5,6],'min_samples_split':[0.1,0.2,0.3,0.4]}\n",
    "grid=GridSearchCV(gbc,param_grid,cv=None,scoring='neg_mean_squared_error',n_jobs=-1)\n",
    "grid.fit(Xa,ya)\n",
    "print(grid.best_score_)\n",
    "print(grid.best_params_)"
   ]
  },
  {
   "cell_type": "markdown",
   "metadata": {},
   "source": [
    "### Ada Boost Regressor"
   ]
  },
  {
   "cell_type": "code",
   "execution_count": 111,
   "metadata": {},
   "outputs": [
    {
     "name": "stdout",
     "output_type": "stream",
     "text": [
      "1150.2849445906922\n"
     ]
    }
   ],
   "source": [
    "from sklearn.ensemble import AdaBoostRegressor\n",
    "abc=AdaBoostRegressor(random_state=0,n_estimators=10,learning_rate=0.1)\n",
    "abc.fit(Xa,ya)\n",
    "pred5=abc.predict(Xb)\n",
    "print(np.sqrt(metrics.mean_squared_error(yb,pred5)))"
   ]
  },
  {
   "cell_type": "markdown",
   "metadata": {},
   "source": [
    "### Bagging Regressor"
   ]
  },
  {
   "cell_type": "code",
   "execution_count": 112,
   "metadata": {},
   "outputs": [
    {
     "name": "stdout",
     "output_type": "stream",
     "text": [
      "1069.5597768673874\n",
      "1036.4570073337825\n"
     ]
    }
   ],
   "source": [
    "from sklearn.ensemble import BaggingRegressor\n",
    "bc=BaggingRegressor(GradientBoostingRegressor(random_state=0),random_state=4,n_estimators=5)\n",
    "bc.fit(Xa,ya)\n",
    "pred6=bc.predict(Xb)\n",
    "ppp=bc.predict(Xa)\n",
    "print(np.sqrt(metrics.mean_squared_error(yb,pred6)))\n",
    "print(np.sqrt(metrics.mean_squared_error(ya,ppp)))"
   ]
  },
  {
   "cell_type": "code",
   "execution_count": 113,
   "metadata": {},
   "outputs": [
    {
     "data": {
      "image/png": "[encoded data removed]",
      "text/plain": [
       "<Figure size 432x288 with 1 Axes>"
      ]
     },
     "metadata": {
      "needs_background": "light"
     },
     "output_type": "display_data"
    }
   ],
   "source": [
    "random_state=[1,2,3,4,5,6,7]\n",
    "train_result=[]\n",
    "test_result=[]\n",
    "for i in random_state:\n",
    "    bc=BaggingRegressor(GradientBoostingRegressor(random_state=0),random_state=i)\n",
    "    bc.fit(Xa,ya)\n",
    "    pred4=bc.predict(Xb)\n",
    "    error3=np.sqrt(metrics.mean_squared_error(yb,pred4))\n",
    "    test_result.append(error3)\n",
    "    pre=bc.predict(Xa)\n",
    "    error4=np.sqrt(metrics.mean_squared_error(ya,pre))\n",
    "    train_result.append(error4)\n",
    "plt.plot(random_state,train_result,label='train')\n",
    "plt.plot(random_state,test_result,label='test')\n",
    "plt.legend(loc='upper left')\n",
    "plt.show()"
   ]
  },
  {
   "cell_type": "markdown",
   "metadata": {},
   "source": [
    "### Stacking Regressor"
   ]
  },
  {
   "cell_type": "code",
   "execution_count": 100,
   "metadata": {},
   "outputs": [
    {
     "name": "stdout",
     "output_type": "stream",
     "text": [
      "1093.9470183380326\n"
     ]
    }
   ],
   "source": [
    "from mlxtend.regressor import StackingRegressor\n",
    "scc=StackingRegressor(regressors=[gbc],meta_regressor=bc)\n",
    "scc.fit(Xa,ya)\n",
    "pred7=scc.predict(Xb)\n",
    "print(np.sqrt(metrics.mean_squared_error(yb,pred7)))"
   ]
  },
  {
   "cell_type": "markdown",
   "metadata": {},
   "source": [
    "# Preparing testing dataset for final submission"
   ]
  },
  {
   "cell_type": "markdown",
   "metadata": {},
   "source": [
    "We shall now deal with testing file, in the same manner as we dealt with our training file . Except , for the fact that we wont remove Outliers , from our testing file ; in order to maintain the integrity of the data .\n",
    "\n",
    "You might skip the next few cells , until the title 'Finally!!!'"
   ]
  },
  {
   "cell_type": "markdown",
   "metadata": {},
   "source": [
    "#### Filling the missing value"
   ]
  },
  {
   "cell_type": "code",
   "execution_count": 91,
   "metadata": {},
   "outputs": [],
   "source": [
    "df_test['Item_Fat_Content'].replace('LF','Low Fat',inplace=True)\n",
    "df_test['Item_Fat_Content'].replace('low fat','Low Fat',inplace=True)\n",
    "df_test['Item_Fat_Content'].replace('reg','Regular',inplace=True)"
   ]
  },
  {
   "cell_type": "code",
   "execution_count": 92,
   "metadata": {},
   "outputs": [],
   "source": [
    "df_test['Item_Visibility'].replace(0,np.nan,inplace=True)"
   ]
  },
  {
   "cell_type": "code",
   "execution_count": 93,
   "metadata": {},
   "outputs": [
    {
     "data": {
      "text/plain": [
       "Item_Identifier                 0\n",
       "Item_Weight                   976\n",
       "Item_Fat_Content                0\n",
       "Item_Visibility               353\n",
       "Item_Type                       0\n",
       "Item_MRP                        0\n",
       "Outlet_Identifier               0\n",
       "Outlet_Establishment_Year       0\n",
       "Outlet_Size                  1606\n",
       "Outlet_Location_Type            0\n",
       "Outlet_Type                     0\n",
       "dtype: int64"
      ]
     },
     "execution_count": 93,
     "metadata": {},
     "output_type": "execute_result"
    }
   ],
   "source": [
    "df_test.isnull().sum()"
   ]
  },
  {
   "cell_type": "code",
   "execution_count": 94,
   "metadata": {},
   "outputs": [],
   "source": [
    "df_test['Outlet_Size'].fillna('Small',inplace=True)"
   ]
  },
  {
   "cell_type": "code",
   "execution_count": 95,
   "metadata": {},
   "outputs": [
    {
     "data": {
      "text/plain": [
       "Item_Identifier                0\n",
       "Item_Weight                  976\n",
       "Item_Fat_Content               0\n",
       "Item_Visibility              353\n",
       "Item_Type                      0\n",
       "Item_MRP                       0\n",
       "Outlet_Identifier              0\n",
       "Outlet_Establishment_Year      0\n",
       "Outlet_Size                    0\n",
       "Outlet_Location_Type           0\n",
       "Outlet_Type                    0\n",
       "Outlet_Type1                   0\n",
       "dtype: int64"
      ]
     },
     "execution_count": 95,
     "metadata": {},
     "output_type": "execute_result"
    }
   ],
   "source": [
    "df_test['Outlet_Type1']=df_test['Outlet_Type']\n",
    "dict={'Supermarket Type1':'Supermarket','Supermarket Type2':'Supermarket','Supermarket Type3':'Supermarket','Grocery Store':'Grocery Store'}\n",
    "df_test['Outlet_Type1']=df_test['Outlet_Type1'].map(dict)\n",
    "df_test.isnull().sum()"
   ]
  },
  {
   "cell_type": "code",
   "execution_count": 96,
   "metadata": {},
   "outputs": [
    {
     "data": {
      "text/html": [
       "<div>\n",
       "<style scoped>\n",
       "    .dataframe tbody tr th:only-of-type {\n",
       "        vertical-align: middle;\n",
       "    }\n",
       "\n",
       "    .dataframe tbody tr th {\n",
       "        vertical-align: top;\n",
       "    }\n",
       "\n",
       "    .dataframe thead th {\n",
       "        text-align: right;\n",
       "    }\n",
       "</style>\n",
       "<table border=\"1\" class=\"dataframe\">\n",
       "  <thead>\n",
       "    <tr style=\"text-align: right;\">\n",
       "      <th></th>\n",
       "      <th>Item_Identifier</th>\n",
       "      <th>Item_Weight</th>\n",
       "      <th>Item_Fat_Content</th>\n",
       "      <th>Item_Visibility</th>\n",
       "      <th>Item_Type</th>\n",
       "      <th>Item_MRP</th>\n",
       "      <th>Outlet_Identifier</th>\n",
       "      <th>Outlet_Establishment_Year</th>\n",
       "      <th>Outlet_Size</th>\n",
       "      <th>Outlet_Location_Type</th>\n",
       "      <th>Outlet_Type</th>\n",
       "      <th>Outlet_Type1</th>\n",
       "    </tr>\n",
       "  </thead>\n",
       "  <tbody>\n",
       "    <tr>\n",
       "      <td>827</td>\n",
       "      <td>FDU28</td>\n",
       "      <td>19.2</td>\n",
       "      <td>Regular</td>\n",
       "      <td>NaN</td>\n",
       "      <td>Frozen Foods</td>\n",
       "      <td>189.6214</td>\n",
       "      <td>OUT035</td>\n",
       "      <td>2004</td>\n",
       "      <td>Small</td>\n",
       "      <td>Tier 2</td>\n",
       "      <td>Supermarket Type1</td>\n",
       "      <td>Supermarket</td>\n",
       "    </tr>\n",
       "    <tr>\n",
       "      <td>1461</td>\n",
       "      <td>FDU28</td>\n",
       "      <td>19.2</td>\n",
       "      <td>Regular</td>\n",
       "      <td>0.094064</td>\n",
       "      <td>Frozen Foods</td>\n",
       "      <td>187.0214</td>\n",
       "      <td>OUT049</td>\n",
       "      <td>1999</td>\n",
       "      <td>Medium</td>\n",
       "      <td>Tier 1</td>\n",
       "      <td>Supermarket Type1</td>\n",
       "      <td>Supermarket</td>\n",
       "    </tr>\n",
       "    <tr>\n",
       "      <td>2109</td>\n",
       "      <td>FDU28</td>\n",
       "      <td>19.2</td>\n",
       "      <td>Regular</td>\n",
       "      <td>0.094109</td>\n",
       "      <td>Frozen Foods</td>\n",
       "      <td>188.1214</td>\n",
       "      <td>OUT045</td>\n",
       "      <td>2002</td>\n",
       "      <td>Small</td>\n",
       "      <td>Tier 2</td>\n",
       "      <td>Supermarket Type1</td>\n",
       "      <td>Supermarket</td>\n",
       "    </tr>\n",
       "    <tr>\n",
       "      <td>3205</td>\n",
       "      <td>FDU28</td>\n",
       "      <td>19.2</td>\n",
       "      <td>Regular</td>\n",
       "      <td>0.157200</td>\n",
       "      <td>Frozen Foods</td>\n",
       "      <td>189.3214</td>\n",
       "      <td>OUT010</td>\n",
       "      <td>1998</td>\n",
       "      <td>Small</td>\n",
       "      <td>Tier 3</td>\n",
       "      <td>Grocery Store</td>\n",
       "      <td>Grocery Store</td>\n",
       "    </tr>\n",
       "    <tr>\n",
       "      <td>4771</td>\n",
       "      <td>FDU28</td>\n",
       "      <td>19.2</td>\n",
       "      <td>Regular</td>\n",
       "      <td>0.093840</td>\n",
       "      <td>Frozen Foods</td>\n",
       "      <td>188.0214</td>\n",
       "      <td>OUT013</td>\n",
       "      <td>1987</td>\n",
       "      <td>High</td>\n",
       "      <td>Tier 3</td>\n",
       "      <td>Supermarket Type1</td>\n",
       "      <td>Supermarket</td>\n",
       "    </tr>\n",
       "  </tbody>\n",
       "</table>\n",
       "</div>"
      ],
      "text/plain": [
       "     Item_Identifier  Item_Weight Item_Fat_Content  Item_Visibility  \\\n",
       "827            FDU28         19.2          Regular              NaN   \n",
       "1461           FDU28         19.2          Regular         0.094064   \n",
       "2109           FDU28         19.2          Regular         0.094109   \n",
       "3205           FDU28         19.2          Regular         0.157200   \n",
       "4771           FDU28         19.2          Regular         0.093840   \n",
       "\n",
       "         Item_Type  Item_MRP Outlet_Identifier  Outlet_Establishment_Year  \\\n",
       "827   Frozen Foods  189.6214            OUT035                       2004   \n",
       "1461  Frozen Foods  187.0214            OUT049                       1999   \n",
       "2109  Frozen Foods  188.1214            OUT045                       2002   \n",
       "3205  Frozen Foods  189.3214            OUT010                       1998   \n",
       "4771  Frozen Foods  188.0214            OUT013                       1987   \n",
       "\n",
       "     Outlet_Size Outlet_Location_Type        Outlet_Type   Outlet_Type1  \n",
       "827        Small               Tier 2  Supermarket Type1    Supermarket  \n",
       "1461      Medium               Tier 1  Supermarket Type1    Supermarket  \n",
       "2109       Small               Tier 2  Supermarket Type1    Supermarket  \n",
       "3205       Small               Tier 3      Grocery Store  Grocery Store  \n",
       "4771        High               Tier 3  Supermarket Type1    Supermarket  "
      ]
     },
     "execution_count": 96,
     "metadata": {},
     "output_type": "execute_result"
    }
   ],
   "source": [
    "df0=df_test[df_test['Item_Identifier']=='FDU28']\n",
    "df0"
   ]
  },
  {
   "cell_type": "code",
   "execution_count": 97,
   "metadata": {},
   "outputs": [],
   "source": [
    "df_test['Item_Visibility'].fillna(df_test.groupby(['Item_Identifier','Outlet_Type1'])['Item_Visibility'].transform('mean'),inplace=True)"
   ]
  },
  {
   "cell_type": "code",
   "execution_count": 98,
   "metadata": {},
   "outputs": [],
   "source": [
    "df_test['Item_Visibility']=(df_test.groupby('Item_Identifier')['Item_Visibility'].transform(lambda x:x.fillna(x.mean()+0.1)))"
   ]
  },
  {
   "cell_type": "code",
   "execution_count": 99,
   "metadata": {},
   "outputs": [
    {
     "name": "stdout",
     "output_type": "stream",
     "text": [
      "0.06416203204468011\n",
      "0.11417913043057272\n"
     ]
    }
   ],
   "source": [
    "a=df_test[df_test['Outlet_Type1']=='Supermarket']\n",
    "m=a['Item_Visibility'].mean()\n",
    "print(m)\n",
    "b=df_test[df_test['Outlet_Type1']=='Grocery Store']\n",
    "m1=b['Item_Visibility'].mean()\n",
    "print(m1)"
   ]
  },
  {
   "cell_type": "code",
   "execution_count": 100,
   "metadata": {},
   "outputs": [],
   "source": [
    "dict={'Supermarket':0.06416203204468011,'Grocery Store':0.11417913043057272}\n",
    "df_test['Item_Visibility'].fillna(df_test['Outlet_Type1'].map(dict),inplace=True)"
   ]
  },
  {
   "cell_type": "code",
   "execution_count": 101,
   "metadata": {},
   "outputs": [],
   "source": [
    "df_test['Item_Weight'].fillna(df_test.groupby('Item_Identifier')['Item_Weight'].transform('median'),inplace=True)\n",
    "df_test['Item_Weight'].fillna(df_test.groupby('Item_Type')['Item_Weight'].transform('mean'),inplace=True)"
   ]
  },
  {
   "cell_type": "code",
   "execution_count": 102,
   "metadata": {},
   "outputs": [
    {
     "data": {
      "text/plain": [
       "Item_Identifier              0\n",
       "Item_Weight                  0\n",
       "Item_Fat_Content             0\n",
       "Item_Visibility              0\n",
       "Item_Type                    0\n",
       "Item_MRP                     0\n",
       "Outlet_Identifier            0\n",
       "Outlet_Establishment_Year    0\n",
       "Outlet_Size                  0\n",
       "Outlet_Location_Type         0\n",
       "Outlet_Type                  0\n",
       "Outlet_Type1                 0\n",
       "dtype: int64"
      ]
     },
     "execution_count": 102,
     "metadata": {},
     "output_type": "execute_result"
    }
   ],
   "source": [
    "df_test.isnull().sum()\n"
   ]
  },
  {
   "cell_type": "code",
   "execution_count": 103,
   "metadata": {},
   "outputs": [],
   "source": [
    "df_test['log_visibility']=np.log(df_test['Item_Visibility'])"
   ]
  },
  {
   "cell_type": "markdown",
   "metadata": {},
   "source": [
    "#### Feature Engineering"
   ]
  },
  {
   "cell_type": "code",
   "execution_count": 104,
   "metadata": {},
   "outputs": [],
   "source": [
    "df_test['MRP_bin']=pd.cut(df_test['Item_MRP'],bins=[31,94.413,141.4155,186.0267,267],labels=['cheap','affordable','slightly expensive','expensive'])\n",
    "df_test['Weight_bin']=pd.cut(df_test['Item_Weight'],bins=[4,8.64,12.36,16.71,22],labels=['vlight','light','moderate','heavy'])\n"
   ]
  },
  {
   "cell_type": "code",
   "execution_count": 105,
   "metadata": {},
   "outputs": [
    {
     "data": {
      "text/html": [
       "<div>\n",
       "<style scoped>\n",
       "    .dataframe tbody tr th:only-of-type {\n",
       "        vertical-align: middle;\n",
       "    }\n",
       "\n",
       "    .dataframe tbody tr th {\n",
       "        vertical-align: top;\n",
       "    }\n",
       "\n",
       "    .dataframe thead th {\n",
       "        text-align: right;\n",
       "    }\n",
       "</style>\n",
       "<table border=\"1\" class=\"dataframe\">\n",
       "  <thead>\n",
       "    <tr style=\"text-align: right;\">\n",
       "      <th></th>\n",
       "      <th>Item_Identifier</th>\n",
       "      <th>Item_Weight</th>\n",
       "      <th>Item_Fat_Content</th>\n",
       "      <th>Item_Visibility</th>\n",
       "      <th>Item_Type</th>\n",
       "      <th>Item_MRP</th>\n",
       "      <th>Outlet_Identifier</th>\n",
       "      <th>Outlet_Establishment_Year</th>\n",
       "      <th>Outlet_Size</th>\n",
       "      <th>Outlet_Location_Type</th>\n",
       "      <th>Outlet_Type</th>\n",
       "      <th>Outlet_Type1</th>\n",
       "      <th>log_visibility</th>\n",
       "      <th>MRP_bin</th>\n",
       "      <th>Weight_bin</th>\n",
       "      <th>Item_Identifier_temp</th>\n",
       "    </tr>\n",
       "  </thead>\n",
       "  <tbody>\n",
       "    <tr>\n",
       "      <td>0</td>\n",
       "      <td>FDW58</td>\n",
       "      <td>20.750</td>\n",
       "      <td>Low Fat</td>\n",
       "      <td>0.007565</td>\n",
       "      <td>Snack Foods</td>\n",
       "      <td>107.8622</td>\n",
       "      <td>OUT049</td>\n",
       "      <td>1999</td>\n",
       "      <td>Medium</td>\n",
       "      <td>Tier 1</td>\n",
       "      <td>Supermarket Type1</td>\n",
       "      <td>Supermarket</td>\n",
       "      <td>-4.884245</td>\n",
       "      <td>affordable</td>\n",
       "      <td>heavy</td>\n",
       "      <td>FD</td>\n",
       "    </tr>\n",
       "    <tr>\n",
       "      <td>1</td>\n",
       "      <td>FDW14</td>\n",
       "      <td>8.300</td>\n",
       "      <td>Regular</td>\n",
       "      <td>0.038428</td>\n",
       "      <td>Dairy</td>\n",
       "      <td>87.3198</td>\n",
       "      <td>OUT017</td>\n",
       "      <td>2007</td>\n",
       "      <td>Small</td>\n",
       "      <td>Tier 2</td>\n",
       "      <td>Supermarket Type1</td>\n",
       "      <td>Supermarket</td>\n",
       "      <td>-3.258977</td>\n",
       "      <td>cheap</td>\n",
       "      <td>vlight</td>\n",
       "      <td>FD</td>\n",
       "    </tr>\n",
       "    <tr>\n",
       "      <td>2</td>\n",
       "      <td>NCN55</td>\n",
       "      <td>14.600</td>\n",
       "      <td>Low Fat</td>\n",
       "      <td>0.099575</td>\n",
       "      <td>Others</td>\n",
       "      <td>241.7538</td>\n",
       "      <td>OUT010</td>\n",
       "      <td>1998</td>\n",
       "      <td>Small</td>\n",
       "      <td>Tier 3</td>\n",
       "      <td>Grocery Store</td>\n",
       "      <td>Grocery Store</td>\n",
       "      <td>-2.306845</td>\n",
       "      <td>expensive</td>\n",
       "      <td>moderate</td>\n",
       "      <td>NC</td>\n",
       "    </tr>\n",
       "    <tr>\n",
       "      <td>3</td>\n",
       "      <td>FDQ58</td>\n",
       "      <td>7.315</td>\n",
       "      <td>Low Fat</td>\n",
       "      <td>0.015388</td>\n",
       "      <td>Snack Foods</td>\n",
       "      <td>155.0340</td>\n",
       "      <td>OUT017</td>\n",
       "      <td>2007</td>\n",
       "      <td>Small</td>\n",
       "      <td>Tier 2</td>\n",
       "      <td>Supermarket Type1</td>\n",
       "      <td>Supermarket</td>\n",
       "      <td>-4.174142</td>\n",
       "      <td>slightly expensive</td>\n",
       "      <td>vlight</td>\n",
       "      <td>FD</td>\n",
       "    </tr>\n",
       "    <tr>\n",
       "      <td>4</td>\n",
       "      <td>FDY38</td>\n",
       "      <td>13.600</td>\n",
       "      <td>Regular</td>\n",
       "      <td>0.118599</td>\n",
       "      <td>Dairy</td>\n",
       "      <td>234.2300</td>\n",
       "      <td>OUT027</td>\n",
       "      <td>1985</td>\n",
       "      <td>Medium</td>\n",
       "      <td>Tier 3</td>\n",
       "      <td>Supermarket Type2</td>\n",
       "      <td>Supermarket</td>\n",
       "      <td>-2.132005</td>\n",
       "      <td>expensive</td>\n",
       "      <td>moderate</td>\n",
       "      <td>FD</td>\n",
       "    </tr>\n",
       "  </tbody>\n",
       "</table>\n",
       "</div>"
      ],
      "text/plain": [
       "  Item_Identifier  Item_Weight Item_Fat_Content  Item_Visibility    Item_Type  \\\n",
       "0           FDW58       20.750          Low Fat         0.007565  Snack Foods   \n",
       "1           FDW14        8.300          Regular         0.038428        Dairy   \n",
       "2           NCN55       14.600          Low Fat         0.099575       Others   \n",
       "3           FDQ58        7.315          Low Fat         0.015388  Snack Foods   \n",
       "4           FDY38       13.600          Regular         0.118599        Dairy   \n",
       "\n",
       "   Item_MRP Outlet_Identifier  Outlet_Establishment_Year Outlet_Size  \\\n",
       "0  107.8622            OUT049                       1999      Medium   \n",
       "1   87.3198            OUT017                       2007       Small   \n",
       "2  241.7538            OUT010                       1998       Small   \n",
       "3  155.0340            OUT017                       2007       Small   \n",
       "4  234.2300            OUT027                       1985      Medium   \n",
       "\n",
       "  Outlet_Location_Type        Outlet_Type   Outlet_Type1  log_visibility  \\\n",
       "0               Tier 1  Supermarket Type1    Supermarket       -4.884245   \n",
       "1               Tier 2  Supermarket Type1    Supermarket       -3.258977   \n",
       "2               Tier 3      Grocery Store  Grocery Store       -2.306845   \n",
       "3               Tier 2  Supermarket Type1    Supermarket       -4.174142   \n",
       "4               Tier 3  Supermarket Type2    Supermarket       -2.132005   \n",
       "\n",
       "              MRP_bin Weight_bin Item_Identifier_temp  \n",
       "0          affordable      heavy                   FD  \n",
       "1               cheap     vlight                   FD  \n",
       "2           expensive   moderate                   NC  \n",
       "3  slightly expensive     vlight                   FD  \n",
       "4           expensive   moderate                   FD  "
      ]
     },
     "execution_count": 105,
     "metadata": {},
     "output_type": "execute_result"
    }
   ],
   "source": [
    "df_test['Item_Identifier_temp']=df_test['Item_Identifier'].str[:2]\n",
    "dict={'Supermarket Type1':'Supermarket Type1','Supermarket Type2':'Supermarket Type2','Supermarket Type3':'Supermarket Type2','Grocery Store':'Grocery Store'}\n",
    "df_test['Outlet_Type']=df_test['Outlet_Type'].map(dict)\n",
    "df_test.head()"
   ]
  },
  {
   "cell_type": "code",
   "execution_count": 106,
   "metadata": {},
   "outputs": [],
   "source": [
    "df_test['Outlet_Existence']=[2020-i for i in df_test['Outlet_Establishment_Year']]\n",
    "df_test['Outlet_Status']=[0 if i<=2000 else 1 for i in df_test['Outlet_Establishment_Year']]\n",
    "df_test.loc[df_test['Item_Identifier_temp']=='NC','Item_Fat_Content']='No Fat'"
   ]
  },
  {
   "cell_type": "code",
   "execution_count": 107,
   "metadata": {},
   "outputs": [],
   "source": [
    "# Craeted a new column named calorie count which will show the calorie of corresponding item type\n",
    "def set_cal(df_test):\n",
    "    if df_test['Item_Type']=='Dairy':\n",
    "        return 46\n",
    "    elif df_test['Item_Type']=='Soft Drinks':\n",
    "        return 51\n",
    "    elif df_test['Item_Type']=='Meat':\n",
    "        return 143\n",
    "    elif df_test['Item_Type']=='Fruits and Vegetables':\n",
    "        return 65\n",
    "    elif df_test['Item_Type']=='Baking Goods':\n",
    "        return 140\n",
    "    elif df_test['Item_Type']=='Snack Foods':\n",
    "        return 475\n",
    "    elif df_test['Item_Type']=='Frozen Foods':\n",
    "        return 50\n",
    "    elif df_test['Item_Type']=='Breakfast':\n",
    "        return 350\n",
    "    elif df_test['Item_Type']=='Hard Drinks':\n",
    "        return 250\n",
    "    elif df_test['Item_Type']=='Canned':\n",
    "        return 80\n",
    "    elif df_test['Item_Type']=='Starchy Foods':\n",
    "        return 90\n",
    "    elif df_test['Item_Type']=='Seafood':\n",
    "        return 204\n",
    "    elif df_test['Item_Type']=='Breads':\n",
    "        return 250\n",
    "    else:\n",
    "        return 0\n",
    "df_test['Calorie_Count_per_100g']=df_test.apply(set_cal,axis=1)\n",
    "df_test['Calorie_Count_per_givenwt']=df_test['Calorie_Count_per_100g']/100\n",
    "df_test['Calorie_Count_per_givenwt']=df_test['Calorie_Count_per_givenwt']*df_test['Item_Weight']\n",
    "df_test['log_Calorie']=np.sqrt(df_test['Calorie_Count_per_givenwt'])"
   ]
  },
  {
   "cell_type": "code",
   "execution_count": 108,
   "metadata": {},
   "outputs": [],
   "source": [
    "dict={'Dairy':'D','Meat':'S','Fruits and Vegetables':'D','Breakfast':'S','Breads':'S','Starchy Foods':'S','Seafood':'S','Soft Drinks':'S','Household':'D','Baking Goods':'S','Snack Foods':'D','Frozen Foods':'D','Hard Drinks':'S','Canned':'D','Health and Hygiene':'S','Others':'S'}\n",
    "df_test['Item_Frequency']=df_test['Item_Type'].map(dict)"
   ]
  },
  {
   "cell_type": "markdown",
   "metadata": {},
   "source": [
    "#### Label Encoding"
   ]
  },
  {
   "cell_type": "code",
   "execution_count": 109,
   "metadata": {},
   "outputs": [],
   "source": [
    "from sklearn.preprocessing import LabelEncoder\n",
    "le=LabelEncoder()\n",
    "df_test['Item_Identifier_temp']=le.fit_transform(df_test['Item_Identifier_temp'])\n",
    "df_test['Item_Type']=le.fit_transform(df_test['Item_Type'])\n",
    "df_test['Outlet_Type']=le.fit_transform(df_test['Outlet_Type'])\n",
    "df_test['Outlet_Identifier']=le.fit_transform(df_test['Outlet_Identifier'])\n",
    "df_test['Outlet_Type1']=le.fit_transform(df_test['Outlet_Type1'])\n",
    "dict={'Small':0,'Medium':1,'High':2}\n",
    "df_test['Outlet_Size']=df_test['Outlet_Size'].map(dict)\n",
    "dict1={'cheap':0,'affordable':1,'slightly expensive':2,'expensive':3}\n",
    "df_test['MRP_bin']=df_test['MRP_bin'].map(dict1)\n",
    "dict2={'vlight':0,'light':1,'moderate':2,'heavy':3}\n",
    "df_test['Weight_bin']=df_test['Weight_bin'].map(dict2)\n",
    "dict3={'Tier 3':0,'Tier 2':1,'Tier 1':2}\n",
    "df_test['Outlet_Location_Type']=df_test['Outlet_Location_Type'].map(dict3)\n",
    "dict4={'No Fat':0,'Low Fat':1,'Regular':2}\n",
    "df_test['Item_Fat_Content']=df_test['Item_Fat_Content'].map(dict4)\n",
    "dict5={35:0,33:1,23:2,22:3,21:4,18:5,16:6,13:7,11:8}\n",
    "df_test['Outlet_Existence']=df_test['Outlet_Existence'].map(dict5)\n",
    "dict6={'D':1,'S':0}\n",
    "df_test['Item_Frequency']=df_test['Item_Frequency'].map(dict6)\n",
    "dict7={1985:0,1987:1,1997:2,1998:3,1999:4,2002:5,2004:6,2007:7,2009:8}\n",
    "df_test['Outlet_Establishment_Year']=df_test['Outlet_Establishment_Year'].map(dict7)"
   ]
  },
  {
   "cell_type": "code",
   "execution_count": 110,
   "metadata": {},
   "outputs": [
    {
     "data": {
      "text/html": [
       "<div>\n",
       "<style scoped>\n",
       "    .dataframe tbody tr th:only-of-type {\n",
       "        vertical-align: middle;\n",
       "    }\n",
       "\n",
       "    .dataframe tbody tr th {\n",
       "        vertical-align: top;\n",
       "    }\n",
       "\n",
       "    .dataframe thead th {\n",
       "        text-align: right;\n",
       "    }\n",
       "</style>\n",
       "<table border=\"1\" class=\"dataframe\">\n",
       "  <thead>\n",
       "    <tr style=\"text-align: right;\">\n",
       "      <th></th>\n",
       "      <th>Item_Identifier</th>\n",
       "      <th>Item_Weight</th>\n",
       "      <th>Item_Fat_Content</th>\n",
       "      <th>Item_Visibility</th>\n",
       "      <th>Item_Type</th>\n",
       "      <th>Item_MRP</th>\n",
       "      <th>Outlet_Identifier</th>\n",
       "      <th>Outlet_Establishment_Year</th>\n",
       "      <th>Outlet_Size</th>\n",
       "      <th>Outlet_Location_Type</th>\n",
       "      <th>Outlet_Type</th>\n",
       "      <th>Outlet_Type1</th>\n",
       "      <th>log_visibility</th>\n",
       "      <th>MRP_bin</th>\n",
       "      <th>Weight_bin</th>\n",
       "      <th>Item_Identifier_temp</th>\n",
       "      <th>Outlet_Existence</th>\n",
       "      <th>Outlet_Status</th>\n",
       "      <th>Calorie_Count_per_100g</th>\n",
       "      <th>Calorie_Count_per_givenwt</th>\n",
       "      <th>log_Calorie</th>\n",
       "      <th>Item_Frequency</th>\n",
       "    </tr>\n",
       "  </thead>\n",
       "  <tbody>\n",
       "    <tr>\n",
       "      <td>0</td>\n",
       "      <td>FDW58</td>\n",
       "      <td>20.750</td>\n",
       "      <td>1</td>\n",
       "      <td>0.007565</td>\n",
       "      <td>13</td>\n",
       "      <td>107.8622</td>\n",
       "      <td>9</td>\n",
       "      <td>4</td>\n",
       "      <td>1</td>\n",
       "      <td>2</td>\n",
       "      <td>1</td>\n",
       "      <td>1</td>\n",
       "      <td>-4.884245</td>\n",
       "      <td>1</td>\n",
       "      <td>3</td>\n",
       "      <td>1</td>\n",
       "      <td>4</td>\n",
       "      <td>0</td>\n",
       "      <td>475</td>\n",
       "      <td>98.56250</td>\n",
       "      <td>9.927865</td>\n",
       "      <td>1</td>\n",
       "    </tr>\n",
       "    <tr>\n",
       "      <td>1</td>\n",
       "      <td>FDW14</td>\n",
       "      <td>8.300</td>\n",
       "      <td>2</td>\n",
       "      <td>0.038428</td>\n",
       "      <td>4</td>\n",
       "      <td>87.3198</td>\n",
       "      <td>2</td>\n",
       "      <td>7</td>\n",
       "      <td>0</td>\n",
       "      <td>1</td>\n",
       "      <td>1</td>\n",
       "      <td>1</td>\n",
       "      <td>-3.258977</td>\n",
       "      <td>0</td>\n",
       "      <td>0</td>\n",
       "      <td>1</td>\n",
       "      <td>7</td>\n",
       "      <td>1</td>\n",
       "      <td>46</td>\n",
       "      <td>3.81800</td>\n",
       "      <td>1.953970</td>\n",
       "      <td>1</td>\n",
       "    </tr>\n",
       "    <tr>\n",
       "      <td>2</td>\n",
       "      <td>NCN55</td>\n",
       "      <td>14.600</td>\n",
       "      <td>0</td>\n",
       "      <td>0.099575</td>\n",
       "      <td>11</td>\n",
       "      <td>241.7538</td>\n",
       "      <td>0</td>\n",
       "      <td>3</td>\n",
       "      <td>0</td>\n",
       "      <td>0</td>\n",
       "      <td>0</td>\n",
       "      <td>0</td>\n",
       "      <td>-2.306845</td>\n",
       "      <td>3</td>\n",
       "      <td>2</td>\n",
       "      <td>2</td>\n",
       "      <td>3</td>\n",
       "      <td>0</td>\n",
       "      <td>0</td>\n",
       "      <td>0.00000</td>\n",
       "      <td>0.000000</td>\n",
       "      <td>0</td>\n",
       "    </tr>\n",
       "    <tr>\n",
       "      <td>3</td>\n",
       "      <td>FDQ58</td>\n",
       "      <td>7.315</td>\n",
       "      <td>1</td>\n",
       "      <td>0.015388</td>\n",
       "      <td>13</td>\n",
       "      <td>155.0340</td>\n",
       "      <td>2</td>\n",
       "      <td>7</td>\n",
       "      <td>0</td>\n",
       "      <td>1</td>\n",
       "      <td>1</td>\n",
       "      <td>1</td>\n",
       "      <td>-4.174142</td>\n",
       "      <td>2</td>\n",
       "      <td>0</td>\n",
       "      <td>1</td>\n",
       "      <td>7</td>\n",
       "      <td>1</td>\n",
       "      <td>475</td>\n",
       "      <td>34.74625</td>\n",
       "      <td>5.894595</td>\n",
       "      <td>1</td>\n",
       "    </tr>\n",
       "    <tr>\n",
       "      <td>4</td>\n",
       "      <td>FDY38</td>\n",
       "      <td>13.600</td>\n",
       "      <td>2</td>\n",
       "      <td>0.118599</td>\n",
       "      <td>4</td>\n",
       "      <td>234.2300</td>\n",
       "      <td>5</td>\n",
       "      <td>0</td>\n",
       "      <td>1</td>\n",
       "      <td>0</td>\n",
       "      <td>2</td>\n",
       "      <td>1</td>\n",
       "      <td>-2.132005</td>\n",
       "      <td>3</td>\n",
       "      <td>2</td>\n",
       "      <td>1</td>\n",
       "      <td>0</td>\n",
       "      <td>0</td>\n",
       "      <td>46</td>\n",
       "      <td>6.25600</td>\n",
       "      <td>2.501200</td>\n",
       "      <td>1</td>\n",
       "    </tr>\n",
       "  </tbody>\n",
       "</table>\n",
       "</div>"
      ],
      "text/plain": [
       "  Item_Identifier  Item_Weight  Item_Fat_Content  Item_Visibility  Item_Type  \\\n",
       "0           FDW58       20.750                 1         0.007565         13   \n",
       "1           FDW14        8.300                 2         0.038428          4   \n",
       "2           NCN55       14.600                 0         0.099575         11   \n",
       "3           FDQ58        7.315                 1         0.015388         13   \n",
       "4           FDY38       13.600                 2         0.118599          4   \n",
       "\n",
       "   Item_MRP  Outlet_Identifier  Outlet_Establishment_Year  Outlet_Size  \\\n",
       "0  107.8622                  9                          4            1   \n",
       "1   87.3198                  2                          7            0   \n",
       "2  241.7538                  0                          3            0   \n",
       "3  155.0340                  2                          7            0   \n",
       "4  234.2300                  5                          0            1   \n",
       "\n",
       "   Outlet_Location_Type  Outlet_Type  Outlet_Type1  log_visibility MRP_bin  \\\n",
       "0                     2            1             1       -4.884245       1   \n",
       "1                     1            1             1       -3.258977       0   \n",
       "2                     0            0             0       -2.306845       3   \n",
       "3                     1            1             1       -4.174142       2   \n",
       "4                     0            2             1       -2.132005       3   \n",
       "\n",
       "  Weight_bin  Item_Identifier_temp  Outlet_Existence  Outlet_Status  \\\n",
       "0          3                     1                 4              0   \n",
       "1          0                     1                 7              1   \n",
       "2          2                     2                 3              0   \n",
       "3          0                     1                 7              1   \n",
       "4          2                     1                 0              0   \n",
       "\n",
       "   Calorie_Count_per_100g  Calorie_Count_per_givenwt  log_Calorie  \\\n",
       "0                     475                   98.56250     9.927865   \n",
       "1                      46                    3.81800     1.953970   \n",
       "2                       0                    0.00000     0.000000   \n",
       "3                     475                   34.74625     5.894595   \n",
       "4                      46                    6.25600     2.501200   \n",
       "\n",
       "   Item_Frequency  \n",
       "0               1  \n",
       "1               1  \n",
       "2               0  \n",
       "3               1  \n",
       "4               1  "
      ]
     },
     "execution_count": 110,
     "metadata": {},
     "output_type": "execute_result"
    }
   ],
   "source": [
    "df_test.head()"
   ]
  },
  {
   "cell_type": "code",
   "execution_count": 111,
   "metadata": {},
   "outputs": [
    {
     "data": {
      "text/html": [
       "<div>\n",
       "<style scoped>\n",
       "    .dataframe tbody tr th:only-of-type {\n",
       "        vertical-align: middle;\n",
       "    }\n",
       "\n",
       "    .dataframe tbody tr th {\n",
       "        vertical-align: top;\n",
       "    }\n",
       "\n",
       "    .dataframe thead th {\n",
       "        text-align: right;\n",
       "    }\n",
       "</style>\n",
       "<table border=\"1\" class=\"dataframe\">\n",
       "  <thead>\n",
       "    <tr style=\"text-align: right;\">\n",
       "      <th></th>\n",
       "      <th>Item_Weight</th>\n",
       "      <th>Item_Fat_Content</th>\n",
       "      <th>Item_Visibility</th>\n",
       "      <th>Item_Type</th>\n",
       "      <th>Item_MRP</th>\n",
       "      <th>Outlet_Identifier</th>\n",
       "      <th>Outlet_Establishment_Year</th>\n",
       "      <th>Outlet_Size</th>\n",
       "      <th>Outlet_Location_Type</th>\n",
       "      <th>Outlet_Type</th>\n",
       "      <th>Outlet_Type1</th>\n",
       "      <th>log_visibility</th>\n",
       "      <th>Item_Identifier_temp</th>\n",
       "      <th>Outlet_Existence</th>\n",
       "      <th>Outlet_Status</th>\n",
       "      <th>Calorie_Count_per_100g</th>\n",
       "      <th>Calorie_Count_per_givenwt</th>\n",
       "      <th>log_Calorie</th>\n",
       "      <th>Item_Frequency</th>\n",
       "    </tr>\n",
       "  </thead>\n",
       "  <tbody>\n",
       "    <tr>\n",
       "      <td>count</td>\n",
       "      <td>5681.000000</td>\n",
       "      <td>5681.000000</td>\n",
       "      <td>5681.000000</td>\n",
       "      <td>5681.000000</td>\n",
       "      <td>5681.000000</td>\n",
       "      <td>5681.000000</td>\n",
       "      <td>5681.00000</td>\n",
       "      <td>5681.000000</td>\n",
       "      <td>5681.000000</td>\n",
       "      <td>5681.000000</td>\n",
       "      <td>5681.000000</td>\n",
       "      <td>5681.000000</td>\n",
       "      <td>5681.000000</td>\n",
       "      <td>5681.00000</td>\n",
       "      <td>5681.000000</td>\n",
       "      <td>5681.000000</td>\n",
       "      <td>5681.000000</td>\n",
       "      <td>5681.000000</td>\n",
       "      <td>5681.000000</td>\n",
       "    </tr>\n",
       "    <tr>\n",
       "      <td>mean</td>\n",
       "      <td>12.675875</td>\n",
       "      <td>1.162999</td>\n",
       "      <td>0.070519</td>\n",
       "      <td>7.233410</td>\n",
       "      <td>141.023273</td>\n",
       "      <td>4.722760</td>\n",
       "      <td>3.78965</td>\n",
       "      <td>0.546383</td>\n",
       "      <td>0.887168</td>\n",
       "      <td>1.091533</td>\n",
       "      <td>0.872910</td>\n",
       "      <td>-2.924142</td>\n",
       "      <td>1.100158</td>\n",
       "      <td>3.78965</td>\n",
       "      <td>0.435487</td>\n",
       "      <td>132.140116</td>\n",
       "      <td>16.585658</td>\n",
       "      <td>3.261425</td>\n",
       "      <td>0.645485</td>\n",
       "    </tr>\n",
       "    <tr>\n",
       "      <td>std</td>\n",
       "      <td>4.649403</td>\n",
       "      <td>0.720556</td>\n",
       "      <td>0.050641</td>\n",
       "      <td>4.219057</td>\n",
       "      <td>61.809091</td>\n",
       "      <td>2.837201</td>\n",
       "      <td>2.73036</td>\n",
       "      <td>0.683048</td>\n",
       "      <td>0.812824</td>\n",
       "      <td>0.580857</td>\n",
       "      <td>0.333103</td>\n",
       "      <td>0.784898</td>\n",
       "      <td>0.522051</td>\n",
       "      <td>2.73036</td>\n",
       "      <td>0.495864</td>\n",
       "      <td>153.515056</td>\n",
       "      <td>21.564775</td>\n",
       "      <td>2.439224</td>\n",
       "      <td>0.478408</td>\n",
       "    </tr>\n",
       "    <tr>\n",
       "      <td>min</td>\n",
       "      <td>4.555000</td>\n",
       "      <td>0.000000</td>\n",
       "      <td>0.003591</td>\n",
       "      <td>0.000000</td>\n",
       "      <td>31.990000</td>\n",
       "      <td>0.000000</td>\n",
       "      <td>0.00000</td>\n",
       "      <td>0.000000</td>\n",
       "      <td>0.000000</td>\n",
       "      <td>0.000000</td>\n",
       "      <td>0.000000</td>\n",
       "      <td>-5.629209</td>\n",
       "      <td>0.000000</td>\n",
       "      <td>0.00000</td>\n",
       "      <td>0.000000</td>\n",
       "      <td>0.000000</td>\n",
       "      <td>0.000000</td>\n",
       "      <td>0.000000</td>\n",
       "      <td>0.000000</td>\n",
       "    </tr>\n",
       "    <tr>\n",
       "      <td>25%</td>\n",
       "      <td>8.630000</td>\n",
       "      <td>1.000000</td>\n",
       "      <td>0.031333</td>\n",
       "      <td>4.000000</td>\n",
       "      <td>94.412000</td>\n",
       "      <td>2.000000</td>\n",
       "      <td>1.00000</td>\n",
       "      <td>0.000000</td>\n",
       "      <td>0.000000</td>\n",
       "      <td>1.000000</td>\n",
       "      <td>1.000000</td>\n",
       "      <td>-3.463095</td>\n",
       "      <td>1.000000</td>\n",
       "      <td>1.00000</td>\n",
       "      <td>0.000000</td>\n",
       "      <td>46.000000</td>\n",
       "      <td>3.983100</td>\n",
       "      <td>1.995771</td>\n",
       "      <td>0.000000</td>\n",
       "    </tr>\n",
       "    <tr>\n",
       "      <td>50%</td>\n",
       "      <td>12.350000</td>\n",
       "      <td>1.000000</td>\n",
       "      <td>0.058132</td>\n",
       "      <td>6.000000</td>\n",
       "      <td>141.415400</td>\n",
       "      <td>5.000000</td>\n",
       "      <td>4.00000</td>\n",
       "      <td>0.000000</td>\n",
       "      <td>1.000000</td>\n",
       "      <td>1.000000</td>\n",
       "      <td>1.000000</td>\n",
       "      <td>-2.845035</td>\n",
       "      <td>1.000000</td>\n",
       "      <td>4.00000</td>\n",
       "      <td>0.000000</td>\n",
       "      <td>65.000000</td>\n",
       "      <td>8.441000</td>\n",
       "      <td>2.905340</td>\n",
       "      <td>1.000000</td>\n",
       "    </tr>\n",
       "    <tr>\n",
       "      <td>75%</td>\n",
       "      <td>16.700000</td>\n",
       "      <td>2.000000</td>\n",
       "      <td>0.097464</td>\n",
       "      <td>10.000000</td>\n",
       "      <td>186.026600</td>\n",
       "      <td>7.000000</td>\n",
       "      <td>6.00000</td>\n",
       "      <td>1.000000</td>\n",
       "      <td>2.000000</td>\n",
       "      <td>1.000000</td>\n",
       "      <td>1.000000</td>\n",
       "      <td>-2.328268</td>\n",
       "      <td>1.000000</td>\n",
       "      <td>6.00000</td>\n",
       "      <td>1.000000</td>\n",
       "      <td>143.000000</td>\n",
       "      <td>19.090500</td>\n",
       "      <td>4.369268</td>\n",
       "      <td>1.000000</td>\n",
       "    </tr>\n",
       "    <tr>\n",
       "      <td>max</td>\n",
       "      <td>21.350000</td>\n",
       "      <td>2.000000</td>\n",
       "      <td>0.410377</td>\n",
       "      <td>15.000000</td>\n",
       "      <td>266.588400</td>\n",
       "      <td>9.000000</td>\n",
       "      <td>8.00000</td>\n",
       "      <td>2.000000</td>\n",
       "      <td>2.000000</td>\n",
       "      <td>2.000000</td>\n",
       "      <td>1.000000</td>\n",
       "      <td>-0.890679</td>\n",
       "      <td>2.000000</td>\n",
       "      <td>8.00000</td>\n",
       "      <td>1.000000</td>\n",
       "      <td>475.000000</td>\n",
       "      <td>100.937500</td>\n",
       "      <td>10.046766</td>\n",
       "      <td>1.000000</td>\n",
       "    </tr>\n",
       "  </tbody>\n",
       "</table>\n",
       "</div>"
      ],
      "text/plain": [
       "       Item_Weight  Item_Fat_Content  Item_Visibility    Item_Type  \\\n",
       "count  5681.000000       5681.000000      5681.000000  5681.000000   \n",
       "mean     12.675875          1.162999         0.070519     7.233410   \n",
       "std       4.649403          0.720556         0.050641     4.219057   \n",
       "min       4.555000          0.000000         0.003591     0.000000   \n",
       "25%       8.630000          1.000000         0.031333     4.000000   \n",
       "50%      12.350000          1.000000         0.058132     6.000000   \n",
       "75%      16.700000          2.000000         0.097464    10.000000   \n",
       "max      21.350000          2.000000         0.410377    15.000000   \n",
       "\n",
       "          Item_MRP  Outlet_Identifier  Outlet_Establishment_Year  Outlet_Size  \\\n",
       "count  5681.000000        5681.000000                 5681.00000  5681.000000   \n",
       "mean    141.023273           4.722760                    3.78965     0.546383   \n",
       "std      61.809091           2.837201                    2.73036     0.683048   \n",
       "min      31.990000           0.000000                    0.00000     0.000000   \n",
       "25%      94.412000           2.000000                    1.00000     0.000000   \n",
       "50%     141.415400           5.000000                    4.00000     0.000000   \n",
       "75%     186.026600           7.000000                    6.00000     1.000000   \n",
       "max     266.588400           9.000000                    8.00000     2.000000   \n",
       "\n",
       "       Outlet_Location_Type  Outlet_Type  Outlet_Type1  log_visibility  \\\n",
       "count           5681.000000  5681.000000   5681.000000     5681.000000   \n",
       "mean               0.887168     1.091533      0.872910       -2.924142   \n",
       "std                0.812824     0.580857      0.333103        0.784898   \n",
       "min                0.000000     0.000000      0.000000       -5.629209   \n",
       "25%                0.000000     1.000000      1.000000       -3.463095   \n",
       "50%                1.000000     1.000000      1.000000       -2.845035   \n",
       "75%                2.000000     1.000000      1.000000       -2.328268   \n",
       "max                2.000000     2.000000      1.000000       -0.890679   \n",
       "\n",
       "       Item_Identifier_temp  Outlet_Existence  Outlet_Status  \\\n",
       "count           5681.000000        5681.00000    5681.000000   \n",
       "mean               1.100158           3.78965       0.435487   \n",
       "std                0.522051           2.73036       0.495864   \n",
       "min                0.000000           0.00000       0.000000   \n",
       "25%                1.000000           1.00000       0.000000   \n",
       "50%                1.000000           4.00000       0.000000   \n",
       "75%                1.000000           6.00000       1.000000   \n",
       "max                2.000000           8.00000       1.000000   \n",
       "\n",
       "       Calorie_Count_per_100g  Calorie_Count_per_givenwt  log_Calorie  \\\n",
       "count             5681.000000                5681.000000  5681.000000   \n",
       "mean               132.140116                  16.585658     3.261425   \n",
       "std                153.515056                  21.564775     2.439224   \n",
       "min                  0.000000                   0.000000     0.000000   \n",
       "25%                 46.000000                   3.983100     1.995771   \n",
       "50%                 65.000000                   8.441000     2.905340   \n",
       "75%                143.000000                  19.090500     4.369268   \n",
       "max                475.000000                 100.937500    10.046766   \n",
       "\n",
       "       Item_Frequency  \n",
       "count     5681.000000  \n",
       "mean         0.645485  \n",
       "std          0.478408  \n",
       "min          0.000000  \n",
       "25%          0.000000  \n",
       "50%          1.000000  \n",
       "75%          1.000000  \n",
       "max          1.000000  "
      ]
     },
     "execution_count": 111,
     "metadata": {},
     "output_type": "execute_result"
    }
   ],
   "source": [
    "df_test.describe()"
   ]
  },
  {
   "cell_type": "markdown",
   "metadata": {},
   "source": [
    "#### Making the final prediction"
   ]
  },
  {
   "cell_type": "code",
   "execution_count": 112,
   "metadata": {},
   "outputs": [
    {
     "data": {
      "text/html": [
       "<div>\n",
       "<style scoped>\n",
       "    .dataframe tbody tr th:only-of-type {\n",
       "        vertical-align: middle;\n",
       "    }\n",
       "\n",
       "    .dataframe tbody tr th {\n",
       "        vertical-align: top;\n",
       "    }\n",
       "\n",
       "    .dataframe thead th {\n",
       "        text-align: right;\n",
       "    }\n",
       "</style>\n",
       "<table border=\"1\" class=\"dataframe\">\n",
       "  <thead>\n",
       "    <tr style=\"text-align: right;\">\n",
       "      <th></th>\n",
       "      <th>Item_Identifier</th>\n",
       "      <th>Item_Weight</th>\n",
       "      <th>Item_Fat_Content</th>\n",
       "      <th>Item_Visibility</th>\n",
       "      <th>Item_Type</th>\n",
       "      <th>Item_MRP</th>\n",
       "      <th>Outlet_Identifier</th>\n",
       "      <th>Outlet_Establishment_Year</th>\n",
       "      <th>Outlet_Size</th>\n",
       "      <th>Outlet_Location_Type</th>\n",
       "      <th>Outlet_Type</th>\n",
       "      <th>Outlet_Type1</th>\n",
       "      <th>log_visibility</th>\n",
       "      <th>MRP_bin</th>\n",
       "      <th>Weight_bin</th>\n",
       "      <th>Item_Identifier_temp</th>\n",
       "      <th>Outlet_Existence</th>\n",
       "      <th>Outlet_Status</th>\n",
       "      <th>Calorie_Count_per_100g</th>\n",
       "      <th>Calorie_Count_per_givenwt</th>\n",
       "      <th>log_Calorie</th>\n",
       "      <th>Item_Frequency</th>\n",
       "    </tr>\n",
       "  </thead>\n",
       "  <tbody>\n",
       "    <tr>\n",
       "      <td>0</td>\n",
       "      <td>FDW58</td>\n",
       "      <td>1.736747</td>\n",
       "      <td>1</td>\n",
       "      <td>-1.243241</td>\n",
       "      <td>13</td>\n",
       "      <td>-0.536555</td>\n",
       "      <td>9</td>\n",
       "      <td>4</td>\n",
       "      <td>1</td>\n",
       "      <td>2</td>\n",
       "      <td>1</td>\n",
       "      <td>1</td>\n",
       "      <td>-2.497489</td>\n",
       "      <td>1</td>\n",
       "      <td>3</td>\n",
       "      <td>1</td>\n",
       "      <td>4</td>\n",
       "      <td>0</td>\n",
       "      <td>475</td>\n",
       "      <td>3.801758</td>\n",
       "      <td>2.733257</td>\n",
       "      <td>1</td>\n",
       "    </tr>\n",
       "    <tr>\n",
       "      <td>1</td>\n",
       "      <td>FDW14</td>\n",
       "      <td>-0.941252</td>\n",
       "      <td>2</td>\n",
       "      <td>-0.633748</td>\n",
       "      <td>4</td>\n",
       "      <td>-0.868937</td>\n",
       "      <td>2</td>\n",
       "      <td>7</td>\n",
       "      <td>0</td>\n",
       "      <td>1</td>\n",
       "      <td>1</td>\n",
       "      <td>1</td>\n",
       "      <td>-0.426634</td>\n",
       "      <td>0</td>\n",
       "      <td>0</td>\n",
       "      <td>1</td>\n",
       "      <td>7</td>\n",
       "      <td>1</td>\n",
       "      <td>46</td>\n",
       "      <td>-0.592113</td>\n",
       "      <td>-0.536060</td>\n",
       "      <td>1</td>\n",
       "    </tr>\n",
       "    <tr>\n",
       "      <td>2</td>\n",
       "      <td>NCN55</td>\n",
       "      <td>0.413880</td>\n",
       "      <td>0</td>\n",
       "      <td>0.573814</td>\n",
       "      <td>11</td>\n",
       "      <td>1.629848</td>\n",
       "      <td>0</td>\n",
       "      <td>3</td>\n",
       "      <td>0</td>\n",
       "      <td>0</td>\n",
       "      <td>0</td>\n",
       "      <td>0</td>\n",
       "      <td>0.786537</td>\n",
       "      <td>3</td>\n",
       "      <td>2</td>\n",
       "      <td>2</td>\n",
       "      <td>3</td>\n",
       "      <td>0</td>\n",
       "      <td>0</td>\n",
       "      <td>-0.769176</td>\n",
       "      <td>-1.337192</td>\n",
       "      <td>0</td>\n",
       "    </tr>\n",
       "    <tr>\n",
       "      <td>3</td>\n",
       "      <td>FDQ58</td>\n",
       "      <td>-1.153126</td>\n",
       "      <td>1</td>\n",
       "      <td>-1.088738</td>\n",
       "      <td>13</td>\n",
       "      <td>0.226697</td>\n",
       "      <td>2</td>\n",
       "      <td>7</td>\n",
       "      <td>0</td>\n",
       "      <td>1</td>\n",
       "      <td>1</td>\n",
       "      <td>1</td>\n",
       "      <td>-1.592703</td>\n",
       "      <td>2</td>\n",
       "      <td>0</td>\n",
       "      <td>1</td>\n",
       "      <td>7</td>\n",
       "      <td>1</td>\n",
       "      <td>475</td>\n",
       "      <td>0.842216</td>\n",
       "      <td>1.079606</td>\n",
       "      <td>1</td>\n",
       "    </tr>\n",
       "    <tr>\n",
       "      <td>4</td>\n",
       "      <td>FDY38</td>\n",
       "      <td>0.198780</td>\n",
       "      <td>2</td>\n",
       "      <td>0.949517</td>\n",
       "      <td>4</td>\n",
       "      <td>1.508110</td>\n",
       "      <td>5</td>\n",
       "      <td>0</td>\n",
       "      <td>1</td>\n",
       "      <td>0</td>\n",
       "      <td>2</td>\n",
       "      <td>1</td>\n",
       "      <td>1.009312</td>\n",
       "      <td>3</td>\n",
       "      <td>2</td>\n",
       "      <td>1</td>\n",
       "      <td>0</td>\n",
       "      <td>0</td>\n",
       "      <td>46</td>\n",
       "      <td>-0.479048</td>\n",
       "      <td>-0.311694</td>\n",
       "      <td>1</td>\n",
       "    </tr>\n",
       "  </tbody>\n",
       "</table>\n",
       "</div>"
      ],
      "text/plain": [
       "  Item_Identifier  Item_Weight  Item_Fat_Content  Item_Visibility  Item_Type  \\\n",
       "0           FDW58     1.736747                 1        -1.243241         13   \n",
       "1           FDW14    -0.941252                 2        -0.633748          4   \n",
       "2           NCN55     0.413880                 0         0.573814         11   \n",
       "3           FDQ58    -1.153126                 1        -1.088738         13   \n",
       "4           FDY38     0.198780                 2         0.949517          4   \n",
       "\n",
       "   Item_MRP  Outlet_Identifier  Outlet_Establishment_Year  Outlet_Size  \\\n",
       "0 -0.536555                  9                          4            1   \n",
       "1 -0.868937                  2                          7            0   \n",
       "2  1.629848                  0                          3            0   \n",
       "3  0.226697                  2                          7            0   \n",
       "4  1.508110                  5                          0            1   \n",
       "\n",
       "   Outlet_Location_Type  Outlet_Type  Outlet_Type1  log_visibility MRP_bin  \\\n",
       "0                     2            1             1       -2.497489       1   \n",
       "1                     1            1             1       -0.426634       0   \n",
       "2                     0            0             0        0.786537       3   \n",
       "3                     1            1             1       -1.592703       2   \n",
       "4                     0            2             1        1.009312       3   \n",
       "\n",
       "  Weight_bin  Item_Identifier_temp  Outlet_Existence  Outlet_Status  \\\n",
       "0          3                     1                 4              0   \n",
       "1          0                     1                 7              1   \n",
       "2          2                     2                 3              0   \n",
       "3          0                     1                 7              1   \n",
       "4          2                     1                 0              0   \n",
       "\n",
       "   Calorie_Count_per_100g  Calorie_Count_per_givenwt  log_Calorie  \\\n",
       "0                     475                   3.801758     2.733257   \n",
       "1                      46                  -0.592113    -0.536060   \n",
       "2                       0                  -0.769176    -1.337192   \n",
       "3                     475                   0.842216     1.079606   \n",
       "4                      46                  -0.479048    -0.311694   \n",
       "\n",
       "   Item_Frequency  \n",
       "0               1  \n",
       "1               1  \n",
       "2               0  \n",
       "3               1  \n",
       "4               1  "
      ]
     },
     "execution_count": 112,
     "metadata": {},
     "output_type": "execute_result"
    }
   ],
   "source": [
    "from sklearn.preprocessing import StandardScaler\n",
    "scaler=StandardScaler()\n",
    "df_test[['Item_Weight','Item_MRP','Item_Visibility','log_visibility','Calorie_Count_per_givenwt','log_Calorie']]=scaler.fit_transform(df_test[['Item_Weight','Item_MRP','Item_Visibility','log_visibility','Calorie_Count_per_givenwt','log_Calorie']])\n",
    "df_test.head()"
   ]
  },
  {
   "cell_type": "code",
   "execution_count": 113,
   "metadata": {
    "scrolled": true
   },
   "outputs": [
    {
     "data": {
      "text/html": [
       "<div>\n",
       "<style scoped>\n",
       "    .dataframe tbody tr th:only-of-type {\n",
       "        vertical-align: middle;\n",
       "    }\n",
       "\n",
       "    .dataframe tbody tr th {\n",
       "        vertical-align: top;\n",
       "    }\n",
       "\n",
       "    .dataframe thead th {\n",
       "        text-align: right;\n",
       "    }\n",
       "</style>\n",
       "<table border=\"1\" class=\"dataframe\">\n",
       "  <thead>\n",
       "    <tr style=\"text-align: right;\">\n",
       "      <th></th>\n",
       "      <th>Item_Identifier</th>\n",
       "      <th>Item_Weight</th>\n",
       "      <th>Item_Fat_Content</th>\n",
       "      <th>Item_Visibility</th>\n",
       "      <th>Item_Type</th>\n",
       "      <th>Item_MRP</th>\n",
       "      <th>Outlet_Identifier</th>\n",
       "      <th>Outlet_Establishment_Year</th>\n",
       "      <th>Outlet_Size</th>\n",
       "      <th>Outlet_Location_Type</th>\n",
       "      <th>Outlet_Type</th>\n",
       "      <th>Item_Outlet_Sales</th>\n",
       "      <th>Outlet_Type1</th>\n",
       "      <th>log_visibility</th>\n",
       "      <th>MRP_bin</th>\n",
       "      <th>Weight_bin</th>\n",
       "      <th>Item_Identifier_temp</th>\n",
       "      <th>Outlet_Existence</th>\n",
       "      <th>Outlet_Status</th>\n",
       "      <th>Calorie_Count_per_100g</th>\n",
       "      <th>Calorie_Count_per_givenwt</th>\n",
       "      <th>log_Calorie</th>\n",
       "      <th>Item_Frequency</th>\n",
       "    </tr>\n",
       "  </thead>\n",
       "  <tbody>\n",
       "    <tr>\n",
       "      <td>0</td>\n",
       "      <td>FDA15</td>\n",
       "      <td>-0.769777</td>\n",
       "      <td>1</td>\n",
       "      <td>-1.116779</td>\n",
       "      <td>4</td>\n",
       "      <td>1.747454</td>\n",
       "      <td>9</td>\n",
       "      <td>4</td>\n",
       "      <td>1</td>\n",
       "      <td>2</td>\n",
       "      <td>1</td>\n",
       "      <td>3735.1380</td>\n",
       "      <td>1</td>\n",
       "      <td>-1.537026</td>\n",
       "      <td>3</td>\n",
       "      <td>1</td>\n",
       "      <td>1</td>\n",
       "      <td>4</td>\n",
       "      <td>0</td>\n",
       "      <td>46</td>\n",
       "      <td>-0.575488</td>\n",
       "      <td>-0.501452</td>\n",
       "      <td>1</td>\n",
       "    </tr>\n",
       "    <tr>\n",
       "      <td>1</td>\n",
       "      <td>DRC01</td>\n",
       "      <td>-1.497482</td>\n",
       "      <td>2</td>\n",
       "      <td>-1.050031</td>\n",
       "      <td>14</td>\n",
       "      <td>-1.489023</td>\n",
       "      <td>3</td>\n",
       "      <td>8</td>\n",
       "      <td>1</td>\n",
       "      <td>0</td>\n",
       "      <td>2</td>\n",
       "      <td>443.4228</td>\n",
       "      <td>1</td>\n",
       "      <td>-1.304361</td>\n",
       "      <td>0</td>\n",
       "      <td>0</td>\n",
       "      <td>0</td>\n",
       "      <td>8</td>\n",
       "      <td>1</td>\n",
       "      <td>51</td>\n",
       "      <td>-0.632793</td>\n",
       "      <td>-0.636132</td>\n",
       "      <td>0</td>\n",
       "    </tr>\n",
       "    <tr>\n",
       "      <td>2</td>\n",
       "      <td>FDN15</td>\n",
       "      <td>0.995659</td>\n",
       "      <td>1</td>\n",
       "      <td>-1.102054</td>\n",
       "      <td>10</td>\n",
       "      <td>0.010040</td>\n",
       "      <td>9</td>\n",
       "      <td>4</td>\n",
       "      <td>1</td>\n",
       "      <td>2</td>\n",
       "      <td>1</td>\n",
       "      <td>2097.2700</td>\n",
       "      <td>1</td>\n",
       "      <td>-1.481904</td>\n",
       "      <td>1</td>\n",
       "      <td>3</td>\n",
       "      <td>1</td>\n",
       "      <td>4</td>\n",
       "      <td>0</td>\n",
       "      <td>143</td>\n",
       "      <td>0.368980</td>\n",
       "      <td>0.693336</td>\n",
       "      <td>0</td>\n",
       "    </tr>\n",
       "    <tr>\n",
       "      <td>3</td>\n",
       "      <td>FDX07</td>\n",
       "      <td>1.361665</td>\n",
       "      <td>2</td>\n",
       "      <td>1.090929</td>\n",
       "      <td>6</td>\n",
       "      <td>0.660050</td>\n",
       "      <td>0</td>\n",
       "      <td>3</td>\n",
       "      <td>0</td>\n",
       "      <td>0</td>\n",
       "      <td>0</td>\n",
       "      <td>732.3800</td>\n",
       "      <td>0</td>\n",
       "      <td>1.045283</td>\n",
       "      <td>2</td>\n",
       "      <td>3</td>\n",
       "      <td>1</td>\n",
       "      <td>3</td>\n",
       "      <td>0</td>\n",
       "      <td>65</td>\n",
       "      <td>-0.202108</td>\n",
       "      <td>0.094838</td>\n",
       "      <td>1</td>\n",
       "    </tr>\n",
       "    <tr>\n",
       "      <td>4</td>\n",
       "      <td>NCD19</td>\n",
       "      <td>-0.849437</td>\n",
       "      <td>0</td>\n",
       "      <td>-1.175258</td>\n",
       "      <td>9</td>\n",
       "      <td>-1.399220</td>\n",
       "      <td>1</td>\n",
       "      <td>1</td>\n",
       "      <td>2</td>\n",
       "      <td>0</td>\n",
       "      <td>1</td>\n",
       "      <td>994.7052</td>\n",
       "      <td>1</td>\n",
       "      <td>-1.783170</td>\n",
       "      <td>0</td>\n",
       "      <td>1</td>\n",
       "      <td>2</td>\n",
       "      <td>1</td>\n",
       "      <td>0</td>\n",
       "      <td>0</td>\n",
       "      <td>-0.770236</td>\n",
       "      <td>-1.343673</td>\n",
       "      <td>1</td>\n",
       "    </tr>\n",
       "  </tbody>\n",
       "</table>\n",
       "</div>"
      ],
      "text/plain": [
       "  Item_Identifier  Item_Weight  Item_Fat_Content  Item_Visibility  Item_Type  \\\n",
       "0           FDA15    -0.769777                 1        -1.116779          4   \n",
       "1           DRC01    -1.497482                 2        -1.050031         14   \n",
       "2           FDN15     0.995659                 1        -1.102054         10   \n",
       "3           FDX07     1.361665                 2         1.090929          6   \n",
       "4           NCD19    -0.849437                 0        -1.175258          9   \n",
       "\n",
       "   Item_MRP  Outlet_Identifier  Outlet_Establishment_Year  Outlet_Size  \\\n",
       "0  1.747454                  9                          4            1   \n",
       "1 -1.489023                  3                          8            1   \n",
       "2  0.010040                  9                          4            1   \n",
       "3  0.660050                  0                          3            0   \n",
       "4 -1.399220                  1                          1            2   \n",
       "\n",
       "   Outlet_Location_Type  Outlet_Type  Item_Outlet_Sales  Outlet_Type1  \\\n",
       "0                     2            1          3735.1380             1   \n",
       "1                     0            2           443.4228             1   \n",
       "2                     2            1          2097.2700             1   \n",
       "3                     0            0           732.3800             0   \n",
       "4                     0            1           994.7052             1   \n",
       "\n",
       "   log_visibility MRP_bin Weight_bin  Item_Identifier_temp  Outlet_Existence  \\\n",
       "0       -1.537026       3          1                     1                 4   \n",
       "1       -1.304361       0          0                     0                 8   \n",
       "2       -1.481904       1          3                     1                 4   \n",
       "3        1.045283       2          3                     1                 3   \n",
       "4       -1.783170       0          1                     2                 1   \n",
       "\n",
       "   Outlet_Status  Calorie_Count_per_100g  Calorie_Count_per_givenwt  \\\n",
       "0              0                      46                  -0.575488   \n",
       "1              1                      51                  -0.632793   \n",
       "2              0                     143                   0.368980   \n",
       "3              0                      65                  -0.202108   \n",
       "4              0                       0                  -0.770236   \n",
       "\n",
       "   log_Calorie  Item_Frequency  \n",
       "0    -0.501452               1  \n",
       "1    -0.636132               0  \n",
       "2     0.693336               0  \n",
       "3     0.094838               1  \n",
       "4    -1.343673               1  "
      ]
     },
     "execution_count": 113,
     "metadata": {},
     "output_type": "execute_result"
    }
   ],
   "source": [
    "from sklearn.preprocessing import StandardScaler\n",
    "scaler=StandardScaler()\n",
    "df[['Item_Weight','Item_MRP','Item_Visibility','log_visibility','Calorie_Count_per_givenwt','log_Calorie']]=scaler.fit_transform(df[['Item_Weight','Item_MRP','Item_Visibility','log_visibility','Calorie_Count_per_givenwt','log_Calorie']])\n",
    "df.head()"
   ]
  },
  {
   "cell_type": "code",
   "execution_count": 229,
   "metadata": {},
   "outputs": [],
   "source": [
    "X1=df[[ 'Calorie_Count_per_givenwt','Item_Visibility', 'Item_MRP','Outlet_Existence','Outlet_Type']]\n",
    "y1=df['Item_Outlet_Sales']"
   ]
  },
  {
   "cell_type": "code",
   "execution_count": 230,
   "metadata": {},
   "outputs": [],
   "source": [
    "XX=df_test[[ 'Calorie_Count_per_givenwt','Item_Visibility', 'Item_MRP','Outlet_Existence','Outlet_Type']]"
   ]
  },
  {
   "cell_type": "markdown",
   "metadata": {},
   "source": [
    "# Finally this is our best model and best set of hyperparameters"
   ]
  },
  {
   "cell_type": "code",
   "execution_count": 231,
   "metadata": {},
   "outputs": [],
   "source": [
    " from sklearn.ensemble import BaggingRegressor\n",
    "bc=BaggingRegressor(GradientBoostingRegressor(random_state=7),random_state=4,n_estimators=5)\n",
    "bc.fit(X1,y1)\n",
    "predd=bc.predict(XX)\n",
    "predd=np.where(predd>0,predd,100)\n",
    "predd=pd.DataFrame(predd,columns=['Item_Outlet_Sales'])"
   ]
  },
  {
   "cell_type": "code",
   "execution_count": 233,
   "metadata": {},
   "outputs": [],
   "source": [
    "predd.to_csv('C:\\\\Users\\\\User-1\\\\Desktop\\\\final2.csv')"
   ]
  },
  {
   "cell_type": "markdown",
   "metadata": {},
   "source": [
    "In this competition we have current rank of 121"
   ]
  },
  {
   "cell_type": "code",
   "execution_count": null,
   "metadata": {},
   "outputs": [],
   "source": []
  }
 ],
 "metadata": {
  "kernelspec": {
   "display_name": "Python 3",
   "language": "python",
   "name": "python3"
  },
  "language_info": {
   "codemirror_mode": {
    "name": "ipython",
    "version": 3
   },
   "file_extension": ".py",
   "mimetype": "text/x-python",
   "name": "python",
   "nbconvert_exporter": "python",
   "pygments_lexer": "ipython3",
   "version": "3.7.4"
  }
 },
 "nbformat": 4,
 "nbformat_minor": 2
}
